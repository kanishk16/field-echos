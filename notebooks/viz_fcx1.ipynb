{
 "cells": [
  {
   "cell_type": "code",
   "execution_count": 1,
   "metadata": {},
   "outputs": [],
   "source": [
    "%matplotlib inline\n",
    "%load_ext autoreload\n",
    "%autoreload 2\n",
    "\n",
    "import os, sys\n",
    "import numpy as np\n",
    "import scipy as sp\n",
    "import pandas as pd\n",
    "import matplotlib.pyplot as plt\n",
    "from scipy import stats, io\n",
    "from fooof import FOOOFGroup\n",
    "\n",
    "import warnings\n",
    "warnings.filterwarnings(\"ignore\")\n",
    "\n",
    "sys.path.append('../')\n",
    "import utils\n",
    "\n",
    "font = {'family' : 'arial',\n",
    "        'weight' : 'regular',\n",
    "        'size'   : 14}\n",
    "\n",
    "import matplotlib\n",
    "matplotlib.rc('font', **font)\n",
    "C_ORD = plt.rcParams['axes.prop_cycle'].by_key()['color']"
   ]
  },
  {
   "cell_type": "markdown",
   "metadata": {},
   "source": [
    "# Collect fooof results and electrode info into Dataframe"
   ]
  },
  {
   "cell_type": "code",
   "execution_count": 11,
   "metadata": {},
   "outputs": [],
   "source": [
    "basepath = '/Users/rdgao/Documents/data/CRCNS/fcx1/'\n",
    "result_basepath = '/Users/rdgao/Documents/code/research/field-echos/results/fcx1/wakesleep/'\n",
    "session_resultpath = np.sort([f for f in os.listdir(result_basepath) if os.path.isdir(result_basepath+f)])"
   ]
  },
  {
   "cell_type": "code",
   "execution_count": 58,
   "metadata": {},
   "outputs": [],
   "source": [
    "meta_cols = ['rec', 'subj', 'block','cond', 'region', 'shank', 'elec']\n",
    "ff_cols = ['exp', 'knee', 'tau','log_tau','err', 'r2']\n",
    "\n",
    "def return_feature_df(win_len, p_cur, fg_param_to_load, plot_fits=False):\n",
    "    df_combined = pd.DataFrame()\n",
    "\n",
    "    if plot_fits: plt.figure(figsize=(5,5))\n",
    "    for rec, s in enumerate(session_resultpath):\n",
    "        # construct channel metainfo and behavioral table\n",
    "        psd_data = np.load(result_basepath+s+'/psd/'+win_len+'/psds.npz')\n",
    "        behav_info = psd_data['behav_info']\n",
    "        ephys_data = io.loadmat(basepath+s+'/'+s+'_ephys.mat', squeeze_me=True, variable_names=['elec_shank_map', 'elec_regions'])        \n",
    "        num_block, num_chan = psd_data[p_cur].shape[:2]\n",
    "\n",
    "        # load fooof results\n",
    "        fooof_folder = result_basepath + s +'/psd/'+win_len+'/fooof/'+p_cur+'/'  \n",
    "        ff_list = [ff for ff in os.listdir(fooof_folder) if '.json' in ff]\n",
    "        ff_file = ff_list[[fg_param_to_load in f for f in ff_list].index(True)] # load specific fooof file\n",
    "\n",
    "        # return fooof fits and convert knee to tau\n",
    "        fg_aps, fg_pks, fg_err, fg_r2s = utils.return_fg_fits(ff_file, fooof_folder)\n",
    "        if fg_aps.shape[1]==3:\n",
    "            knee_freq, knee_tau = utils.convert_knee_val(fg_aps[:,1],fg_aps[:,2])\n",
    "            knee = fg_aps[:,1]\n",
    "        else:\n",
    "            knee_tau = np.zeros_like(fg_aps[:,0])\n",
    "            knee = np.zeros_like(fg_aps[:,0])\n",
    "\n",
    "        # append to dataframe block-wise\n",
    "        df_data = np.vstack((fg_aps[:,-1], knee, knee_tau, np.log10(knee_tau), fg_err, fg_r2s)).T\n",
    "        df_data = df_data.astype(float)\n",
    "        for b in range(num_block):\n",
    "            meta_data = np.hstack([np.repeat(np.array([rec,s.split('_')[0],b,behav_info[b,0]])[None,:],num_chan, axis=0),ephys_data['elec_regions'][:,None], ephys_data['elec_shank_map']])\n",
    "            df_sesh = pd.DataFrame(np.hstack((meta_data,df_data[b*num_chan:(b+1)*num_chan,:])), columns=meta_cols+ff_cols)\n",
    "            df_combined=df_combined.append(df_sesh, ignore_index=True)\n",
    "\n",
    "        # plot psds and fits\n",
    "        if plot_fits:\n",
    "            fit_fig_path = utils.makedir(fooof_folder, '/plts/', False)\n",
    "            f_axis = psd_data['f_axis']\n",
    "            psds = np.reshape(psd_data[p_cur],[-1,len(f_axis)])\n",
    "            fg_labels = [f.split('.')[0][3:] for f in ff_list]\n",
    "            # grab fgs\n",
    "            fg_all=[]\n",
    "            for ff in ff_list:\n",
    "                fg_dummy = FOOOFGroup()\n",
    "                fg_dummy.load(fooof_folder+ff)\n",
    "                fg_all.append(fg_dummy)\n",
    "            # plot\n",
    "            for chan in range(num_chan*num_block):\n",
    "                utils.plot_psd_fits(f_axis, psds, chan, fg_all, fg_labels)\n",
    "                fig_name = win_len+'_'+'_'.join([p_cur]+df_combined.iloc[-num_chan*num_block:][meta_cols].iloc[chan].astype(str).tolist())\n",
    "                plt.savefig(fit_fig_path+fig_name)\n",
    "                plt.clf()\n",
    "\n",
    "    # turn data columns into floats & drop nans\n",
    "    df_combined[ff_cols]=df_combined[ff_cols].astype(float)\n",
    "    return df_combined"
   ]
  },
  {
   "cell_type": "code",
   "execution_count": 59,
   "metadata": {},
   "outputs": [],
   "source": [
    "plot_fits = False # change this to true to plot fits with PSDs, only need to do this once\n",
    "# run these once to generate all the plots\n",
    "if plot_fits:\n",
    "    return_feature_df('1sec', 'psd_mean', 'knee', True).dropna()\n",
    "    return_feature_df('1sec', 'psd_med', 'knee', True).dropna()\n",
    "    return_feature_df('5sec', 'psd_mean', 'knee', True).dropna()\n",
    "    return_feature_df('5sec', 'psd_med', 'knee', True).dropna()"
   ]
  },
  {
   "cell_type": "code",
   "execution_count": 116,
   "metadata": {},
   "outputs": [],
   "source": [
    "df_combined = return_feature_df('1sec', 'psd_med', 'knee')\n",
    "#df_combined = return_feature_df('1sec', 'psd_med', 'fg_fixed_2pks_30-55Hz')"
   ]
  },
  {
   "cell_type": "markdown",
   "metadata": {},
   "source": [
    "# Per-channel tau-exp correlation & Wake-Sleep changes"
   ]
  },
  {
   "cell_type": "code",
   "execution_count": 117,
   "metadata": {},
   "outputs": [
    {
     "data": {
      "image/png": "[encoded data removed]",
      "text/plain": [
       "<matplotlib.figure.Figure at 0x1a18f73390>"
      ]
     },
     "metadata": {},
     "output_type": "display_data"
    }
   ],
   "source": [
    "tau_wakesleep = np.array([df_combined[df_combined['cond']=='Wake']['tau'], df_combined[df_combined['cond']=='Sleep']['tau']])\n",
    "exp_wakesleep = np.array([df_combined[df_combined['cond']=='Wake']['exp'], df_combined[df_combined['cond']=='Sleep']['exp']])\n",
    "plt.figure(figsize=(15,5))\n",
    "\n",
    "plt.subplot(1,3,1)\n",
    "plt.semilogx(tau_wakesleep[0], exp_wakesleep[0], '.', label='Wake')\n",
    "plt.semilogx(tau_wakesleep[1], exp_wakesleep[1], '.', label='Sleep')\n",
    "plt.semilogx(tau_wakesleep, exp_wakesleep, 'k-', alpha=0.1)\n",
    "utils.remove_spines(plt.gca())\n",
    "\n",
    "for cond in df_combined['cond'].unique()[:2]:\n",
    "    df_plot = df_combined[df_combined['cond']==cond]\n",
    "    plt.subplot(1,3,2)\n",
    "    plt.semilogx(df_plot['tau'],df_plot['exp'],'.', alpha=0.5, label=cond)\n",
    "    plt.xlabel('tau'); plt.ylabel('exp'); utils.remove_spines(plt.gca())\n",
    "    # knee-exp\n",
    "    plt.subplot(1,3,3)\n",
    "    plt.semilogx(df_plot['knee'],df_plot['exp'],'.', alpha=0.5, label=cond)\n",
    "    plt.xlabel('knee'); plt.ylabel('exp'); utils.remove_spines(plt.gca())   \n",
    "\n",
    "plt.legend()\n",
    "plt.tight_layout()"
   ]
  },
  {
   "cell_type": "code",
   "execution_count": 118,
   "metadata": {},
   "outputs": [
    {
     "data": {
      "text/plain": [
       "<matplotlib.legend.Legend at 0x1a18fc7e80>"
      ]
     },
     "execution_count": 118,
     "metadata": {},
     "output_type": "execute_result"
    },
    {
     "data": {
      "image/png": "[encoded data removed]",
      "text/plain": [
       "<matplotlib.figure.Figure at 0x1a18fc72e8>"
      ]
     },
     "metadata": {},
     "output_type": "display_data"
    }
   ],
   "source": [
    "g_by = 'region'\n",
    "regions = ['MotorCtx', 'mPFC', 'OFC', 'ACC']\n",
    "\n",
    "plt.figure(figsize=(6,6))\n",
    "for g_i, g in df_combined[df_combined['cond']=='Wake'].groupby(g_by):        \n",
    "    plt.semilogx(g['tau'], g['exp'], 'o', label=g_i, alpha=0.5, color=C_ORD[regions.index(g_i)] if g_by=='region' else None)\n",
    "plt.xlabel('tau'); plt.ylabel('exp'); utils.remove_spines(plt.gca()); plt.title('Group by '+g_by)\n",
    "plt.legend(loc='best', handletextpad=0.2, bbox_to_anchor=[1.0,1.0])"
   ]
  },
  {
   "cell_type": "markdown",
   "metadata": {},
   "source": [
    "# plot tau per region"
   ]
  },
  {
   "cell_type": "code",
   "execution_count": 121,
   "metadata": {},
   "outputs": [
    {
     "data": {
      "image/png": "[encoded data removed]",
      "text/plain": [
       "<matplotlib.figure.Figure at 0x1a18ef3f60>"
      ]
     },
     "metadata": {},
     "output_type": "display_data"
    }
   ],
   "source": [
    "df_combined = df_combined.dropna()\n",
    "log_y = True\n",
    "mean_funcs = [np.mean, np.median, sp.stats.gmean, np.std]\n",
    "mean_func = mean_funcs[1]\n",
    "feature = 'tau'\n",
    "agg_labels = ['region', 'rec']\n",
    "agg_region = df_combined[df_combined['cond']=='Wake'].groupby(agg_labels)[ff_cols].agg(mean_func)\n",
    "\n",
    "plt.figure(figsize=(5,5))\n",
    "for g_i, g in agg_region.groupby(['region']):\n",
    "    x_val = regions.index(g_i)\n",
    "    plt.plot([x_val]*len(g), g[feature], '.', color=C_ORD[x_val])\n",
    "    plt.plot(x_val, g.apply(mean_funcs[0])[feature], 'o', color=C_ORD[x_val],alpha=0.5)\n",
    "    if log_y: plt.yscale('log')\n",
    "plt.xticks(range(len(regions)), regions); plt.ylabel(feature)\n",
    "plt.title(mean_func.__name__ + ' ' + feature + '; '+ '<-'.join(agg_labels))\n",
    "utils.remove_spines(plt.gca())"
   ]
  },
  {
   "cell_type": "code",
   "execution_count": null,
   "metadata": {
    "collapsed": true
   },
   "outputs": [],
   "source": []
  },
  {
   "cell_type": "markdown",
   "metadata": {},
   "source": [
    "# Visualize Spiking Data"
   ]
  },
  {
   "cell_type": "code",
   "execution_count": 79,
   "metadata": {},
   "outputs": [],
   "source": [
    "def return_spiking_feature_df(win_len, p_cur, fg_param_to_load, plot_fits=False):\n",
    "    meta_cols = ['rec', 'subj', 'block','cond', 'region']\n",
    "    ff_cols = ['exp', 'knee', 'tau','log_tau','err', 'r2']\n",
    "    cell_cols =['cell_EI_type','cell_id','num_spikes','shank','lfp_chan_ind']\n",
    "\n",
    "    if plot_fits: plt.figure(figsize=(5,5))\n",
    "    df_combined = pd.DataFrame()\n",
    "    \n",
    "    for rec, s in enumerate(session_resultpath):\n",
    "        # construct channel metainfo and behavioral table\n",
    "        psd_spikes_data = np.load(result_basepath+s+'/psd_spikes/'+win_len+'/psds.npz')\n",
    "        behav_info = psd_spikes_data['behav_info']\n",
    "        ephys_data = io.loadmat(basepath+s+'/'+s+'_ephys.mat', squeeze_me=True, variable_names=['elec_shank_map', 'elec_regions'])\n",
    "        df_spkinfo_pop = pd.read_csv(result_basepath+s+'/psd_spikes/pop_spike_info.csv', index_col=0)\n",
    "        num_block = psd_spikes_data[p_cur].shape[0]\n",
    "        num_cell = len(df_spkinfo_pop)\n",
    "\n",
    "        # load fooof results\n",
    "        fooof_folder = result_basepath + s +'/psd_spikes/'+win_len+'/fooof/'+p_cur+'/'  \n",
    "        ff_list = [ff for ff in os.listdir(fooof_folder) if '.json' in ff]\n",
    "        ff_file = ff_list[[fg_param_to_load in f for f in ff_list].index(True)] # load specific fooof file\n",
    "\n",
    "        # return fooof fits and convert knee to tau\n",
    "        fg_aps, fg_pks, fg_err, fg_r2s = utils.return_fg_fits(ff_file, fooof_folder)\n",
    "        if fg_aps.shape[1]==3:\n",
    "            knee_freq, knee_tau = utils.convert_knee_val(fg_aps[:,1],fg_aps[:,2])\n",
    "            knee = fg_aps[:,1]\n",
    "        else:\n",
    "            knee_tau = np.zeros_like(fg_aps[:,0])\n",
    "            knee = np.zeros_like(fg_aps[:,0])\n",
    "\n",
    "        # append to dataframe block-wise\n",
    "        df_data = np.vstack((fg_aps[:,-1], knee, knee_tau, np.log10(knee_tau), fg_err, fg_r2s)).T\n",
    "        df_data = pd.DataFrame(df_data.astype(float), columns=ff_cols)\n",
    "                \n",
    "        # append lfp channel number and various other meta data for easier access later\n",
    "        lfp_chan_ind = np.nan*np.ones(num_cell)\n",
    "        for i, shank in enumerate(df_spkinfo_pop['shank'].values):\n",
    "            lfp_chan = np.where(ephys_data['elec_shank_map'][:,0]==shank)[0]\n",
    "            if len(lfp_chan): lfp_chan_ind[i]=lfp_chan[0]\n",
    "        df_spkinfo_pop.insert(len(df_spkinfo_pop.columns), 'lfp_chan_ind', lfp_chan_ind)\n",
    "\n",
    "        df_rec = pd.DataFrame()\n",
    "        for b in range(num_block):\n",
    "            meta_data = np.hstack([np.repeat(np.array([rec,s.split('_')[0],b,behav_info[b,1], ephys_data['elec_regions'][0]])[None,:],num_cell, axis=0)])\n",
    "            df_meta = pd.concat([pd.DataFrame(meta_data, columns=meta_cols[:5]), df_spkinfo_pop[cell_cols].reset_index(drop=True)], axis=1, join='outer')\n",
    "            df_rec = df_rec.append(df_meta, ignore_index=True)\n",
    "\n",
    "        df_rec = pd.concat([df_rec, df_data.reset_index(drop=True)], axis=1)\n",
    "        df_combined = df_combined.append(df_rec, ignore_index=True)\n",
    "\n",
    "        # plot psds and fits\n",
    "        if plot_fits:\n",
    "            fit_fig_path = utils.makedir(fooof_folder, '/plts/', False)\n",
    "            f_axis = psd_spikes_data['f_axis']\n",
    "            psds = np.reshape(psd_spikes_data[p_cur][:, -num_cell:,:],[-1,len(f_axis)])\n",
    "            fg_labels = [f.split('.')[0][3:] for f in ff_list]\n",
    "            # grab fgs\n",
    "            fg_all=[]\n",
    "            for ff in ff_list:\n",
    "                fg_dummy = FOOOFGroup()\n",
    "                fg_dummy.load(fooof_folder+ff)\n",
    "                fg_all.append(fg_dummy)\n",
    "            # plot\n",
    "            for chan in range(num_cell*num_block):\n",
    "                utils.plot_psd_fits(f_axis[f_axis<=80.], psds[:, f_axis<=80.], chan, fg_all, fg_labels)\n",
    "                fig_name = win_len+'_'+'_'.join([p_cur]+df_rec[meta_cols+[cell_cols[0],cell_cols[3]]].iloc[chan].astype(str).tolist())\n",
    "                plt.savefig(fit_fig_path+fig_name)\n",
    "                plt.clf()\n",
    "\n",
    "    return df_combined"
   ]
  },
  {
   "cell_type": "code",
   "execution_count": 22,
   "metadata": {
    "collapsed": true
   },
   "outputs": [
    {
     "name": "stdout",
     "output_type": "stream",
     "text": [
      "20140526_277um\n",
      "20140527_421um\n",
      "20140528_565um\n",
      "BWRat17_121712\n",
      "BWRat17_121912\n",
      "BWRat18_020513\n",
      "BWRat19_032413\n",
      "BWRat19_032513\n",
      "BWRat20_101013\n",
      "BWRat20_101513\n",
      "BWRat21_121113\n",
      "/Users/rdgao/Documents/code/research/field-echos/results/fcx1/wakesleep/BWRat21_121113/psd_spikes//2sec/fooof/psd_mean//plts/\n",
      "BWRat21_121613\n",
      "/Users/rdgao/Documents/code/research/field-echos/results/fcx1/wakesleep/BWRat21_121613/psd_spikes//2sec/fooof/psd_mean//plts/\n",
      "BWRat21_121813\n",
      "/Users/rdgao/Documents/code/research/field-echos/results/fcx1/wakesleep/BWRat21_121813/psd_spikes//2sec/fooof/psd_mean//plts/\n",
      "Bogey_012615\n",
      "/Users/rdgao/Documents/code/research/field-echos/results/fcx1/wakesleep/Bogey_012615/psd_spikes//2sec/fooof/psd_mean//plts/\n",
      "Dino_061814_mPFC\n",
      "/Users/rdgao/Documents/code/research/field-echos/results/fcx1/wakesleep/Dino_061814_mPFC/psd_spikes//2sec/fooof/psd_mean//plts/\n",
      "Dino_061914_ACC\n",
      "/Users/rdgao/Documents/code/research/field-echos/results/fcx1/wakesleep/Dino_061914_ACC/psd_spikes//2sec/fooof/psd_mean//plts/\n",
      "Dino_061914_mPFC\n",
      "/Users/rdgao/Documents/code/research/field-echos/results/fcx1/wakesleep/Dino_061914_mPFC/psd_spikes//2sec/fooof/psd_mean//plts/\n",
      "Dino_062014_ACC\n",
      "/Users/rdgao/Documents/code/research/field-echos/results/fcx1/wakesleep/Dino_062014_ACC/psd_spikes//2sec/fooof/psd_mean//plts/\n",
      "Dino_062014_mPFC\n",
      "/Users/rdgao/Documents/code/research/field-echos/results/fcx1/wakesleep/Dino_062014_mPFC/psd_spikes//2sec/fooof/psd_mean//plts/\n",
      "Dino_072114_mPFC\n",
      "/Users/rdgao/Documents/code/research/field-echos/results/fcx1/wakesleep/Dino_072114_mPFC/psd_spikes//2sec/fooof/psd_mean//plts/\n",
      "Dino_072314_mPFC\n",
      "/Users/rdgao/Documents/code/research/field-echos/results/fcx1/wakesleep/Dino_072314_mPFC/psd_spikes//2sec/fooof/psd_mean//plts/\n",
      "Dino_072414_mPFC\n",
      "/Users/rdgao/Documents/code/research/field-echos/results/fcx1/wakesleep/Dino_072414_mPFC/psd_spikes//2sec/fooof/psd_mean//plts/\n",
      "Rizzo_022615\n",
      "/Users/rdgao/Documents/code/research/field-echos/results/fcx1/wakesleep/Rizzo_022615/psd_spikes//2sec/fooof/psd_mean//plts/\n",
      "Rizzo_022715\n",
      "/Users/rdgao/Documents/code/research/field-echos/results/fcx1/wakesleep/Rizzo_022715/psd_spikes//2sec/fooof/psd_mean//plts/\n",
      "Splinter_020515\n",
      "/Users/rdgao/Documents/code/research/field-echos/results/fcx1/wakesleep/Splinter_020515/psd_spikes//2sec/fooof/psd_mean//plts/\n",
      "Splinter_020915\n",
      "/Users/rdgao/Documents/code/research/field-echos/results/fcx1/wakesleep/Splinter_020915/psd_spikes//2sec/fooof/psd_mean//plts/\n",
      "Templeton_032415\n",
      "/Users/rdgao/Documents/code/research/field-echos/results/fcx1/wakesleep/Templeton_032415/psd_spikes//2sec/fooof/psd_mean//plts/\n",
      "20140526_277um\n",
      "/Users/rdgao/Documents/code/research/field-echos/results/fcx1/wakesleep/20140526_277um/psd_spikes//5sec/fooof/psd_mean//plts/\n",
      "20140527_421um\n",
      "/Users/rdgao/Documents/code/research/field-echos/results/fcx1/wakesleep/20140527_421um/psd_spikes//5sec/fooof/psd_mean//plts/\n",
      "20140528_565um\n",
      "/Users/rdgao/Documents/code/research/field-echos/results/fcx1/wakesleep/20140528_565um/psd_spikes//5sec/fooof/psd_mean//plts/\n",
      "BWRat17_121712\n",
      "/Users/rdgao/Documents/code/research/field-echos/results/fcx1/wakesleep/BWRat17_121712/psd_spikes//5sec/fooof/psd_mean//plts/\n",
      "BWRat17_121912\n",
      "/Users/rdgao/Documents/code/research/field-echos/results/fcx1/wakesleep/BWRat17_121912/psd_spikes//5sec/fooof/psd_mean//plts/\n",
      "BWRat18_020513\n",
      "/Users/rdgao/Documents/code/research/field-echos/results/fcx1/wakesleep/BWRat18_020513/psd_spikes//5sec/fooof/psd_mean//plts/\n",
      "BWRat19_032413\n",
      "/Users/rdgao/Documents/code/research/field-echos/results/fcx1/wakesleep/BWRat19_032413/psd_spikes//5sec/fooof/psd_mean//plts/\n",
      "BWRat19_032513\n",
      "/Users/rdgao/Documents/code/research/field-echos/results/fcx1/wakesleep/BWRat19_032513/psd_spikes//5sec/fooof/psd_mean//plts/\n",
      "BWRat20_101013\n",
      "/Users/rdgao/Documents/code/research/field-echos/results/fcx1/wakesleep/BWRat20_101013/psd_spikes//5sec/fooof/psd_mean//plts/\n",
      "BWRat20_101513\n",
      "/Users/rdgao/Documents/code/research/field-echos/results/fcx1/wakesleep/BWRat20_101513/psd_spikes//5sec/fooof/psd_mean//plts/\n",
      "BWRat21_121113\n",
      "/Users/rdgao/Documents/code/research/field-echos/results/fcx1/wakesleep/BWRat21_121113/psd_spikes//5sec/fooof/psd_mean//plts/\n",
      "BWRat21_121613\n",
      "/Users/rdgao/Documents/code/research/field-echos/results/fcx1/wakesleep/BWRat21_121613/psd_spikes//5sec/fooof/psd_mean//plts/\n",
      "BWRat21_121813\n",
      "/Users/rdgao/Documents/code/research/field-echos/results/fcx1/wakesleep/BWRat21_121813/psd_spikes//5sec/fooof/psd_mean//plts/\n",
      "Bogey_012615\n",
      "/Users/rdgao/Documents/code/research/field-echos/results/fcx1/wakesleep/Bogey_012615/psd_spikes//5sec/fooof/psd_mean//plts/\n",
      "Dino_061814_mPFC\n",
      "/Users/rdgao/Documents/code/research/field-echos/results/fcx1/wakesleep/Dino_061814_mPFC/psd_spikes//5sec/fooof/psd_mean//plts/\n",
      "Dino_061914_ACC\n",
      "/Users/rdgao/Documents/code/research/field-echos/results/fcx1/wakesleep/Dino_061914_ACC/psd_spikes//5sec/fooof/psd_mean//plts/\n",
      "Dino_061914_mPFC\n",
      "/Users/rdgao/Documents/code/research/field-echos/results/fcx1/wakesleep/Dino_061914_mPFC/psd_spikes//5sec/fooof/psd_mean//plts/\n",
      "Dino_062014_ACC\n",
      "/Users/rdgao/Documents/code/research/field-echos/results/fcx1/wakesleep/Dino_062014_ACC/psd_spikes//5sec/fooof/psd_mean//plts/\n",
      "Dino_062014_mPFC\n",
      "/Users/rdgao/Documents/code/research/field-echos/results/fcx1/wakesleep/Dino_062014_mPFC/psd_spikes//5sec/fooof/psd_mean//plts/\n",
      "Dino_072114_mPFC\n",
      "/Users/rdgao/Documents/code/research/field-echos/results/fcx1/wakesleep/Dino_072114_mPFC/psd_spikes//5sec/fooof/psd_mean//plts/\n",
      "Dino_072314_mPFC\n",
      "/Users/rdgao/Documents/code/research/field-echos/results/fcx1/wakesleep/Dino_072314_mPFC/psd_spikes//5sec/fooof/psd_mean//plts/\n",
      "Dino_072414_mPFC\n",
      "/Users/rdgao/Documents/code/research/field-echos/results/fcx1/wakesleep/Dino_072414_mPFC/psd_spikes//5sec/fooof/psd_mean//plts/\n",
      "Rizzo_022615\n",
      "/Users/rdgao/Documents/code/research/field-echos/results/fcx1/wakesleep/Rizzo_022615/psd_spikes//5sec/fooof/psd_mean//plts/\n",
      "Rizzo_022715\n",
      "/Users/rdgao/Documents/code/research/field-echos/results/fcx1/wakesleep/Rizzo_022715/psd_spikes//5sec/fooof/psd_mean//plts/\n",
      "Splinter_020515\n",
      "/Users/rdgao/Documents/code/research/field-echos/results/fcx1/wakesleep/Splinter_020515/psd_spikes//5sec/fooof/psd_mean//plts/\n",
      "Splinter_020915\n",
      "/Users/rdgao/Documents/code/research/field-echos/results/fcx1/wakesleep/Splinter_020915/psd_spikes//5sec/fooof/psd_mean//plts/\n",
      "Templeton_032415\n",
      "/Users/rdgao/Documents/code/research/field-echos/results/fcx1/wakesleep/Templeton_032415/psd_spikes//5sec/fooof/psd_mean//plts/\n"
     ]
    },
    {
     "data": {
      "text/html": [
       "<div>\n",
       "<style>\n",
       "    .dataframe thead tr:only-child th {\n",
       "        text-align: right;\n",
       "    }\n",
       "\n",
       "    .dataframe thead th {\n",
       "        text-align: left;\n",
       "    }\n",
       "\n",
       "    .dataframe tbody tr th {\n",
       "        vertical-align: top;\n",
       "    }\n",
       "</style>\n",
       "<table border=\"1\" class=\"dataframe\">\n",
       "  <thead>\n",
       "    <tr style=\"text-align: right;\">\n",
       "      <th></th>\n",
       "      <th>rec</th>\n",
       "      <th>subj</th>\n",
       "      <th>block</th>\n",
       "      <th>cond</th>\n",
       "      <th>region</th>\n",
       "      <th>cell_EI_type</th>\n",
       "      <th>cell_id</th>\n",
       "      <th>num_spikes</th>\n",
       "      <th>shank</th>\n",
       "      <th>lfp_chan_ind</th>\n",
       "      <th>exp</th>\n",
       "      <th>knee</th>\n",
       "      <th>tau</th>\n",
       "      <th>log_tau</th>\n",
       "      <th>err</th>\n",
       "      <th>r2</th>\n",
       "    </tr>\n",
       "  </thead>\n",
       "  <tbody>\n",
       "    <tr>\n",
       "      <th>0</th>\n",
       "      <td>26</td>\n",
       "      <td>Templeton</td>\n",
       "      <td>0</td>\n",
       "      <td>Wake</td>\n",
       "      <td>mPFC</td>\n",
       "      <td>1</td>\n",
       "      <td>0</td>\n",
       "      <td>24029</td>\n",
       "      <td>1</td>\n",
       "      <td>0.0</td>\n",
       "      <td>0.330386</td>\n",
       "      <td>0.0</td>\n",
       "      <td>0.0</td>\n",
       "      <td>-inf</td>\n",
       "      <td>0.022871</td>\n",
       "      <td>0.897704</td>\n",
       "    </tr>\n",
       "    <tr>\n",
       "      <th>1</th>\n",
       "      <td>26</td>\n",
       "      <td>Templeton</td>\n",
       "      <td>0</td>\n",
       "      <td>Wake</td>\n",
       "      <td>mPFC</td>\n",
       "      <td>1</td>\n",
       "      <td>0</td>\n",
       "      <td>44848</td>\n",
       "      <td>2</td>\n",
       "      <td>1.0</td>\n",
       "      <td>0.159635</td>\n",
       "      <td>0.0</td>\n",
       "      <td>0.0</td>\n",
       "      <td>-inf</td>\n",
       "      <td>0.013898</td>\n",
       "      <td>0.817704</td>\n",
       "    </tr>\n",
       "    <tr>\n",
       "      <th>2</th>\n",
       "      <td>26</td>\n",
       "      <td>Templeton</td>\n",
       "      <td>0</td>\n",
       "      <td>Wake</td>\n",
       "      <td>mPFC</td>\n",
       "      <td>1</td>\n",
       "      <td>0</td>\n",
       "      <td>55313</td>\n",
       "      <td>4</td>\n",
       "      <td>2.0</td>\n",
       "      <td>0.301173</td>\n",
       "      <td>0.0</td>\n",
       "      <td>0.0</td>\n",
       "      <td>-inf</td>\n",
       "      <td>0.011281</td>\n",
       "      <td>0.969528</td>\n",
       "    </tr>\n",
       "    <tr>\n",
       "      <th>3</th>\n",
       "      <td>26</td>\n",
       "      <td>Templeton</td>\n",
       "      <td>0</td>\n",
       "      <td>Wake</td>\n",
       "      <td>mPFC</td>\n",
       "      <td>1</td>\n",
       "      <td>0</td>\n",
       "      <td>124190</td>\n",
       "      <td>0</td>\n",
       "      <td>NaN</td>\n",
       "      <td>0.268010</td>\n",
       "      <td>0.0</td>\n",
       "      <td>0.0</td>\n",
       "      <td>-inf</td>\n",
       "      <td>0.014823</td>\n",
       "      <td>0.941385</td>\n",
       "    </tr>\n",
       "    <tr>\n",
       "      <th>4</th>\n",
       "      <td>26</td>\n",
       "      <td>Templeton</td>\n",
       "      <td>1</td>\n",
       "      <td>Wake</td>\n",
       "      <td>mPFC</td>\n",
       "      <td>1</td>\n",
       "      <td>0</td>\n",
       "      <td>24029</td>\n",
       "      <td>1</td>\n",
       "      <td>0.0</td>\n",
       "      <td>0.360364</td>\n",
       "      <td>0.0</td>\n",
       "      <td>0.0</td>\n",
       "      <td>-inf</td>\n",
       "      <td>0.024770</td>\n",
       "      <td>0.909890</td>\n",
       "    </tr>\n",
       "    <tr>\n",
       "      <th>5</th>\n",
       "      <td>26</td>\n",
       "      <td>Templeton</td>\n",
       "      <td>1</td>\n",
       "      <td>Wake</td>\n",
       "      <td>mPFC</td>\n",
       "      <td>1</td>\n",
       "      <td>0</td>\n",
       "      <td>44848</td>\n",
       "      <td>2</td>\n",
       "      <td>1.0</td>\n",
       "      <td>0.259182</td>\n",
       "      <td>0.0</td>\n",
       "      <td>0.0</td>\n",
       "      <td>-inf</td>\n",
       "      <td>0.015253</td>\n",
       "      <td>0.921429</td>\n",
       "    </tr>\n",
       "    <tr>\n",
       "      <th>6</th>\n",
       "      <td>26</td>\n",
       "      <td>Templeton</td>\n",
       "      <td>1</td>\n",
       "      <td>Wake</td>\n",
       "      <td>mPFC</td>\n",
       "      <td>1</td>\n",
       "      <td>0</td>\n",
       "      <td>55313</td>\n",
       "      <td>4</td>\n",
       "      <td>2.0</td>\n",
       "      <td>0.222326</td>\n",
       "      <td>0.0</td>\n",
       "      <td>0.0</td>\n",
       "      <td>-inf</td>\n",
       "      <td>0.023135</td>\n",
       "      <td>0.771475</td>\n",
       "    </tr>\n",
       "    <tr>\n",
       "      <th>7</th>\n",
       "      <td>26</td>\n",
       "      <td>Templeton</td>\n",
       "      <td>1</td>\n",
       "      <td>Wake</td>\n",
       "      <td>mPFC</td>\n",
       "      <td>1</td>\n",
       "      <td>0</td>\n",
       "      <td>124190</td>\n",
       "      <td>0</td>\n",
       "      <td>NaN</td>\n",
       "      <td>0.283756</td>\n",
       "      <td>0.0</td>\n",
       "      <td>0.0</td>\n",
       "      <td>-inf</td>\n",
       "      <td>0.022490</td>\n",
       "      <td>0.872574</td>\n",
       "    </tr>\n",
       "    <tr>\n",
       "      <th>8</th>\n",
       "      <td>26</td>\n",
       "      <td>Templeton</td>\n",
       "      <td>2</td>\n",
       "      <td>Wake</td>\n",
       "      <td>mPFC</td>\n",
       "      <td>1</td>\n",
       "      <td>0</td>\n",
       "      <td>24029</td>\n",
       "      <td>1</td>\n",
       "      <td>0.0</td>\n",
       "      <td>0.259368</td>\n",
       "      <td>0.0</td>\n",
       "      <td>0.0</td>\n",
       "      <td>-inf</td>\n",
       "      <td>0.040417</td>\n",
       "      <td>0.667660</td>\n",
       "    </tr>\n",
       "    <tr>\n",
       "      <th>9</th>\n",
       "      <td>26</td>\n",
       "      <td>Templeton</td>\n",
       "      <td>2</td>\n",
       "      <td>Wake</td>\n",
       "      <td>mPFC</td>\n",
       "      <td>1</td>\n",
       "      <td>0</td>\n",
       "      <td>44848</td>\n",
       "      <td>2</td>\n",
       "      <td>1.0</td>\n",
       "      <td>0.383242</td>\n",
       "      <td>0.0</td>\n",
       "      <td>0.0</td>\n",
       "      <td>-inf</td>\n",
       "      <td>0.018665</td>\n",
       "      <td>0.929178</td>\n",
       "    </tr>\n",
       "    <tr>\n",
       "      <th>10</th>\n",
       "      <td>26</td>\n",
       "      <td>Templeton</td>\n",
       "      <td>2</td>\n",
       "      <td>Wake</td>\n",
       "      <td>mPFC</td>\n",
       "      <td>1</td>\n",
       "      <td>0</td>\n",
       "      <td>55313</td>\n",
       "      <td>4</td>\n",
       "      <td>2.0</td>\n",
       "      <td>0.226929</td>\n",
       "      <td>0.0</td>\n",
       "      <td>0.0</td>\n",
       "      <td>-inf</td>\n",
       "      <td>0.016852</td>\n",
       "      <td>0.881373</td>\n",
       "    </tr>\n",
       "    <tr>\n",
       "      <th>11</th>\n",
       "      <td>26</td>\n",
       "      <td>Templeton</td>\n",
       "      <td>2</td>\n",
       "      <td>Wake</td>\n",
       "      <td>mPFC</td>\n",
       "      <td>1</td>\n",
       "      <td>0</td>\n",
       "      <td>124190</td>\n",
       "      <td>0</td>\n",
       "      <td>NaN</td>\n",
       "      <td>0.305870</td>\n",
       "      <td>0.0</td>\n",
       "      <td>0.0</td>\n",
       "      <td>-inf</td>\n",
       "      <td>0.014489</td>\n",
       "      <td>0.950051</td>\n",
       "    </tr>\n",
       "    <tr>\n",
       "      <th>12</th>\n",
       "      <td>26</td>\n",
       "      <td>Templeton</td>\n",
       "      <td>3</td>\n",
       "      <td>Sleep</td>\n",
       "      <td>mPFC</td>\n",
       "      <td>1</td>\n",
       "      <td>0</td>\n",
       "      <td>24029</td>\n",
       "      <td>1</td>\n",
       "      <td>0.0</td>\n",
       "      <td>0.179203</td>\n",
       "      <td>0.0</td>\n",
       "      <td>0.0</td>\n",
       "      <td>-inf</td>\n",
       "      <td>0.012883</td>\n",
       "      <td>0.865508</td>\n",
       "    </tr>\n",
       "    <tr>\n",
       "      <th>13</th>\n",
       "      <td>26</td>\n",
       "      <td>Templeton</td>\n",
       "      <td>3</td>\n",
       "      <td>Sleep</td>\n",
       "      <td>mPFC</td>\n",
       "      <td>1</td>\n",
       "      <td>0</td>\n",
       "      <td>44848</td>\n",
       "      <td>2</td>\n",
       "      <td>1.0</td>\n",
       "      <td>0.266261</td>\n",
       "      <td>0.0</td>\n",
       "      <td>0.0</td>\n",
       "      <td>-inf</td>\n",
       "      <td>0.010258</td>\n",
       "      <td>0.966879</td>\n",
       "    </tr>\n",
       "    <tr>\n",
       "      <th>14</th>\n",
       "      <td>26</td>\n",
       "      <td>Templeton</td>\n",
       "      <td>3</td>\n",
       "      <td>Sleep</td>\n",
       "      <td>mPFC</td>\n",
       "      <td>1</td>\n",
       "      <td>0</td>\n",
       "      <td>55313</td>\n",
       "      <td>4</td>\n",
       "      <td>2.0</td>\n",
       "      <td>0.218952</td>\n",
       "      <td>0.0</td>\n",
       "      <td>0.0</td>\n",
       "      <td>-inf</td>\n",
       "      <td>0.008662</td>\n",
       "      <td>0.965257</td>\n",
       "    </tr>\n",
       "    <tr>\n",
       "      <th>15</th>\n",
       "      <td>26</td>\n",
       "      <td>Templeton</td>\n",
       "      <td>3</td>\n",
       "      <td>Sleep</td>\n",
       "      <td>mPFC</td>\n",
       "      <td>1</td>\n",
       "      <td>0</td>\n",
       "      <td>124190</td>\n",
       "      <td>0</td>\n",
       "      <td>NaN</td>\n",
       "      <td>0.297891</td>\n",
       "      <td>0.0</td>\n",
       "      <td>0.0</td>\n",
       "      <td>-inf</td>\n",
       "      <td>0.010601</td>\n",
       "      <td>0.969440</td>\n",
       "    </tr>\n",
       "    <tr>\n",
       "      <th>16</th>\n",
       "      <td>26</td>\n",
       "      <td>Templeton</td>\n",
       "      <td>4</td>\n",
       "      <td>Sleep</td>\n",
       "      <td>mPFC</td>\n",
       "      <td>1</td>\n",
       "      <td>0</td>\n",
       "      <td>24029</td>\n",
       "      <td>1</td>\n",
       "      <td>0.0</td>\n",
       "      <td>0.190884</td>\n",
       "      <td>0.0</td>\n",
       "      <td>0.0</td>\n",
       "      <td>-inf</td>\n",
       "      <td>0.018577</td>\n",
       "      <td>0.766568</td>\n",
       "    </tr>\n",
       "    <tr>\n",
       "      <th>17</th>\n",
       "      <td>26</td>\n",
       "      <td>Templeton</td>\n",
       "      <td>4</td>\n",
       "      <td>Sleep</td>\n",
       "      <td>mPFC</td>\n",
       "      <td>1</td>\n",
       "      <td>0</td>\n",
       "      <td>44848</td>\n",
       "      <td>2</td>\n",
       "      <td>1.0</td>\n",
       "      <td>0.277502</td>\n",
       "      <td>0.0</td>\n",
       "      <td>0.0</td>\n",
       "      <td>-inf</td>\n",
       "      <td>0.012001</td>\n",
       "      <td>0.961788</td>\n",
       "    </tr>\n",
       "    <tr>\n",
       "      <th>18</th>\n",
       "      <td>26</td>\n",
       "      <td>Templeton</td>\n",
       "      <td>4</td>\n",
       "      <td>Sleep</td>\n",
       "      <td>mPFC</td>\n",
       "      <td>1</td>\n",
       "      <td>0</td>\n",
       "      <td>55313</td>\n",
       "      <td>4</td>\n",
       "      <td>2.0</td>\n",
       "      <td>0.184744</td>\n",
       "      <td>0.0</td>\n",
       "      <td>0.0</td>\n",
       "      <td>-inf</td>\n",
       "      <td>0.011093</td>\n",
       "      <td>0.917069</td>\n",
       "    </tr>\n",
       "    <tr>\n",
       "      <th>19</th>\n",
       "      <td>26</td>\n",
       "      <td>Templeton</td>\n",
       "      <td>4</td>\n",
       "      <td>Sleep</td>\n",
       "      <td>mPFC</td>\n",
       "      <td>1</td>\n",
       "      <td>0</td>\n",
       "      <td>124190</td>\n",
       "      <td>0</td>\n",
       "      <td>NaN</td>\n",
       "      <td>0.263756</td>\n",
       "      <td>0.0</td>\n",
       "      <td>0.0</td>\n",
       "      <td>-inf</td>\n",
       "      <td>0.012865</td>\n",
       "      <td>0.947114</td>\n",
       "    </tr>\n",
       "    <tr>\n",
       "      <th>20</th>\n",
       "      <td>26</td>\n",
       "      <td>Templeton</td>\n",
       "      <td>5</td>\n",
       "      <td>Sleep</td>\n",
       "      <td>mPFC</td>\n",
       "      <td>1</td>\n",
       "      <td>0</td>\n",
       "      <td>24029</td>\n",
       "      <td>1</td>\n",
       "      <td>0.0</td>\n",
       "      <td>0.160230</td>\n",
       "      <td>0.0</td>\n",
       "      <td>0.0</td>\n",
       "      <td>-inf</td>\n",
       "      <td>0.014812</td>\n",
       "      <td>0.833481</td>\n",
       "    </tr>\n",
       "    <tr>\n",
       "      <th>21</th>\n",
       "      <td>26</td>\n",
       "      <td>Templeton</td>\n",
       "      <td>5</td>\n",
       "      <td>Sleep</td>\n",
       "      <td>mPFC</td>\n",
       "      <td>1</td>\n",
       "      <td>0</td>\n",
       "      <td>44848</td>\n",
       "      <td>2</td>\n",
       "      <td>1.0</td>\n",
       "      <td>0.272121</td>\n",
       "      <td>0.0</td>\n",
       "      <td>0.0</td>\n",
       "      <td>-inf</td>\n",
       "      <td>0.009258</td>\n",
       "      <td>0.974497</td>\n",
       "    </tr>\n",
       "    <tr>\n",
       "      <th>22</th>\n",
       "      <td>26</td>\n",
       "      <td>Templeton</td>\n",
       "      <td>5</td>\n",
       "      <td>Sleep</td>\n",
       "      <td>mPFC</td>\n",
       "      <td>1</td>\n",
       "      <td>0</td>\n",
       "      <td>55313</td>\n",
       "      <td>4</td>\n",
       "      <td>2.0</td>\n",
       "      <td>0.218317</td>\n",
       "      <td>0.0</td>\n",
       "      <td>0.0</td>\n",
       "      <td>-inf</td>\n",
       "      <td>0.012248</td>\n",
       "      <td>0.935400</td>\n",
       "    </tr>\n",
       "    <tr>\n",
       "      <th>23</th>\n",
       "      <td>26</td>\n",
       "      <td>Templeton</td>\n",
       "      <td>5</td>\n",
       "      <td>Sleep</td>\n",
       "      <td>mPFC</td>\n",
       "      <td>1</td>\n",
       "      <td>0</td>\n",
       "      <td>124190</td>\n",
       "      <td>0</td>\n",
       "      <td>NaN</td>\n",
       "      <td>0.278599</td>\n",
       "      <td>0.0</td>\n",
       "      <td>0.0</td>\n",
       "      <td>-inf</td>\n",
       "      <td>0.008830</td>\n",
       "      <td>0.977789</td>\n",
       "    </tr>\n",
       "  </tbody>\n",
       "</table>\n",
       "</div>"
      ],
      "text/plain": [
       "   rec       subj block   cond region  cell_EI_type  cell_id  num_spikes  \\\n",
       "0   26  Templeton     0   Wake   mPFC             1        0       24029   \n",
       "1   26  Templeton     0   Wake   mPFC             1        0       44848   \n",
       "2   26  Templeton     0   Wake   mPFC             1        0       55313   \n",
       "3   26  Templeton     0   Wake   mPFC             1        0      124190   \n",
       "4   26  Templeton     1   Wake   mPFC             1        0       24029   \n",
       "5   26  Templeton     1   Wake   mPFC             1        0       44848   \n",
       "6   26  Templeton     1   Wake   mPFC             1        0       55313   \n",
       "7   26  Templeton     1   Wake   mPFC             1        0      124190   \n",
       "8   26  Templeton     2   Wake   mPFC             1        0       24029   \n",
       "9   26  Templeton     2   Wake   mPFC             1        0       44848   \n",
       "10  26  Templeton     2   Wake   mPFC             1        0       55313   \n",
       "11  26  Templeton     2   Wake   mPFC             1        0      124190   \n",
       "12  26  Templeton     3  Sleep   mPFC             1        0       24029   \n",
       "13  26  Templeton     3  Sleep   mPFC             1        0       44848   \n",
       "14  26  Templeton     3  Sleep   mPFC             1        0       55313   \n",
       "15  26  Templeton     3  Sleep   mPFC             1        0      124190   \n",
       "16  26  Templeton     4  Sleep   mPFC             1        0       24029   \n",
       "17  26  Templeton     4  Sleep   mPFC             1        0       44848   \n",
       "18  26  Templeton     4  Sleep   mPFC             1        0       55313   \n",
       "19  26  Templeton     4  Sleep   mPFC             1        0      124190   \n",
       "20  26  Templeton     5  Sleep   mPFC             1        0       24029   \n",
       "21  26  Templeton     5  Sleep   mPFC             1        0       44848   \n",
       "22  26  Templeton     5  Sleep   mPFC             1        0       55313   \n",
       "23  26  Templeton     5  Sleep   mPFC             1        0      124190   \n",
       "\n",
       "    shank  lfp_chan_ind       exp  knee  tau  log_tau       err        r2  \n",
       "0       1           0.0  0.330386   0.0  0.0     -inf  0.022871  0.897704  \n",
       "1       2           1.0  0.159635   0.0  0.0     -inf  0.013898  0.817704  \n",
       "2       4           2.0  0.301173   0.0  0.0     -inf  0.011281  0.969528  \n",
       "3       0           NaN  0.268010   0.0  0.0     -inf  0.014823  0.941385  \n",
       "4       1           0.0  0.360364   0.0  0.0     -inf  0.024770  0.909890  \n",
       "5       2           1.0  0.259182   0.0  0.0     -inf  0.015253  0.921429  \n",
       "6       4           2.0  0.222326   0.0  0.0     -inf  0.023135  0.771475  \n",
       "7       0           NaN  0.283756   0.0  0.0     -inf  0.022490  0.872574  \n",
       "8       1           0.0  0.259368   0.0  0.0     -inf  0.040417  0.667660  \n",
       "9       2           1.0  0.383242   0.0  0.0     -inf  0.018665  0.929178  \n",
       "10      4           2.0  0.226929   0.0  0.0     -inf  0.016852  0.881373  \n",
       "11      0           NaN  0.305870   0.0  0.0     -inf  0.014489  0.950051  \n",
       "12      1           0.0  0.179203   0.0  0.0     -inf  0.012883  0.865508  \n",
       "13      2           1.0  0.266261   0.0  0.0     -inf  0.010258  0.966879  \n",
       "14      4           2.0  0.218952   0.0  0.0     -inf  0.008662  0.965257  \n",
       "15      0           NaN  0.297891   0.0  0.0     -inf  0.010601  0.969440  \n",
       "16      1           0.0  0.190884   0.0  0.0     -inf  0.018577  0.766568  \n",
       "17      2           1.0  0.277502   0.0  0.0     -inf  0.012001  0.961788  \n",
       "18      4           2.0  0.184744   0.0  0.0     -inf  0.011093  0.917069  \n",
       "19      0           NaN  0.263756   0.0  0.0     -inf  0.012865  0.947114  \n",
       "20      1           0.0  0.160230   0.0  0.0     -inf  0.014812  0.833481  \n",
       "21      2           1.0  0.272121   0.0  0.0     -inf  0.009258  0.974497  \n",
       "22      4           2.0  0.218317   0.0  0.0     -inf  0.012248  0.935400  \n",
       "23      0           NaN  0.278599   0.0  0.0     -inf  0.008830  0.977789  "
      ]
     },
     "execution_count": 22,
     "metadata": {},
     "output_type": "execute_result"
    },
    {
     "data": {
      "text/plain": [
       "<matplotlib.figure.Figure at 0x1a1f53aa20>"
      ]
     },
     "metadata": {},
     "output_type": "display_data"
    },
    {
     "data": {
      "text/plain": [
       "<matplotlib.figure.Figure at 0x1a1f7b1898>"
      ]
     },
     "metadata": {},
     "output_type": "display_data"
    },
    {
     "data": {
      "text/plain": [
       "<matplotlib.figure.Figure at 0x1a1f6380b8>"
      ]
     },
     "metadata": {},
     "output_type": "display_data"
    },
    {
     "data": {
      "text/plain": [
       "<matplotlib.figure.Figure at 0x1a1f4993c8>"
      ]
     },
     "metadata": {},
     "output_type": "display_data"
    },
    {
     "data": {
      "text/plain": [
       "<matplotlib.figure.Figure at 0x1a1f6f1278>"
      ]
     },
     "metadata": {},
     "output_type": "display_data"
    },
    {
     "data": {
      "text/plain": [
       "<matplotlib.figure.Figure at 0x1a20db6240>"
      ]
     },
     "metadata": {},
     "output_type": "display_data"
    },
    {
     "data": {
      "text/plain": [
       "<matplotlib.figure.Figure at 0x1a1fc446d8>"
      ]
     },
     "metadata": {},
     "output_type": "display_data"
    },
    {
     "data": {
      "text/plain": [
       "<matplotlib.figure.Figure at 0x1a1f89ea20>"
      ]
     },
     "metadata": {},
     "output_type": "display_data"
    },
    {
     "data": {
      "text/plain": [
       "<matplotlib.figure.Figure at 0x1a1f57fcc0>"
      ]
     },
     "metadata": {},
     "output_type": "display_data"
    },
    {
     "data": {
      "text/plain": [
       "<matplotlib.figure.Figure at 0x1a1f73c240>"
      ]
     },
     "metadata": {},
     "output_type": "display_data"
    },
    {
     "data": {
      "text/plain": [
       "<matplotlib.figure.Figure at 0x1a20375908>"
      ]
     },
     "metadata": {},
     "output_type": "display_data"
    },
    {
     "data": {
      "text/plain": [
       "<matplotlib.figure.Figure at 0x1a1f36be10>"
      ]
     },
     "metadata": {},
     "output_type": "display_data"
    },
    {
     "data": {
      "text/plain": [
       "<matplotlib.figure.Figure at 0x1a2118ac50>"
      ]
     },
     "metadata": {},
     "output_type": "display_data"
    },
    {
     "data": {
      "text/plain": [
       "<matplotlib.figure.Figure at 0x1a20801550>"
      ]
     },
     "metadata": {},
     "output_type": "display_data"
    },
    {
     "data": {
      "text/plain": [
       "<matplotlib.figure.Figure at 0x1a1f53a668>"
      ]
     },
     "metadata": {},
     "output_type": "display_data"
    },
    {
     "data": {
      "text/plain": [
       "<matplotlib.figure.Figure at 0x1a1ff50c50>"
      ]
     },
     "metadata": {},
     "output_type": "display_data"
    },
    {
     "data": {
      "text/plain": [
       "<matplotlib.figure.Figure at 0x1a1fdbeda0>"
      ]
     },
     "metadata": {},
     "output_type": "display_data"
    },
    {
     "data": {
      "text/plain": [
       "<matplotlib.figure.Figure at 0x1a1ff1b780>"
      ]
     },
     "metadata": {},
     "output_type": "display_data"
    },
    {
     "data": {
      "text/plain": [
       "<matplotlib.figure.Figure at 0x1a201b43c8>"
      ]
     },
     "metadata": {},
     "output_type": "display_data"
    },
    {
     "data": {
      "text/plain": [
       "<matplotlib.figure.Figure at 0x1a200d36d8>"
      ]
     },
     "metadata": {},
     "output_type": "display_data"
    },
    {
     "data": {
      "text/plain": [
       "<matplotlib.figure.Figure at 0x1a1fdbbcf8>"
      ]
     },
     "metadata": {},
     "output_type": "display_data"
    },
    {
     "data": {
      "text/plain": [
       "<matplotlib.figure.Figure at 0x1a21ea8a20>"
      ]
     },
     "metadata": {},
     "output_type": "display_data"
    },
    {
     "data": {
      "text/plain": [
       "<matplotlib.figure.Figure at 0x1a207abd30>"
      ]
     },
     "metadata": {},
     "output_type": "display_data"
    },
    {
     "data": {
      "text/plain": [
       "<matplotlib.figure.Figure at 0x1a1fcfd898>"
      ]
     },
     "metadata": {},
     "output_type": "display_data"
    },
    {
     "data": {
      "text/plain": [
       "<matplotlib.figure.Figure at 0x1a1f44e6d8>"
      ]
     },
     "metadata": {},
     "output_type": "display_data"
    },
    {
     "data": {
      "text/plain": [
       "<matplotlib.figure.Figure at 0x1a2268b518>"
      ]
     },
     "metadata": {},
     "output_type": "display_data"
    },
    {
     "data": {
      "text/plain": [
       "<matplotlib.figure.Figure at 0x1a1f06f9b0>"
      ]
     },
     "metadata": {},
     "output_type": "display_data"
    },
    {
     "data": {
      "text/plain": [
       "<matplotlib.figure.Figure at 0x1a209424a8>"
      ]
     },
     "metadata": {},
     "output_type": "display_data"
    },
    {
     "data": {
      "text/plain": [
       "<matplotlib.figure.Figure at 0x1a1f53a3c8>"
      ]
     },
     "metadata": {},
     "output_type": "display_data"
    },
    {
     "data": {
      "text/plain": [
       "<matplotlib.figure.Figure at 0x1a20e99780>"
      ]
     },
     "metadata": {},
     "output_type": "display_data"
    },
    {
     "data": {
      "text/plain": [
       "<matplotlib.figure.Figure at 0x1a201e7588>"
      ]
     },
     "metadata": {},
     "output_type": "display_data"
    },
    {
     "data": {
      "text/plain": [
       "<matplotlib.figure.Figure at 0x1a1f6b9748>"
      ]
     },
     "metadata": {},
     "output_type": "display_data"
    },
    {
     "data": {
      "text/plain": [
       "<matplotlib.figure.Figure at 0x1a222b7f98>"
      ]
     },
     "metadata": {},
     "output_type": "display_data"
    },
    {
     "data": {
      "text/plain": [
       "<matplotlib.figure.Figure at 0x1a1f499c50>"
      ]
     },
     "metadata": {},
     "output_type": "display_data"
    },
    {
     "data": {
      "text/plain": [
       "<matplotlib.figure.Figure at 0x1a1f82d7f0>"
      ]
     },
     "metadata": {},
     "output_type": "display_data"
    },
    {
     "data": {
      "text/plain": [
       "<matplotlib.figure.Figure at 0x1a20b55978>"
      ]
     },
     "metadata": {},
     "output_type": "display_data"
    },
    {
     "data": {
      "text/plain": [
       "<matplotlib.figure.Figure at 0x1a20554cc0>"
      ]
     },
     "metadata": {},
     "output_type": "display_data"
    },
    {
     "data": {
      "text/plain": [
       "<matplotlib.figure.Figure at 0x1a23ac0198>"
      ]
     },
     "metadata": {},
     "output_type": "display_data"
    },
    {
     "data": {
      "text/plain": [
       "<matplotlib.figure.Figure at 0x1a2408e908>"
      ]
     },
     "metadata": {},
     "output_type": "display_data"
    },
    {
     "data": {
      "text/plain": [
       "<matplotlib.figure.Figure at 0x1a1f07b9b0>"
      ]
     },
     "metadata": {},
     "output_type": "display_data"
    },
    {
     "data": {
      "text/plain": [
       "<matplotlib.figure.Figure at 0x1a1fceedd8>"
      ]
     },
     "metadata": {},
     "output_type": "display_data"
    },
    {
     "data": {
      "text/plain": [
       "<matplotlib.figure.Figure at 0x1a244d9eb8>"
      ]
     },
     "metadata": {},
     "output_type": "display_data"
    },
    {
     "data": {
      "text/plain": [
       "<matplotlib.figure.Figure at 0x1a207abcf8>"
      ]
     },
     "metadata": {},
     "output_type": "display_data"
    },
    {
     "data": {
      "text/plain": [
       "<matplotlib.figure.Figure at 0x1a1f3aa128>"
      ]
     },
     "metadata": {},
     "output_type": "display_data"
    },
    {
     "data": {
      "text/plain": [
       "<matplotlib.figure.Figure at 0x1a24f6fbe0>"
      ]
     },
     "metadata": {},
     "output_type": "display_data"
    },
    {
     "data": {
      "text/plain": [
       "<matplotlib.figure.Figure at 0x1a1f68bfd0>"
      ]
     },
     "metadata": {},
     "output_type": "display_data"
    },
    {
     "data": {
      "text/plain": [
       "<matplotlib.figure.Figure at 0x1a2006acf8>"
      ]
     },
     "metadata": {},
     "output_type": "display_data"
    },
    {
     "data": {
      "text/plain": [
       "<matplotlib.figure.Figure at 0x1a201ba9b0>"
      ]
     },
     "metadata": {},
     "output_type": "display_data"
    },
    {
     "data": {
      "text/plain": [
       "<matplotlib.figure.Figure at 0x10e338f98>"
      ]
     },
     "metadata": {},
     "output_type": "display_data"
    },
    {
     "data": {
      "text/plain": [
       "<matplotlib.figure.Figure at 0x1a2077f080>"
      ]
     },
     "metadata": {},
     "output_type": "display_data"
    },
    {
     "data": {
      "text/plain": [
       "<matplotlib.figure.Figure at 0x1a20dec0b8>"
      ]
     },
     "metadata": {},
     "output_type": "display_data"
    },
    {
     "data": {
      "text/plain": [
       "<matplotlib.figure.Figure at 0x1a1fdbb438>"
      ]
     },
     "metadata": {},
     "output_type": "display_data"
    },
    {
     "data": {
      "text/plain": [
       "<matplotlib.figure.Figure at 0x1a25fbc0f0>"
      ]
     },
     "metadata": {},
     "output_type": "display_data"
    },
    {
     "data": {
      "text/plain": [
       "<matplotlib.figure.Figure at 0x1a24f1e080>"
      ]
     },
     "metadata": {},
     "output_type": "display_data"
    },
    {
     "data": {
      "text/plain": [
       "<matplotlib.figure.Figure at 0x10e333208>"
      ]
     },
     "metadata": {},
     "output_type": "display_data"
    },
    {
     "data": {
      "text/plain": [
       "<matplotlib.figure.Figure at 0x1a268e8f98>"
      ]
     },
     "metadata": {},
     "output_type": "display_data"
    }
   ],
   "source": [
    "return_spiking_feature_df('/2sec', 'psd_mean', 'fg_fixed_1pks_0-5Hz', True)\n",
    "return_spiking_feature_df('/5sec', 'psd_mean', 'fg_fixed_1pks_0-5Hz', True)"
   ]
  },
  {
   "cell_type": "code",
   "execution_count": 114,
   "metadata": {},
   "outputs": [
    {
     "name": "stdout",
     "output_type": "stream",
     "text": [
      "LFP FOOOFs\n"
     ]
    },
    {
     "data": {
      "text/plain": [
       "['fg_fixed_2pks_30-55Hz.json',\n",
       " 'fg_fixed_4pks_0-200Hz.json',\n",
       " 'fg_knee_4pks_0-200Hz.json',\n",
       " 'fg_fixed_2pks_0-10Hz.json']"
      ]
     },
     "execution_count": 114,
     "metadata": {},
     "output_type": "execute_result"
    }
   ],
   "source": [
    "print('LFP FOOOFs')\n",
    "fooof_folder = result_basepath + '20140526_277um' +'/psd/5sec/fooof/psd_med/'\n",
    "ff_list = [ff for ff in os.listdir(fooof_folder) if '.json' in ff]\n",
    "ff_list"
   ]
  },
  {
   "cell_type": "code",
   "execution_count": 112,
   "metadata": {},
   "outputs": [
    {
     "name": "stdout",
     "output_type": "stream",
     "text": [
      "Spike FOOOFs\n"
     ]
    },
    {
     "data": {
      "text/plain": [
       "['fg_fixed_1pks_0-5Hz.json',\n",
       " 'fg_fixed_1pks_30-80Hz.json',\n",
       " 'fg_fixed_1pks_10-20Hz.json',\n",
       " 'fg_fixed_2pks_0-80Hz.json']"
      ]
     },
     "execution_count": 112,
     "metadata": {},
     "output_type": "execute_result"
    }
   ],
   "source": [
    "print('Spike FOOOFs')\n",
    "fooof_folder = result_basepath + '20140526_277um' +'/psd_spikes/5sec/fooof/psd_mean/'\n",
    "ff_list = [ff for ff in os.listdir(fooof_folder) if '.json' in ff]\n",
    "ff_list"
   ]
  },
  {
   "cell_type": "code",
   "execution_count": 101,
   "metadata": {},
   "outputs": [],
   "source": [
    "df_combined = return_feature_df('/5sec', 'psd_med', 'fg_fixed_2pks_30-55Hz')\n",
    "df_combined_spiking = return_spiking_feature_df('/5sec', 'psd_mean', 'fg_fixed_1pks_0-5Hz', False)"
   ]
  },
  {
   "cell_type": "code",
   "execution_count": 104,
   "metadata": {},
   "outputs": [
    {
     "data": {
      "image/png": "[encoded data removed]",
      "text/plain": [
       "<matplotlib.figure.Figure at 0x1a1a5291d0>"
      ]
     },
     "metadata": {},
     "output_type": "display_data"
    }
   ],
   "source": [
    "spike_feat = 'exp'\n",
    "lfp_feat = 'exp'\n",
    "df_subset = df_combined_spiking\n",
    "\n",
    "plt.figure(figsize=(10,10))\n",
    "for cell, cell_data in df_subset.iterrows():\n",
    "    match_cols = ['rec', 'block', 'shank']\n",
    "    lfp_loc = df_combined[(df_combined[match_cols]==cell_data[match_cols]).all(axis=1)]\n",
    "    if len(lfp_loc):\n",
    "        #plt.plot(cell_data[spike_feat], lfp_loc[lfp_feat], '.k', alpha=0.5)\n",
    "        plt.plot(cell_data[spike_feat], lfp_loc[lfp_feat], \n",
    "                 color=C_ORD[regions.index(cell_data['region'])],\n",
    "                 marker='v' if cell_data['cell_EI_type']==1 else 'o',\n",
    "                 mfc='w' if cell_data['cond']=='Sleep' else None,\n",
    "                 alpha=0.5)\n",
    "        \n",
    "#plt.yscale('log')\n",
    "plt.xlabel('Spiking %s'%spike_feat)\n",
    "plt.ylabel('LFP %s'%lfp_feat)\n",
    "utils.remove_spines(plt.gca())"
   ]
  },
  {
   "cell_type": "code",
   "execution_count": null,
   "metadata": {
    "collapsed": true
   },
   "outputs": [],
   "source": []
  }
 ],
 "metadata": {
  "kernelspec": {
   "display_name": "Python 3",
   "language": "python",
   "name": "python3"
  },
  "language_info": {
   "codemirror_mode": {
    "name": "ipython",
    "version": 3
   },
   "file_extension": ".py",
   "mimetype": "text/x-python",
   "name": "python",
   "nbconvert_exporter": "python",
   "pygments_lexer": "ipython3",
   "version": "3.6.3"
  }
 },
 "nbformat": 4,
 "nbformat_minor": 2
}
