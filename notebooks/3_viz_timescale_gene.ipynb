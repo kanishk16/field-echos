{
 "cells": [
  {
   "cell_type": "code",
   "execution_count": 1,
   "metadata": {},
   "outputs": [
    {
     "name": "stdout",
     "output_type": "stream",
     "text": [
      "********************************************************************************\n",
      "WARNING: Imported VTK version (8.1) does not match the one used\n",
      "         to build the TVTK classes (8.2). This may cause problems.\n",
      "         Please rebuild TVTK.\n",
      "********************************************************************************\n",
      "\n"
     ]
    }
   ],
   "source": [
    "%load_ext autoreload\n",
    "%autoreload 2\n",
    "%matplotlib inline\n",
    "\n",
    "import warnings\n",
    "warnings.filterwarnings('ignore')\n",
    "\n",
    "import matplotlib.pyplot as plt\n",
    "import os, sys, json\n",
    "import numpy as np\n",
    "from numpy import log10\n",
    "import pandas as pd\n",
    "from scipy import io\n",
    "from scipy.stats import pearsonr, spearmanr, linregress\n",
    "from seaborn import despine\n",
    "from sklearn import decomposition, linear_model\n",
    "\n",
    "# need to grab HCPMMP the first time you run this notebook\n",
    "import mne\n",
    "subjects_dir = mne.datasets.sample.data_path() + '/subjects'\n",
    "mne.datasets.fetch_hcp_mmp_parcellation(subjects_dir=subjects_dir, verbose=True)\n",
    "\n",
    "sys.path.append('../')\n",
    "import echo_utils\n",
    "\n",
    "font = {'family' : 'Arial',\n",
    "        'weight' : 'regular',\n",
    "        'size'   : 14}\n",
    "plt.rc('font', **font)\n",
    "plt.rc('image', cmap='inferno')\n",
    "\n",
    "C_ORD = plt.rcParams['axes.prop_cycle'].by_key()['color']\n",
    "fig_path = '../figures/mni/%s.pdf'\n",
    "save_plot=True"
   ]
  },
  {
   "cell_type": "code",
   "execution_count": 2,
   "metadata": {},
   "outputs": [],
   "source": [
    "def get_residuals(x, df_y):\n",
    "    \"\"\"Return residue of y regressed on x (err = y_bar - x)\"\"\"\n",
    "    df_y_res = df_y.copy()\n",
    "    coeffs = []\n",
    "    for i_col, col in df_y_res.iteritems():\n",
    "        reg_coeff = linregress(x, col.values)\n",
    "        df_y_res[i_col] = col.values - (reg_coeff[0]*x+reg_coeff[1])\n",
    "        coeffs.append(reg_coeff)\n",
    "        \n",
    "    return df_y_res, np.array(coeffs)\n",
    "\n",
    "def compute_all_corr(x, df_y, method='spearman'):\n",
    "    \"\"\"Compute correlation between x and all columns of y, save rho and pv into df\"\"\"\n",
    "    df_corr = pd.DataFrame(index=df_y.columns, columns=['rho', 'pv'])\n",
    "    for i_col, col in df_y.iteritems():\n",
    "        if method is 'spearman':\n",
    "            rho, pv = spearmanr(x, col.values, nan_policy='omit')\n",
    "        elif method is 'pearson':\n",
    "            rho, pv = pearsonr(x, col.values)\n",
    "        df_corr.loc[i_col] = rho, pv\n",
    "    return df_corr\n",
    "\n",
    "def plot_print_genes(df_corr, bon_alpha, folder, print_top_n=None):\n",
    "    # plot distributions\n",
    "    plt.figure(figsize=(4,4))\n",
    "    plt.hist(df_corr['rho'].values, 100, color='k', alpha=0.5);\n",
    "\n",
    "    # sort\n",
    "    df_corr.sort_values('rho', inplace=True)\n",
    "    df_corr_sig = df_corr[df_corr['pv']<bon_alpha].copy()\n",
    "    plt.hist(df_corr_sig['rho'].values, 100, color='k', alpha=0.5);\n",
    "    despine()\n",
    "    \n",
    "    full_path = '../data/go_lists/' + folder + '/' + folder +'_'\n",
    "    echo_utils.makedir('../data/go_lists/' + folder + '/', timestamp=False)\n",
    "    if print_top_n is None:\n",
    "        # print all highly correlated genes, combined, positive and negative\n",
    "        echo_utils.print_gene_list(df_corr_sig, full_path + 'all_bf_sig.txt')\n",
    "        echo_utils.print_gene_list(df_corr_sig[df_corr_sig['rho']>0][::-1], full_path + 'all_bf_sig_pos.txt')\n",
    "        echo_utils.print_gene_list(df_corr_sig[df_corr_sig['rho']<0], full_path + 'all_bf_sig_neg.txt')\n",
    "    else:\n",
    "        # print top n positive and negative correlated genes\n",
    "        echo_utils.print_gene_list(df_corr[:-print_top_n-1:-1], full_path + 'top%i_pos.txt'%print_top_n)\n",
    "        echo_utils.print_gene_list(df_corr[:print_top_n], full_path + 'top%i_neg.txt'%print_top_n)\n",
    "        \n",
    "def print_GO(go_results):\n",
    "    print('------------------------------------')\n",
    "    print(go_results['overrepresentation']['upload_lists']['input_list']['list_name'])\n",
    "    print(go_results['overrepresentation']['annotation_type'])\n",
    "    print('------------------------------------')\n",
    "    for i_g, grp in enumerate(go_results['overrepresentation']['group']):\n",
    "        if type(grp['result']) is type([]):\n",
    "            for i_r, res in enumerate(grp['result']):\n",
    "                enriched = res['input_list']['mapped_id_list']['mapped_id']                \n",
    "                print(i_g, i_r, 'FDR = %0.4f'%res['input_list']['fdr'], ' | %i enriched | '%len(enriched), int(res['term']['level'])*'> > ', res['term']['label'])\n",
    "        else: \n",
    "            i_r, res = 0, grp['result']\n",
    "            enriched = res['input_list']['mapped_id_list']['mapped_id']\n",
    "            print(i_g, i_r, 'FDR = %0.4f'%res['input_list']['fdr'], ' | %i enriched | '%len(enriched), int(res['term']['level'])*'> > ', res['term']['label'])\n",
    "        print('___________')\n",
    "    print('====')\n",
    "\n",
    "def query_GO(go_results, i_g, i_r):\n",
    "    res = go_results['overrepresentation']['group'][i_g]['result']\n",
    "    if type(res) is type([]):\n",
    "        result = res[i_r]\n",
    "    else:\n",
    "        result = res\n",
    "\n",
    "    enriched = result['input_list']['mapped_id_list']['mapped_id']\n",
    "    print(i_g, i_r, 'FDR = %0.4f'%result['input_list']['fdr'], int(result['term']['level'])*'> > ', result['term']['label'], '| %i enriched'%len(enriched))\n",
    "    [print(e, end=' | ') for e in np.sort(enriched)];"
   ]
  },
  {
   "cell_type": "code",
   "execution_count": 3,
   "metadata": {},
   "outputs": [],
   "source": [
    "# load parcellation projected ECoG data & structural/transcriptomic data\n",
    "d_query = 4\n",
    "df_W_max = pd.read_csv('../data/df_human_W_max_%i.csv'%d_query, index_col=0)\n",
    "df_tau_weighted = pd.read_csv('../data/df_human_tau_weighted_%i.csv'%d_query, index_col=0)\n",
    "df_struct = pd.read_csv('../data/df_structural_avg.csv', index_col=0)\n",
    "df_ecog = pd.read_csv('../data/df_human.csv', index_col=0)\n",
    "mmp_aggr = pd.read_csv('../data/mmp_macro.csv', index_col=0, names=['parcel','macro_region', 'macro_labels'])\n",
    "\n",
    "# get patient info\n",
    "df_patient = df_ecog.groupby('patient').mean()[['gender', 'age']].astype(int)\n",
    "df_patient.index = df_patient.index.astype(int)\n",
    "\n",
    "# patient parcel coverage\n",
    "w_thres = 0.5\n",
    "\n",
    "df_patient.insert(len(df_patient.columns), 'coverage', np.sum(df_W_max>=w_thres,1))\n",
    "df_patient.insert(len(df_patient.columns), 'pct_coverage', np.sum(df_W_max>=w_thres,1)/len(df_W_max.columns))\n",
    "\n",
    "# compute thresholded and weighted average\n",
    "df_tau_threshed = df_tau_weighted[df_W_max>=w_thres]\n",
    "tau_parcel = echo_utils.compute_weighted_average(df_tau_weighted, df_W_max, w_thres, method='weighted')\n",
    "df_tau = pd.DataFrame(np.vstack((tau_parcel, log10(tau_parcel))).T, columns=['tau', 'logtau'], index=tau_parcel.index)\n",
    "\n",
    "# take out genes because there's a lot of operating on them\n",
    "df_genes = df_struct[df_struct.columns[1:]]"
   ]
  },
  {
   "cell_type": "markdown",
   "metadata": {},
   "source": [
    "---\n",
    "# Gene Gradient Analysis (PCA)"
   ]
  },
  {
   "cell_type": "code",
   "execution_count": 4,
   "metadata": {},
   "outputs": [],
   "source": [
    "y = df_tau['logtau']\n",
    "\n",
    "# Perform PCA on gene matrix\n",
    "n_pcs = 50\n",
    "gene_pca = decomposition.PCA(n_pcs)\n",
    "gene_pca.fit(np.array(df_genes))\n",
    "df_gene_grad = pd.DataFrame(gene_pca.fit_transform(np.array(df_genes)), index = df_tau.index, columns = ['pc%i'%i for i in range(1,n_pcs+1)])\n",
    "df_pc_weights = pd.DataFrame(gene_pca.components_.T, index=df_struct.columns[1:], columns=['pc%i'%i for i in range(1, n_pcs+1)])"
   ]
  },
  {
   "cell_type": "code",
   "execution_count": 5,
   "metadata": {},
   "outputs": [
    {
     "data": {
      "image/png": "[encoded data removed]",
      "text/plain": [
       "<Figure size 864x288 with 3 Axes>"
      ]
     },
     "metadata": {
      "needs_background": "light"
     },
     "output_type": "display_data"
    }
   ],
   "source": [
    "corr_method = 'pearson'\n",
    "corr_tau_gpc = compute_all_corr(y, df_gene_grad, corr_method)\n",
    "\n",
    "plt.figure(figsize=(12,4))\n",
    "\n",
    "plt.subplot(1,3,1)\n",
    "plt.bar(range(1,n_pcs+1), gene_pca.explained_variance_ratio_, fc='k', alpha=0.5)\n",
    "plt.xlabel('Principal Component'); plt.ylabel('Proportion of Var. Explained'); despine();\n",
    "\n",
    "plt.subplot(1,3,2)\n",
    "plt.plot(df_gene_grad['pc1'], y, 'ko', alpha=0.5)\n",
    "plt.xlabel('PC1'); plt.ylabel('Timescale'); despine();\n",
    "\n",
    "plt.subplot(1,3,3)\n",
    "plt.bar(range(1,n_pcs+1), corr_tau_gpc['rho'], fc='k', alpha=0.5)\n",
    "#plt.xticks([1, 10], ['1', '10']);\n",
    "plt.xlabel('Principal Component'); plt.ylabel(corr_method+ ' correlation'); despine();\n",
    "plt.tight_layout()"
   ]
  },
  {
   "cell_type": "markdown",
   "metadata": {},
   "source": [
    "# Principal Component Regression & Sparse Regression\n",
    "Predict timescale based on gene expression PCs and individual expression."
   ]
  },
  {
   "cell_type": "code",
   "execution_count": 6,
   "metadata": {},
   "outputs": [
    {
     "name": "stdout",
     "output_type": "stream",
     "text": [
      "R2 = 0.8177\n"
     ]
    }
   ],
   "source": [
    "# using top_n principal components\n",
    "X, y = df_gene_grad.iloc[:,:n_pcs], df_tau['logtau']\n",
    "lm = linear_model.LinearRegression()\n",
    "model = lm.fit(X, y)\n",
    "print('R2 = %.4f'%lm.score(X, y))"
   ]
  },
  {
   "cell_type": "code",
   "execution_count": 7,
   "metadata": {},
   "outputs": [
    {
     "ename": "ValueError",
     "evalue": "Automatic alpha grid generation is not supported for l1_ratio=0. Please supply a grid by providing your estimator with the appropriate `alphas=` argument.",
     "output_type": "error",
     "traceback": [
      "\u001b[0;31m---------------------------------------------------------------------------\u001b[0m",
      "\u001b[0;31mValueError\u001b[0m                                Traceback (most recent call last)",
      "\u001b[0;32m<ipython-input-7-2e0a1de5051d>\u001b[0m in \u001b[0;36m<module>\u001b[0;34m\u001b[0m\n\u001b[1;32m      2\u001b[0m \u001b[0mX\u001b[0m\u001b[0;34m,\u001b[0m \u001b[0my\u001b[0m \u001b[0;34m=\u001b[0m \u001b[0mdf_genes\u001b[0m\u001b[0;34m,\u001b[0m \u001b[0mdf_tau\u001b[0m\u001b[0;34m[\u001b[0m\u001b[0;34m'logtau'\u001b[0m\u001b[0;34m]\u001b[0m\u001b[0;34m\u001b[0m\u001b[0;34m\u001b[0m\u001b[0m\n\u001b[1;32m      3\u001b[0m \u001b[0mlm\u001b[0m \u001b[0;34m=\u001b[0m \u001b[0mlinear_model\u001b[0m\u001b[0;34m.\u001b[0m\u001b[0mElasticNetCV\u001b[0m\u001b[0;34m(\u001b[0m\u001b[0ml1_ratio\u001b[0m\u001b[0;34m=\u001b[0m\u001b[0;36m0.\u001b[0m\u001b[0;34m)\u001b[0m\u001b[0;34m\u001b[0m\u001b[0;34m\u001b[0m\u001b[0m\n\u001b[0;32m----> 4\u001b[0;31m \u001b[0mmodel\u001b[0m \u001b[0;34m=\u001b[0m \u001b[0mlm\u001b[0m\u001b[0;34m.\u001b[0m\u001b[0mfit\u001b[0m\u001b[0;34m(\u001b[0m\u001b[0mX\u001b[0m\u001b[0;34m,\u001b[0m \u001b[0my\u001b[0m\u001b[0;34m)\u001b[0m\u001b[0;34m\u001b[0m\u001b[0;34m\u001b[0m\u001b[0m\n\u001b[0m\u001b[1;32m      5\u001b[0m \u001b[0mprint\u001b[0m\u001b[0;34m(\u001b[0m\u001b[0;34m'R2 = %.4f'\u001b[0m\u001b[0;34m%\u001b[0m\u001b[0mlm\u001b[0m\u001b[0;34m.\u001b[0m\u001b[0mscore\u001b[0m\u001b[0;34m(\u001b[0m\u001b[0mX\u001b[0m\u001b[0;34m,\u001b[0m \u001b[0my\u001b[0m\u001b[0;34m)\u001b[0m\u001b[0;34m)\u001b[0m\u001b[0;34m\u001b[0m\u001b[0;34m\u001b[0m\u001b[0m\n\u001b[1;32m      6\u001b[0m \u001b[0;34m\u001b[0m\u001b[0m\n",
      "\u001b[0;32m~/opt/anaconda3/envs/voytek/lib/python3.7/site-packages/sklearn/linear_model/_coordinate_descent.py\u001b[0m in \u001b[0;36mfit\u001b[0;34m(self, X, y)\u001b[0m\n\u001b[1;32m   1152\u001b[0m                                   \u001b[0meps\u001b[0m\u001b[0;34m=\u001b[0m\u001b[0mself\u001b[0m\u001b[0;34m.\u001b[0m\u001b[0meps\u001b[0m\u001b[0;34m,\u001b[0m \u001b[0mn_alphas\u001b[0m\u001b[0;34m=\u001b[0m\u001b[0mself\u001b[0m\u001b[0;34m.\u001b[0m\u001b[0mn_alphas\u001b[0m\u001b[0;34m,\u001b[0m\u001b[0;34m\u001b[0m\u001b[0;34m\u001b[0m\u001b[0m\n\u001b[1;32m   1153\u001b[0m                                   normalize=self.normalize, copy_X=self.copy_X)\n\u001b[0;32m-> 1154\u001b[0;31m                       for l1_ratio in l1_ratios]\n\u001b[0m\u001b[1;32m   1155\u001b[0m         \u001b[0;32melse\u001b[0m\u001b[0;34m:\u001b[0m\u001b[0;34m\u001b[0m\u001b[0;34m\u001b[0m\u001b[0m\n\u001b[1;32m   1156\u001b[0m             \u001b[0;31m# Making sure alphas is properly ordered.\u001b[0m\u001b[0;34m\u001b[0m\u001b[0;34m\u001b[0m\u001b[0;34m\u001b[0m\u001b[0m\n",
      "\u001b[0;32m~/opt/anaconda3/envs/voytek/lib/python3.7/site-packages/sklearn/linear_model/_coordinate_descent.py\u001b[0m in \u001b[0;36m<listcomp>\u001b[0;34m(.0)\u001b[0m\n\u001b[1;32m   1152\u001b[0m                                   \u001b[0meps\u001b[0m\u001b[0;34m=\u001b[0m\u001b[0mself\u001b[0m\u001b[0;34m.\u001b[0m\u001b[0meps\u001b[0m\u001b[0;34m,\u001b[0m \u001b[0mn_alphas\u001b[0m\u001b[0;34m=\u001b[0m\u001b[0mself\u001b[0m\u001b[0;34m.\u001b[0m\u001b[0mn_alphas\u001b[0m\u001b[0;34m,\u001b[0m\u001b[0;34m\u001b[0m\u001b[0;34m\u001b[0m\u001b[0m\n\u001b[1;32m   1153\u001b[0m                                   normalize=self.normalize, copy_X=self.copy_X)\n\u001b[0;32m-> 1154\u001b[0;31m                       for l1_ratio in l1_ratios]\n\u001b[0m\u001b[1;32m   1155\u001b[0m         \u001b[0;32melse\u001b[0m\u001b[0;34m:\u001b[0m\u001b[0;34m\u001b[0m\u001b[0;34m\u001b[0m\u001b[0m\n\u001b[1;32m   1156\u001b[0m             \u001b[0;31m# Making sure alphas is properly ordered.\u001b[0m\u001b[0;34m\u001b[0m\u001b[0;34m\u001b[0m\u001b[0;34m\u001b[0m\u001b[0m\n",
      "\u001b[0;32m~/opt/anaconda3/envs/voytek/lib/python3.7/site-packages/sklearn/linear_model/_coordinate_descent.py\u001b[0m in \u001b[0;36m_alpha_grid\u001b[0;34m(X, y, Xy, l1_ratio, fit_intercept, eps, n_alphas, normalize, copy_X)\u001b[0m\n\u001b[1;32m     75\u001b[0m     \"\"\"\n\u001b[1;32m     76\u001b[0m     \u001b[0;32mif\u001b[0m \u001b[0ml1_ratio\u001b[0m \u001b[0;34m==\u001b[0m \u001b[0;36m0\u001b[0m\u001b[0;34m:\u001b[0m\u001b[0;34m\u001b[0m\u001b[0;34m\u001b[0m\u001b[0m\n\u001b[0;32m---> 77\u001b[0;31m         raise ValueError(\"Automatic alpha grid generation is not supported for\"\n\u001b[0m\u001b[1;32m     78\u001b[0m                          \u001b[0;34m\" l1_ratio=0. Please supply a grid by providing \"\u001b[0m\u001b[0;34m\u001b[0m\u001b[0;34m\u001b[0m\u001b[0m\n\u001b[1;32m     79\u001b[0m                          \u001b[0;34m\"your estimator with the appropriate `alphas=` \"\u001b[0m\u001b[0;34m\u001b[0m\u001b[0;34m\u001b[0m\u001b[0m\n",
      "\u001b[0;31mValueError\u001b[0m: Automatic alpha grid generation is not supported for l1_ratio=0. Please supply a grid by providing your estimator with the appropriate `alphas=` argument."
     ]
    }
   ],
   "source": [
    "# using all genes but with a Lasso regression (L1 & L2-penalized)\n",
    "X, y = df_genes, df_tau['logtau']\n",
    "lm = linear_model.ElasticNetCV(l1_ratio=0.)\n",
    "model = lm.fit(X, y)\n",
    "print('R2 = %.4f'%lm.score(X, y))\n",
    "\n",
    "plt.figure(figsize=(15,4))\n",
    "plt.plot(range(len(lm.coef_)),lm.coef_, 'ok', ms=3, alpha=0.2)\n",
    "plt.xlabel('Gene');plt.ylabel('Coefficient');\n",
    "despine(bottom=True)"
   ]
  },
  {
   "cell_type": "code",
   "execution_count": null,
   "metadata": {},
   "outputs": [],
   "source": []
  },
  {
   "cell_type": "code",
   "execution_count": null,
   "metadata": {},
   "outputs": [],
   "source": []
  },
  {
   "cell_type": "markdown",
   "metadata": {},
   "source": [
    "---\n",
    "# Individual Gene-Timescale Correlation"
   ]
  },
  {
   "cell_type": "code",
   "execution_count": 8,
   "metadata": {},
   "outputs": [],
   "source": [
    "bon_alpha = 0.01/len(df_genes.columns)"
   ]
  },
  {
   "cell_type": "code",
   "execution_count": 9,
   "metadata": {},
   "outputs": [],
   "source": [
    "df_taugene_corr = compute_all_corr(df_tau['tau'].values, df_genes, 'spearman')"
   ]
  },
  {
   "cell_type": "code",
   "execution_count": 10,
   "metadata": {},
   "outputs": [
    {
     "data": {
      "image/png": "[encoded data removed]",
      "text/plain": [
       "<Figure size 288x288 with 1 Axes>"
      ]
     },
     "metadata": {
      "needs_background": "light"
     },
     "output_type": "display_data"
    }
   ],
   "source": [
    "plot_print_genes(df_taugene_corr, bon_alpha, 'raw')"
   ]
  },
  {
   "cell_type": "markdown",
   "metadata": {},
   "source": [
    "---\n",
    "# Regressing out Gene PC1 from Timescale and Gene Expression Gradients\n",
    "Find genes that are significantly correlated with timescale gradient after removing the dominant mode of gene expression variation (PC1)."
   ]
  },
  {
   "cell_type": "code",
   "execution_count": 11,
   "metadata": {},
   "outputs": [],
   "source": [
    "# remove pc1 contribution from all genes\n",
    "x = df_gene_grad['pc1'].values\n",
    "df_gene_rmvpc1, gene_pc1_coeffs = get_residuals(x, df_genes)\n",
    "\n",
    "# regress out PC1 from timescale features\n",
    "df_tau_rmvpc1, _ = get_residuals(x, df_tau)\n",
    "    \n",
    "# compute correlation of timescale with individual genes\n",
    "df_taugene_corr_pc1rmv = compute_all_corr(df_tau_rmvpc1['tau'].values, df_gene_rmvpc1, 'spearman')"
   ]
  },
  {
   "cell_type": "code",
   "execution_count": 12,
   "metadata": {},
   "outputs": [
    {
     "data": {
      "image/png": "[encoded data removed]",
      "text/plain": [
       "<Figure size 288x288 with 1 Axes>"
      ]
     },
     "metadata": {
      "needs_background": "light"
     },
     "output_type": "display_data"
    }
   ],
   "source": [
    "plot_print_genes(df_taugene_corr_pc1rmv, bon_alpha, 'pc1rmv')"
   ]
  },
  {
   "cell_type": "markdown",
   "metadata": {},
   "source": [
    "---\n",
    "# Regressing out T1w/T2w from Timescale and Gene Expression Gradient\n",
    "Similar to above, but partialing out the contribution of anatomic gradient (myelination via T1w/T2w) from gene expression and timescale."
   ]
  },
  {
   "cell_type": "code",
   "execution_count": 13,
   "metadata": {},
   "outputs": [],
   "source": [
    "# remove T1/T2 contribution from all genes\n",
    "x = df_struct['T1T2'].values\n",
    "df_gene_rmvt1t2, gene_t1t2_coeffs = get_residuals(x, df_genes)\n",
    "\n",
    "# regress out T1T2 from timescale features\n",
    "df_tau_rmvt1t2, _ = get_residuals(x, df_tau)\n",
    "    \n",
    "# compute correlation of timescale with individual genes\n",
    "df_taugene_corr_t1t2rmv = compute_all_corr(df_tau_rmvt1t2['tau'].values, df_gene_rmvt1t2, 'spearman')"
   ]
  },
  {
   "cell_type": "code",
   "execution_count": 14,
   "metadata": {},
   "outputs": [
    {
     "data": {
      "image/png": "[encoded data removed]",
      "text/plain": [
       "<Figure size 288x288 with 1 Axes>"
      ]
     },
     "metadata": {
      "needs_background": "light"
     },
     "output_type": "display_data"
    }
   ],
   "source": [
    "plot_print_genes(df_taugene_corr_t1t2rmv, bon_alpha, 't1t2rmv')"
   ]
  },
  {
   "cell_type": "code",
   "execution_count": null,
   "metadata": {},
   "outputs": [],
   "source": [
    "filename = '../data/go_lists/t1t2rmv/GO_results/t1t2rmv_all_bf_sig_mf.json'\n",
    "with open(filename) as f:\n",
    "    go_results = json.load(f)\n",
    "\n",
    "print_GO(go_results)\n",
    "#query_GO(go_results, 0,0)"
   ]
  },
  {
   "cell_type": "code",
   "execution_count": null,
   "metadata": {},
   "outputs": [],
   "source": []
  }
 ],
 "metadata": {
  "kernelspec": {
   "display_name": "Python 3",
   "language": "python",
   "name": "python3"
  },
  "language_info": {
   "codemirror_mode": {
    "name": "ipython",
    "version": 3
   },
   "file_extension": ".py",
   "mimetype": "text/x-python",
   "name": "python",
   "nbconvert_exporter": "python",
   "pygments_lexer": "ipython3",
   "version": "3.7.4"
  }
 },
 "nbformat": 4,
 "nbformat_minor": 4
}
