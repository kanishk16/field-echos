{
 "cells": [
  {
   "cell_type": "code",
   "execution_count": 1,
   "metadata": {},
   "outputs": [],
   "source": [
    "%load_ext autoreload\n",
    "%matplotlib inline\n",
    "%config InlineBackend.figure_format = 'retina' # high res plotting\n",
    "\n",
    "import pickle\n",
    "import numpy as np\n",
    "import pandas as pd\n",
    "from scipy.stats import ttest_1samp, pearsonr, spearmanr\n",
    "import statsmodels.formula.api as smf\n",
    "\n",
    "# plotting stuff\n",
    "import seaborn as sns\n",
    "import matplotlib.pyplot as plt\n",
    "\n",
    "import sys\n",
    "sys.path.append('../')\n",
    "import echo_utils\n",
    "\n",
    "# # plot settings\n",
    "# font = {'family' : 'Bitstream Vera Sans',\n",
    "#         'weight' : 'regular',\n",
    "#         'size'   : 13}\n",
    "# figure = {'figsize' : (16,8)}\n",
    "\n",
    "# matplotlib.rc('font', **font)\n",
    "# matplotlib.rc('figure', **figure)\n"
   ]
  },
  {
   "cell_type": "markdown",
   "metadata": {},
   "source": [
    "### Single-trial fits (mine)"
   ]
  },
  {
   "cell_type": "code",
   "execution_count": 189,
   "metadata": {},
   "outputs": [
    {
     "name": "stdout",
     "output_type": "stream",
     "text": [
      "Ttest_1sampResult(statistic=7.047812909066132, pvalue=8.698888318293546e-06)\n",
      "                            OLS Regression Results                            \n",
      "==============================================================================\n",
      "Dep. Variable:                    acc   R-squared:                       0.582\n",
      "Model:                            OLS   Adj. R-squared:                  0.506\n",
      "Method:                 Least Squares   F-statistic:                     7.648\n",
      "Date:                Thu, 28 Nov 2019   Prob (F-statistic):            0.00828\n",
      "Time:                        16:35:13   Log-Likelihood:                 23.924\n",
      "No. Observations:                  14   AIC:                            -41.85\n",
      "Df Residuals:                      11   BIC:                            -39.93\n",
      "Df Model:                           2                                         \n",
      "Covariance Type:            nonrobust                                         \n",
      "==============================================================================\n",
      "                 coef    std err          t      P>|t|      [0.025      0.975]\n",
      "------------------------------------------------------------------------------\n",
      "Intercept      0.6804      0.058     11.824      0.000       0.554       0.807\n",
      "age            0.0059      0.002      3.376      0.006       0.002       0.010\n",
      "diff           5.2000      2.323      2.239      0.047       0.088      10.312\n",
      "==============================================================================\n",
      "Omnibus:                        1.370   Durbin-Watson:                   2.245\n",
      "Prob(Omnibus):                  0.504   Jarque-Bera (JB):                0.809\n",
      "Skew:                          -0.118   Prob(JB):                        0.667\n",
      "Kurtosis:                       1.847   Cond. No.                     5.59e+03\n",
      "==============================================================================\n",
      "\n",
      "Warnings:\n",
      "[1] Standard Errors assume that the covariance matrix of the errors is correctly specified.\n",
      "[2] The condition number is large, 5.59e+03. This might indicate that there are\n",
      "strong multicollinearity or other numerical problems.\n"
     ]
    },
    {
     "name": "stderr",
     "output_type": "stream",
     "text": [
      "/Users/rdgao/anaconda3/lib/python3.6/site-packages/ipykernel_launcher.py:22: RuntimeWarning: invalid value encountered in less\n",
      "/Users/rdgao/anaconda3/lib/python3.6/site-packages/ipykernel_launcher.py:22: RuntimeWarning: invalid value encountered in less_equal\n",
      "/Users/rdgao/anaconda3/lib/python3.6/site-packages/ipykernel_launcher.py:29: RuntimeWarning: invalid value encountered in less_equal\n",
      "/Users/rdgao/anaconda3/lib/python3.6/site-packages/ipykernel_launcher.py:30: RuntimeWarning: invalid value encountered in less_equal\n",
      "/Users/rdgao/anaconda3/lib/python3.6/site-packages/ipykernel_launcher.py:31: RuntimeWarning: invalid value encountered in greater\n",
      "/Users/rdgao/anaconda3/lib/python3.6/site-packages/ipykernel_launcher.py:32: RuntimeWarning: invalid value encountered in greater\n",
      "/Users/rdgao/anaconda3/lib/python3.6/site-packages/ipykernel_launcher.py:36: RuntimeWarning: Mean of empty slice\n",
      "/Users/rdgao/anaconda3/lib/python3.6/site-packages/ipykernel_launcher.py:37: RuntimeWarning: Mean of empty slice\n",
      "/Users/rdgao/anaconda3/lib/python3.6/site-packages/ipykernel_launcher.py:38: RuntimeWarning: Mean of empty slice\n"
     ]
    },
    {
     "data": {
      "text/plain": [
       "[<matplotlib.lines.Line2D at 0x1c390ded68>]"
      ]
     },
     "execution_count": 189,
     "metadata": {},
     "output_type": "execute_result"
    },
    {
     "data": {
      "image/png": "[encoded data removed]",
      "text/plain": [
       "<Figure size 432x288 with 1 Axes>"
      ]
     },
     "metadata": {
      "image/png": {
       "height": 250,
       "width": 387
      },
      "needs_background": "light"
     },
     "output_type": "display_data"
    }
   ],
   "source": [
    "# load metadata\n",
    "df_patient_info = pd.read_csv('../data/df_johnson_patient_info.csv', index_col=0)\n",
    "result_path = '../data/johnson/'\n",
    "\n",
    "# load data\n",
    "with open(result_path + \"all_exp.txt\", \"rb\") as fp: # unpickling\n",
    "    all_exp = pickle.load(fp)\n",
    "with open(result_path + \"all_offset.txt\", \"rb\") as fp: # unpickling\n",
    "    all_offset = pickle.load(fp)\n",
    "with open(result_path + \"all_knee.txt\", \"rb\") as fp: # unpickling\n",
    "    all_knee = pickle.load(fp)\n",
    "with open(result_path + \"all_tau.txt\", \"rb\") as fp: # unpickling\n",
    "    all_tau = pickle.load(fp)\n",
    "\n",
    "feature = all_tau\n",
    "axis = 0 # 0 to mean across channels, 1 to mean across trials\n",
    "\n",
    "grand_avg = []\n",
    "\n",
    "for i_p in range(len(df_patient_info)):\n",
    "    # remove bad fits if exp<0 or knee<0\n",
    "    feature[i_p][(all_exp[i_p]<0) | (all_knee[i_p]<=0)] = np.nan\n",
    "   # feature[i_p][(all_tau[i_p]<0)| (all_tau[i_p]>0.5)] = np.nan\n",
    "    \n",
    "    # get prestim, encoding, and difference per trial\n",
    "    prestim = feature[i_p][0,:,:]\n",
    "    encoding  = (feature[i_p][1,:,:]+feature[i_p][2,:,:])/2\n",
    "    \n",
    "    encoding[encoding <= 0] = np.nan\n",
    "    prestim[prestim <= 0] = np.nan\n",
    "    encoding[encoding > 0.5] = np.nan\n",
    "    prestim[prestim > 0.5] = np.nan\n",
    "    \n",
    "    d_enc_pre = encoding - prestim\n",
    "    \n",
    "    mean_pre = np.nanmean(prestim,axis)\n",
    "    mean_enc = np.nanmean(encoding,axis)\n",
    "    mean_d = np.nanmean(d_enc_pre,axis)\n",
    "    \n",
    "    # t-test on mean difference\n",
    "    tval, pv = ttest_1samp(mean_d, popmean=0, nan_policy='omit')\n",
    "    \n",
    "    # collect results\n",
    "    grand_avg.append([1-np.isnan(feature[i_p]).sum()/np.prod(feature[i_p].shape), \n",
    "                      np.nanmean(mean_pre), np.nanmean(mean_enc), np.nanmean(mean_d), tval])\n",
    "\n",
    "df_result = pd.DataFrame(np.array(grand_avg), index=df_patient_info.index, columns=['data_qual', 'pre', 'enc', 'diff', 'tvals'])\n",
    "\n",
    "# s3 has really bad data, s15 & s17 are same as s5 & s8\n",
    "valid_pat = df_patient_info.index[[0,1,3,4,5,6,7,8,9,10,11,12,13,15]].values \n",
    "df_patient = pd.concat((df_patient_info, df_result), axis=1)\n",
    "df_patient['acc'] = df_patient[['acc_identity','acc_spatial','acc_temporal']].mean(1)\n",
    "df_patient['rt'] = df_patient[['rt_identity','rt_spatial','rt_temporal']].mean(1)\n",
    "\n",
    "df_patient = df_patient.loc[valid_pat]\n",
    "print(ttest_1samp(df_patient['tvals'], 0, nan_policy='omit'))\n",
    "mod = smf.ols(formula='acc ~ age + diff', data=df_patient)\n",
    "res = mod.fit()\n",
    "print(res.summary())\n",
    "\n",
    "plt.plot(df_patient['diff'],df_patient['acc'], '.')\n",
    "#plt.xlim([0, 0.01])\n",
    "#df_patient"
   ]
  },
  {
   "cell_type": "code",
   "execution_count": 182,
   "metadata": {},
   "outputs": [
    {
     "data": {
      "text/plain": [
       "array([[       nan, 0.23222623,        nan, 0.36230566, 0.02820792,\n",
       "               nan,        nan,        nan,        nan,        nan,\n",
       "               nan,        nan,        nan, 0.04352309,        nan,\n",
       "               nan,        nan,        nan, 0.05423144, 0.06337177,\n",
       "        0.01040951,        nan,        nan,        nan, 0.0214576 ,\n",
       "        0.06226403,        nan, 0.02471073,        nan,        nan,\n",
       "               nan,        nan, 0.04507719, 0.09824364, 0.01864828,\n",
       "               nan, 0.02051754, 0.01408017,        nan,        nan,\n",
       "        0.00953528,        nan, 0.07026229, 0.03376225,        nan,\n",
       "        0.01537837, 0.00978614, 0.01180476,        nan,        nan,\n",
       "               nan, 0.0709179 , 0.01320785,        nan,        nan,\n",
       "        0.04464552, 0.01211259,        nan, 0.0498436 ,        nan,\n",
       "        0.03025373, 0.01508287,        nan,        nan,        nan,\n",
       "               nan, 0.02701524,        nan,        nan,        nan,\n",
       "               nan, 0.05883467, 0.02496611, 0.03273927, 2.99508032,\n",
       "        0.02038232,        nan, 0.01917897, 0.0583425 , 0.00830517,\n",
       "        0.03446215,        nan,        nan, 0.03852907, 0.12666278,\n",
       "        0.08229757,        nan,        nan,        nan,        nan],\n",
       "       [       nan,        nan,        nan,        nan, 0.06667752,\n",
       "        0.05139216,        nan,        nan,        nan, 0.03122005,\n",
       "               nan,        nan,        nan, 0.0294752 ,        nan,\n",
       "               nan,        nan, 0.00869493,        nan, 0.08442625,\n",
       "        0.0252067 , 0.05829367,        nan,        nan,        nan,\n",
       "        0.06588319,        nan,        nan, 0.03921966, 0.0908102 ,\n",
       "        0.05733342, 0.21542258,        nan, 0.02172016,        nan,\n",
       "               nan, 0.05324319,        nan, 0.02133018, 0.10389316,\n",
       "        0.06315051, 0.03710375, 0.03392279,        nan, 0.02314471,\n",
       "        0.0307247 , 0.05194104,        nan,        nan,        nan,\n",
       "        0.04626311,        nan, 0.08625179, 0.0208786 , 0.00960436,\n",
       "               nan,        nan,        nan, 0.0073687 , 0.04990334,\n",
       "               nan,        nan,        nan, 0.00828951,        nan,\n",
       "               nan,        nan,        nan,        nan,        nan,\n",
       "        0.00832952,        nan,        nan, 0.04571526,        nan,\n",
       "        0.09248676, 0.01442195, 0.05054893,        nan, 0.01157905,\n",
       "               nan,        nan,        nan, 0.03523765,        nan,\n",
       "               nan, 0.00939153,        nan,        nan,        nan],\n",
       "       [       nan,        nan, 0.03888691,        nan, 0.06896901,\n",
       "        0.03157547,        nan,        nan, 0.01060894, 0.06734503,\n",
       "               nan, 0.29989609,        nan, 0.00718906, 0.05981172,\n",
       "        0.05678604,        nan, 0.07548877,        nan, 0.03822457,\n",
       "               nan, 0.04712143,        nan,        nan,        nan,\n",
       "        0.06183442, 0.11494057,        nan, 0.01224754,        nan,\n",
       "               nan,        nan,        nan, 0.03147255,        nan,\n",
       "               nan,        nan,        nan,        nan, 0.05508832,\n",
       "        0.04689406,        nan,        nan,        nan,        nan,\n",
       "               nan,        nan,        nan, 0.00429126,        nan,\n",
       "               nan,        nan,        nan, 0.03859136, 0.01459054,\n",
       "        0.01437278,        nan,        nan,        nan,        nan,\n",
       "               nan, 0.00921132,        nan,        nan,        nan,\n",
       "               nan, 0.0483131 ,        nan, 0.01609843, 0.01121801,\n",
       "               nan,        nan, 0.0058175 , 0.0135923 , 0.01613953,\n",
       "               nan,        nan,        nan, 0.02985889,        nan,\n",
       "               nan,        nan,        nan,        nan, 0.03358114,\n",
       "               nan,        nan,        nan,        nan,        nan],\n",
       "       [       nan, 0.09054584, 0.0080931 , 0.03299396,        nan,\n",
       "               nan,        nan,        nan,        nan, 0.02577923,\n",
       "               nan, 0.17535041, 0.23572825,        nan,        nan,\n",
       "               nan, 0.03765143, 0.03354715, 0.01798476,        nan,\n",
       "               nan,        nan,        nan,        nan,        nan,\n",
       "               nan,        nan,        nan,        nan,        nan,\n",
       "               nan,        nan,        nan, 0.04397897, 0.03880997,\n",
       "               nan, 0.02423496, 0.01705451, 0.02699664,        nan,\n",
       "        0.02636388,        nan,        nan, 0.05073369,        nan,\n",
       "               nan, 0.25341143,        nan, 0.02932305,        nan,\n",
       "        0.0103433 ,        nan,        nan,        nan,        nan,\n",
       "               nan,        nan,        nan, 0.06330563,        nan,\n",
       "        0.04512471,        nan,        nan,        nan,        nan,\n",
       "        0.05580417, 0.09967763, 0.02979587, 0.00576916, 0.39135533,\n",
       "        0.02950437, 0.04873813, 0.00908872, 0.04142138, 0.019253  ,\n",
       "               nan,        nan,        nan, 0.04565831, 0.08530544,\n",
       "        0.01798583,        nan,        nan, 0.01967906,        nan,\n",
       "               nan,        nan, 0.0071229 ,        nan, 0.05081386]])"
      ]
     },
     "execution_count": 182,
     "metadata": {},
     "output_type": "execute_result"
    }
   ],
   "source": [
    "encoding"
   ]
  },
  {
   "cell_type": "markdown",
   "metadata": {},
   "source": [
    "# Reproducing using Brad's fits"
   ]
  },
  {
   "cell_type": "code",
   "execution_count": 183,
   "metadata": {},
   "outputs": [
    {
     "name": "stdout",
     "output_type": "stream",
     "text": [
      "Ttest_1sampResult(statistic=4.64264145422118, pvalue=0.00046062259763812654)\n",
      "                            OLS Regression Results                            \n",
      "==============================================================================\n",
      "Dep. Variable:                    acc   R-squared:                       0.641\n",
      "Model:                            OLS   Adj. R-squared:                  0.575\n",
      "Method:                 Least Squares   F-statistic:                     9.807\n",
      "Date:                Thu, 28 Nov 2019   Prob (F-statistic):            0.00359\n",
      "Time:                        16:34:15   Log-Likelihood:                 24.988\n",
      "No. Observations:                  14   AIC:                            -43.98\n",
      "Df Residuals:                      11   BIC:                            -42.06\n",
      "Df Model:                           2                                         \n",
      "Covariance Type:            nonrobust                                         \n",
      "==============================================================================\n",
      "                 coef    std err          t      P>|t|      [0.025      0.975]\n",
      "------------------------------------------------------------------------------\n",
      "Intercept      0.6729      0.054     12.556      0.000       0.555       0.791\n",
      "age            0.0056      0.002      3.467      0.005       0.002       0.009\n",
      "diff          12.5489      4.539      2.764      0.018       2.558      22.540\n",
      "==============================================================================\n",
      "Omnibus:                        0.651   Durbin-Watson:                   2.461\n",
      "Prob(Omnibus):                  0.722   Jarque-Bera (JB):                0.618\n",
      "Skew:                          -0.182   Prob(JB):                        0.734\n",
      "Kurtosis:                       2.037   Cond. No.                     1.18e+04\n",
      "==============================================================================\n",
      "\n",
      "Warnings:\n",
      "[1] Standard Errors assume that the covariance matrix of the errors is correctly specified.\n",
      "[2] The condition number is large, 1.18e+04. This might indicate that there are\n",
      "strong multicollinearity or other numerical problems.\n"
     ]
    },
    {
     "name": "stderr",
     "output_type": "stream",
     "text": [
      "/Users/rdgao/anaconda3/lib/python3.6/site-packages/ipykernel_launcher.py:21: RuntimeWarning: invalid value encountered in less_equal\n",
      "/Users/rdgao/anaconda3/lib/python3.6/site-packages/ipykernel_launcher.py:22: RuntimeWarning: invalid value encountered in less_equal\n",
      "/Users/rdgao/anaconda3/lib/python3.6/site-packages/ipykernel_launcher.py:23: RuntimeWarning: invalid value encountered in greater\n",
      "/Users/rdgao/anaconda3/lib/python3.6/site-packages/ipykernel_launcher.py:24: RuntimeWarning: invalid value encountered in greater\n",
      "/Users/rdgao/anaconda3/lib/python3.6/site-packages/ipykernel_launcher.py:29: RuntimeWarning: Mean of empty slice\n",
      "/Users/rdgao/anaconda3/lib/python3.6/site-packages/ipykernel_launcher.py:30: RuntimeWarning: Mean of empty slice\n",
      "/Users/rdgao/anaconda3/lib/python3.6/site-packages/ipykernel_launcher.py:28: RuntimeWarning: Mean of empty slice\n",
      "/Users/rdgao/anaconda3/lib/python3.6/site-packages/ipykernel_launcher.py:42: FutureWarning: Sorting because non-concatenation axis is not aligned. A future version\n",
      "of pandas will change to not sort by default.\n",
      "\n",
      "To accept the future behavior, pass 'sort=False'.\n",
      "\n",
      "To retain the current behavior and silence the warning, pass 'sort=True'.\n",
      "\n"
     ]
    }
   ],
   "source": [
    "# load data\n",
    "with open(\"../notebooks/Johnson/all_exp.txt\", \"rb\") as fp: # unpickling\n",
    "    all_exp = pickle.load(fp)\n",
    "# with open(\"../notebooks/Johnson/all_offset.txt\", \"rb\") as fp: # unpickling\n",
    "#     all_offset = pickle.load(fp)\n",
    "with open(\"../notebooks/Johnson/all_kfq.txt\", \"rb\") as fp: # unpickling\n",
    "    all_kfreq = pickle.load(fp)\n",
    "with open(\"../notebooks/Johnson/all_tau.txt\", \"rb\") as fp: # unpickling\n",
    "    all_tau = pickle.load(fp)\n",
    "    \n",
    "feature = all_tau\n",
    "axis = 0 # 0 to mean across channels, 1 to mean across trials\n",
    "\n",
    "t_vals, p_vals = [], []\n",
    "grand_avg = []\n",
    "for i_p in range(len(df_patient_info)-1):    \n",
    "    # get prestim, encoding, and difference per trial\n",
    "    prestim = feature[i_p][0,:,:]\n",
    "    encoding  = (feature[i_p][1,:,:]+feature[i_p][2,:,:])/2\n",
    "    \n",
    "    encoding[encoding <= 0] = np.nan\n",
    "    prestim[prestim <= 0] = np.nan\n",
    "    encoding[encoding > 0.5] = np.nan\n",
    "    prestim[prestim > 0.5] = np.nan\n",
    "    \n",
    "    d_enc_pre = encoding - prestim\n",
    "    \n",
    "    mean_pre = np.nanmean(prestim,axis)\n",
    "    mean_enc = np.nanmean(encoding,axis)\n",
    "    mean_d = np.nanmean(d_enc_pre,axis)\n",
    "    \n",
    "    # t-test on mean difference\n",
    "    tval, pv = ttest_1samp(mean_d, popmean=0, nan_policy='omit')\n",
    "    grand_avg.append([np.nanmean(mean_pre), np.nanmean(mean_enc), np.nanmean(mean_d), tval])\n",
    "    t_vals.append(tval)\n",
    "    p_vals.append(pv)\n",
    "\n",
    "#df_result = pd.DataFrame(np.array(grand_avg), index=df_patient_info.index, columns=['pre', 'enc', 'diff', 'tvals'])\n",
    "df_result = pd.DataFrame(np.array(grand_avg), index=df_patient_info.index[[0,1,3,4,5,6,7,8,9,10,11,12,13,14,15,16]], columns=['pre', 'enc', 'diff', 'tvals'])\n",
    "\n",
    "valid_pat = df_patient_info.index[[0,1,3,4,5,6,7,8,9,10,11,12,13,15]].values # s3 has really bad data, s15 & s17 are same as s5 & s8\n",
    "df_patient = pd.concat((df_patient_info, df_result), axis=1)\n",
    "df_patient['acc'] = df_patient[['acc_identity','acc_spatial','acc_temporal']].mean(1)\n",
    "df_patient['rt'] = df_patient[['rt_identity','rt_spatial','rt_temporal']].mean(1)\n",
    "df_patient = df_patient.loc[valid_pat]\n",
    "print(ttest_1samp(df_patient['tvals'], 0, nan_policy='omit'))\n",
    "\n",
    "mod = smf.ols(formula='acc ~ age + diff', data=df_patient)\n",
    "res = mod.fit()\n",
    "print(res.summary())\n"
   ]
  },
  {
   "cell_type": "code",
   "execution_count": 185,
   "metadata": {},
   "outputs": [
    {
     "data": {
      "text/plain": [
       "[<matplotlib.lines.Line2D at 0x1c3e754cf8>]"
      ]
     },
     "execution_count": 185,
     "metadata": {},
     "output_type": "execute_result"
    },
    {
     "data": {
      "image/png": "[encoded data removed]",
      "text/plain": [
       "<Figure size 432x288 with 1 Axes>"
      ]
     },
     "metadata": {
      "image/png": {
       "height": 250,
       "width": 380
      },
      "needs_background": "light"
     },
     "output_type": "display_data"
    }
   ],
   "source": [
    "plt.plot(df_patient['diff'],df_patient['acc'], '.')"
   ]
  },
  {
   "cell_type": "code",
   "execution_count": 188,
   "metadata": {},
   "outputs": [
    {
     "data": {
      "image/png": "[encoded data removed]",
      "text/plain": [
       "<Figure size 432x432 with 1 Axes>"
      ]
     },
     "metadata": {
      "image/png": {
       "height": 358,
       "width": 373
      },
      "needs_background": "light"
     },
     "output_type": "display_data"
    }
   ],
   "source": [
    "#bv_all_tau = all_tau\n",
    "with open(\"../notebooks/Johnson/all_tau.txt\", \"rb\") as fp: # unpickling\n",
    "    bv_all_tau = pickle.load(fp)\n",
    "\n",
    "plt.figure(figsize=(6,6))\n",
    "cond=0\n",
    "subj=-8\n",
    "plt.plot(bv_all_tau[subj][cond], all_tau[subj][cond], '.');\n",
    "#df_patient.index[-8]"
   ]
  },
  {
   "cell_type": "code",
   "execution_count": 84,
   "metadata": {},
   "outputs": [],
   "source": []
  },
  {
   "cell_type": "code",
   "execution_count": 92,
   "metadata": {},
   "outputs": [
    {
     "data": {
      "text/plain": [
       "[<matplotlib.lines.Line2D at 0x1c38230b70>]"
      ]
     },
     "execution_count": 92,
     "metadata": {},
     "output_type": "execute_result"
    },
    {
     "data": {
      "image/png": "[encoded data removed]",
      "text/plain": [
       "<Figure size 432x288 with 1 Axes>"
      ]
     },
     "metadata": {
      "image/png": {
       "height": 258,
       "width": 372
      },
      "needs_background": "light"
     },
     "output_type": "display_data"
    }
   ],
   "source": [
    "subj, cond, chan = -4, 0, 2\n",
    "#plt.loglog(bv_all_tau[-2][cond,chan], all_tau[-2][cond,chan], '.')\n",
    "#plt.plot(plt.xlim(),plt.ylim(), '--')\n",
    "plt.plot(bv_all_tau[subj][cond,chan]-all_tau[subj][cond,chan], '.')"
   ]
  },
  {
   "cell_type": "code",
   "execution_count": null,
   "metadata": {},
   "outputs": [],
   "source": []
  }
 ],
 "metadata": {
  "kernelspec": {
   "display_name": "Python 3",
   "language": "python",
   "name": "python3"
  },
  "language_info": {
   "codemirror_mode": {
    "name": "ipython",
    "version": 3
   },
   "file_extension": ".py",
   "mimetype": "text/x-python",
   "name": "python",
   "nbconvert_exporter": "python",
   "pygments_lexer": "ipython3",
   "version": "3.6.9"
  }
 },
 "nbformat": 4,
 "nbformat_minor": 2
}
