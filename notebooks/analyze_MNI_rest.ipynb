{
 "cells": [
  {
   "cell_type": "code",
   "execution_count": 38,
   "metadata": {
    "collapsed": true
   },
   "outputs": [],
   "source": [
    "%matplotlib inline\n",
    "from scipy import io\n",
    "from neurodsp import spectral\n",
    "import os\n",
    "import datetime\n",
    "import matplotlib.pyplot as plt\n",
    "from fooof import FOOOFGroup\n",
    "import numpy as np\n",
    "from scipy import signal\n",
    "import sys\n",
    "\n",
    "sys.path.append('../')\n",
    "import utils"
   ]
  },
  {
   "cell_type": "code",
   "execution_count": 39,
   "metadata": {
    "collapsed": true
   },
   "outputs": [],
   "source": [
    "basepath = '/Users/rdgao/Documents/data/MNI_rest/'\n",
    "datafile = basepath + 'WakefulnessMatlabFile.mat'\n",
    "data_dict = io.loadmat(datafile, squeeze_me = True)\n",
    "result_basepath = '/Users/rdgao/Documents/code/research/field-echos/results/MNI_rest/'"
   ]
  },
  {
   "cell_type": "code",
   "execution_count": 40,
   "metadata": {},
   "outputs": [
    {
     "name": "stdout",
     "output_type": "stream",
     "text": [
      "dict_keys(['__header__', '__version__', '__globals__', 'AgeAtTimeOfStudy', 'ChannelName', 'ChannelPosition', 'ChannelRegion', 'ChannelType', 'Data', 'FacesLeft', 'FacesRight', 'Gender', 'Hemisphere', 'NodesLeft', 'NodesLeftInflated', 'NodesRegionLeft', 'NodesRegionRight', 'NodesRight', 'NodesRightInflated', 'Patient', 'RegionName', 'SamplingFrequency'])\n"
     ]
    }
   ],
   "source": [
    "print(data_dict.keys())\n",
    "fs = data_dict['SamplingFrequency']\n",
    "data = data_dict['Data']\n",
    "sig_len, nchans = data.shape"
   ]
  },
  {
   "cell_type": "code",
   "execution_count": 41,
   "metadata": {
    "collapsed": true
   },
   "outputs": [],
   "source": [
    "def compute_spectrum_w_holes(data, fs, window, nperseg, noverlap):\n",
    "    f_axis,t_axis,spg = signal.spectrogram(data, fs, 'hann', nperseg, noverlap)\n",
    "    psd_mean = spg[:,~np.all(spg==0, axis=0)].mean(1)\n",
    "    psd_median = np.median(spg[:,~np.all(spg==0, axis=0)],axis=1)\n",
    "    return f_axis, psd_mean, psd_median\n",
    "\n",
    "def compute_psds_whole(data, fs, nperseg, noverlap):\n",
    "    # compute psd and toss slices with holes\n",
    "    psd_mean = np.zeros((int(nperseg/2+1), nchans))\n",
    "    psd_med = np.zeros((int(nperseg/2+1), nchans))\n",
    "    for chan in range(nchans):\n",
    "        f_axis, psd_mean[:,chan], psd_med[:,chan] = compute_spectrum_w_holes(data[:,chan], fs, 'hann', nperseg, noverlap)\n",
    "    return f_axis, psd_mean, psd_med"
   ]
  },
  {
   "cell_type": "markdown",
   "metadata": {},
   "source": [
    "# Compute PSDs\n",
    "#### 1s window (1Hz)"
   ]
  },
  {
   "cell_type": "code",
   "execution_count": 5,
   "metadata": {
    "collapsed": true
   },
   "outputs": [],
   "source": [
    "nperseg, noverlap = int(fs), int(fs/2)\n",
    "f_axis, psd_mean, psd_med = compute_psds_whole(data, fs, nperseg, noverlap)\n",
    "saveout_path = utils.makedir(result_basepath, 'psd/1sec/', timestamp=False)\n",
    "np.savez(saveout_path+'psds.npz', psd_mean=psd_mean, psd_med=psd_med,\n",
    "         f_axis=f_axis, nperseg=nperseg, noverlap=noverlap)"
   ]
  },
  {
   "cell_type": "markdown",
   "metadata": {},
   "source": [
    "#### 5s window (0.2Hz)"
   ]
  },
  {
   "cell_type": "code",
   "execution_count": 7,
   "metadata": {
    "collapsed": true
   },
   "outputs": [],
   "source": [
    "nperseg, noverlap = int(fs*5), int(fs*4)\n",
    "f_axis, psd_mean, psd_med = compute_psds_whole(data, fs, nperseg, noverlap)\n",
    "saveout_path = utils.makedir(result_basepath, '/psd/5sec/', timestamp=False)\n",
    "np.savez(saveout_path+'psds.npz', psd_mean=psd_mean, psd_med=psd_med,\n",
    "         f_axis=f_axis, nperseg=nperseg, noverlap=noverlap)"
   ]
  },
  {
   "cell_type": "markdown",
   "metadata": {},
   "source": [
    "# FOOOFing"
   ]
  },
  {
   "cell_type": "code",
   "execution_count": 30,
   "metadata": {},
   "outputs": [
    {
     "name": "stdout",
     "output_type": "stream",
     "text": [
      "Running FOOOFGroup across 1772 power spectra.\n",
      "\n",
      "FOOOF WARNING: Lower-bound peak width limit is < or ~= the frequency resolution: 1.00 <= 0.50\n",
      "\tLower bounds below frequency-resolution have no effect (effective lower bound is freq-res)\n",
      "\tToo low a limit may lead to overfitting noise as small bandwidth peaks.\n",
      "\tWe recommend a lower bound of approximately 2x the frequency resolution.\n",
      "\n",
      "Running FOOOFGroup across 1772 power spectra.\n",
      "\n",
      "FOOOF WARNING: Lower-bound peak width limit is < or ~= the frequency resolution: 1.00 <= 0.50\n",
      "\tLower bounds below frequency-resolution have no effect (effective lower bound is freq-res)\n",
      "\tToo low a limit may lead to overfitting noise as small bandwidth peaks.\n",
      "\tWe recommend a lower bound of approximately 2x the frequency resolution.\n",
      "\n",
      "Running FOOOFGroup across 1772 power spectra.\n",
      "\n",
      "FOOOF WARNING: Lower-bound peak width limit is < or ~= the frequency resolution: 1.00 <= 0.50\n",
      "\tLower bounds below frequency-resolution have no effect (effective lower bound is freq-res)\n",
      "\tToo low a limit may lead to overfitting noise as small bandwidth peaks.\n",
      "\tWe recommend a lower bound of approximately 2x the frequency resolution.\n",
      "\n",
      "Running FOOOFGroup across 1772 power spectra.\n",
      "\n",
      "FOOOF WARNING: Lower-bound peak width limit is < or ~= the frequency resolution: 1.00 <= 0.50\n",
      "\tLower bounds below frequency-resolution have no effect (effective lower bound is freq-res)\n",
      "\tToo low a limit may lead to overfitting noise as small bandwidth peaks.\n",
      "\tWe recommend a lower bound of approximately 2x the frequency resolution.\n",
      "\n",
      "Running FOOOFGroup across 1772 power spectra.\n",
      "Running FOOOFGroup across 1772 power spectra.\n",
      "Running FOOOFGroup across 1772 power spectra.\n",
      "Running FOOOFGroup across 1772 power spectra.\n"
     ]
    }
   ],
   "source": [
    "fooof_settings = [['knee', 2, (2,55)],\n",
    "                 ['fixed', 2, (2,55)],\n",
    "                 ['fixed', 1, (1,10)],\n",
    "                 ['fixed', 1, (30,55)]]\n",
    "\n",
    "for psd_win in ['1sec/', '5sec/']:\n",
    "    psd_folder = result_basepath+'/psd/'+psd_win\n",
    "    psd_data = np.load(psd_folder+'psds.npz')\n",
    "    for f_s in fooof_settings:\n",
    "        fg = FOOOFGroup(background_mode=f_s[0], max_n_peaks=f_s[1])\n",
    "        fg.fit(psd_data['f_axis'], psd_data['psd_mean'].T, freq_range=f_s[2])\n",
    "        fooof_savepath = utils.makedir(psd_folder, '/fooof/', timestamp=False)\n",
    "        fg.save('fg_%s_%ipks_%i-%iHz'%(f_s[0],f_s[1],f_s[2][0],f_s[2][1]), fooof_savepath, save_results=True, save_settings=True)"
   ]
  },
  {
   "cell_type": "code",
   "execution_count": null,
   "metadata": {
    "collapsed": true
   },
   "outputs": [],
   "source": []
  },
  {
   "cell_type": "markdown",
   "metadata": {},
   "source": [
    "## workflow\n",
    "- compute psd -> param var\n",
    "- fooof -> param var\n",
    "    - knee vs. no knee\n",
    "- plot psd & fooof to check for fit\n",
    "- check results:\n",
    "- fooof params vs space (discretized and cont)\n",
    "- fooof params correlation\n",
    "    - slope, knee, error, r2 (check NT)\n",
    "\n",
    "\n",
    "\n",
    "\n",
    "## organizational structure\n",
    "\n",
    "results:\n",
    "- per dataset\n",
    "    - psds\n",
    "        - fooof results with specific parameter combinations\n",
    "            - dated\n",
    "        - figures\n",
    "    - dataset specific results\n",
    "    - summary figures"
   ]
  }
 ],
 "metadata": {
  "kernelspec": {
   "display_name": "Python 3",
   "language": "python",
   "name": "python3"
  },
  "language_info": {
   "codemirror_mode": {
    "name": "ipython",
    "version": 3
   },
   "file_extension": ".py",
   "mimetype": "text/x-python",
   "name": "python",
   "nbconvert_exporter": "python",
   "pygments_lexer": "ipython3",
   "version": "3.6.3"
  }
 },
 "nbformat": 4,
 "nbformat_minor": 2
}
