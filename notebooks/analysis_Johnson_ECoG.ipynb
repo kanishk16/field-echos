{
 "cells": [
  {
   "cell_type": "markdown",
   "metadata": {},
   "source": [
    "# checks\n",
    "- robust to mean vs median\n",
    "- how many trials does it fail on\n",
    "- reproducible with trial averaged taus\n",
    "- does age/acc also correlate with pre or encoding taus"
   ]
  },
  {
   "cell_type": "code",
   "execution_count": 4,
   "metadata": {},
   "outputs": [
    {
     "name": "stdout",
     "output_type": "stream",
     "text": [
      "The autoreload extension is already loaded. To reload it, use:\n",
      "  %reload_ext autoreload\n"
     ]
    }
   ],
   "source": [
    "%load_ext autoreload\n",
    "%matplotlib inline\n",
    "%config InlineBackend.figure_format = 'retina' # high res plotting\n",
    "\n",
    "import hdf5storage # you need to pip install this to handle matlab > 7.3 files or something\n",
    "\n",
    "import numpy as np\n",
    "import pandas as pd\n",
    "from scipy.stats import ttest_1samp, pearsonr, spearmanr\n",
    "import statsmodels.formula.api as smf\n",
    "\n",
    "from fooof import FOOOFGroup, fit_fooof_group_3d\n",
    "\n",
    "# plotting stuff\n",
    "import matplotlib.pyplot as plt\n",
    "from seaborn import despine\n",
    "\n",
    "# plot settings\n",
    "font = {'family' : 'Bitstream Vera Sans',\n",
    "        'weight' : 'regular',\n",
    "        'size'   : 13}\n",
    "#figure = {'figsize' : (16,8)}\n",
    "\n",
    "plt.rc('font', **font)\n",
    "#plt.rc('figure', **figure)\n",
    "\n",
    "import warnings\n",
    "warnings.filterwarnings(\"ignore\")"
   ]
  },
  {
   "cell_type": "code",
   "execution_count": 5,
   "metadata": {
    "collapsed": true
   },
   "outputs": [],
   "source": [
    "# simple hamming + fft\n",
    "def get_power(data, fs):\n",
    "    data = data * np.hamming(len(data))\n",
    "    p = np.abs(np.fft.rfft(data))**2\n",
    "    f = np.linspace(0, fs/2, len(p))\n",
    "    return f, p\n",
    "\n",
    "def index_of_nearest_timepoint(list_of_times, timepoint):\n",
    "    time_idx = np.where(list_of_times>=timepoint)\n",
    "    idx = time_idx[0][0]\n",
    "    return idx\n",
    "\n",
    "# gao's knee-to-tau conversion\n",
    "def convert_knee_val(knee, exponent=2.):\n",
    "    \"\"\"\n",
    "    Convert knee parameter to frequency and time-constant value.\n",
    "    Can operate on array or float.\n",
    "\n",
    "    Default exponent value of 2 means take the square-root, but simulation shows\n",
    "    taking the exp-th root returns a more accurate drop-off frequency estimate\n",
    "    when the PSD is actually Lorentzian.\n",
    "    \"\"\"\n",
    "    knee_freq = knee**(1./exponent)\n",
    "    knee_tau = 1./(2*np.pi*knee_freq)\n",
    "    return knee_freq, knee_tau"
   ]
  },
  {
   "cell_type": "code",
   "execution_count": 120,
   "metadata": {
    "collapsed": true
   },
   "outputs": [],
   "source": [
    "# set up all the settings: analyze only OFC/PFC data\n",
    "\n",
    "# list of data directories, one for each subject\n",
    "dirs = ['s1', 's2', 's3', 's4', 's5', 's6', 's7', 's8', 's9', 's10']\n",
    "\n",
    "# these are the pfc+ofc channels for each subject\n",
    "pfc = [['RCD8','RCD9','RCD10','ROF6','ROF7','ROF8','ROF9','ROF10','ROF1','ROF2','ROF3','ROF4','ROF5'],\n",
    "       ['LIN10','RC8','LIN14','RC9','LIN15','RC10','LIN16','RC11','RC12','ROF11','ROF12','ROF13','ROF14','ROF15','ROF16','ROF2','ROF3','ROF4'],\n",
    "       ['LOF5','ROF7','LOF6','ROF8', 'LOF2'],\n",
    "       ['LCI5','ROF7','LCI6','ROF8','LCI7','RCI5','LCI8','RCI6','LCI9','RCI7','RCI8','RCI9','ROF1','ROF2'],\n",
    "       ['LTG17','LTG25','LTG26','LTG33','LTG34','LTG35','LTG41','LTG42','LTG43','LTG44','OFG1','OFG2','OFG3','OFG4','OFG6','OFG7','OFG8','OFG9','OFG11','OFG12','OFG13','OFG14','OFG16','OFG17','OFG18','OFG19'],\n",
    "       ['PF2','PF3','PF4','PF5','PF6','FG4','FG5','FG6','FG7','FG11','FG12','FG13','FG14','FG15','FG17','FG18','FG19','FG20','FG21','FG22','FG23','FG25','FG26','FG27','FG28','FG29','FG30','FG31','AOF1','AOF2','AOF3','AOF4','AOF5','MOF1','MOF2','MOF3','MOF4','MOF5','POF1','POF2','POF3','POF4','POF5','FG2','FG3','FG9','FG10'],\n",
    "       ['LOF6','ROF9','LOF7','RAC9','LOF8','RAC10','LOF9','RIN7','LIN3','RIN8','LIN4','RIN9','LIN5','LIN6','LIN7','LIN8','LIN9','LOF2','ROF1','ROF6','ROF7','ROF8'],\n",
    "       ['FOPL_04','FOPL_05','FOAL_04','FOAL_05'],\n",
    "       ['FOLA_09','FOLA_10','FOLA_11','FOLA_12','FOLP_12','FOLP_13','FORA_09','FORA_10','FORA_11','FORA_12','FORP_13','FAR_02','FAR_03','FAR_04','FAR_05','FMR_04','FMR_05','FMR_06','FAL_01','FAL_02','FAL_03','FAL_04'],\n",
    "       ['AVF1','AVF2','AVF3','AVF4','AVF5','AVF8','AVF9','MVF1','MVF2','MVF3','MVF4','PVF2','PVF3','PVF4','OF4','OF5','OF6','FG1','FG2','FG3','FG4','FG5','FG9','FG10','FG11','FG13','FG14','FG15','FG16','FG17','FG19','FG22','FG23','FG25','FG26','FG27','FG28','FG29','FG40','FG41','FP2','FP3','FP4','FP5','FP6','OF2','OF3']]\n",
    "subs_fs = [1000, 1000, 1000, 1000, 1000, 1000, 1000, 512, 512, 1000]\n",
    "\n",
    "# there are the three datatypes in the mat file\n",
    "data_types = ['data_pre', 'data_encmain', 'data_proc']\n",
    "n_types = np.shape(data_types)[0]\n",
    "\n",
    "# these are the time windows Johnson et al. used\n",
    "    # note that I'm keep all the windows 900ms so the knee-fits are all using the same amount of data\n",
    "    # but we will average taus from the two delay periods since we just want to check delay versus pre-stim\n",
    "time_wins = [[-0.9, 0.0], [0.6, 1.5], [0.3, 1.2]]\n",
    "\n",
    "# fooof settings\n",
    "freq_range = [2, 80] # this is the range gao uses\n",
    "bw_lims = [2, 8]\n",
    "max_n_peaks = 2 # single-trial fits are so noisy so this isn't super critical\n",
    "\n",
    "# behavioral variables\n",
    "ages = [33, 50, 69, 31, 22, 31, 34, 27, 34, 42]\n",
    "acc = [0.9, 0.967, 0.817, 0.933, 0.792, 0.95, 0.958, 0.95, 0.842, 0.925]\n",
    "rt = [1783.1, 1138.9, 1720.9, 1790.8, 2950.7, 1245.7, 722.4, 1165.2, 1602.1, 780.8]"
   ]
  },
  {
   "cell_type": "markdown",
   "metadata": {},
   "source": [
    "### Epoch data and compute power spectrums"
   ]
  },
  {
   "cell_type": "code",
   "execution_count": 8,
   "metadata": {},
   "outputs": [
    {
     "name": "stdout",
     "output_type": "stream",
     "text": [
      "s1|s2|s3|s4|s5|s6|s7|s8|s9|s10|"
     ]
    }
   ],
   "source": [
    "t_diff = []\n",
    "n_freqs = 100\n",
    "f_axis_all, PS_all = [], []\n",
    "for i_sub in np.arange(len(dirs)):\n",
    "    print(dirs[i_sub], end='|')\n",
    "    filepath = '/Users/rdgao/Documents/data/CRCNS/Johnson/' + dirs[i_sub] + '/data_derived.mat'\n",
    "    mat = hdf5storage.loadmat(filepath)\n",
    "    fs = subs_fs[i_sub] # subject-specific sampling rate\n",
    "\n",
    "    chans = np.squeeze(mat[data_types[0]]['label'].tolist()).tolist() # full list of channels\n",
    "    n_chans = np.shape(pfc[i_sub])[0] # number of PFC+OFC channels\n",
    "    chans_idx = []\n",
    "    for i in np.arange(n_chans):\n",
    "        pfc_chan = chans.index(pfc[i_sub][i])\n",
    "        chans_idx.append(pfc_chan)\n",
    "\n",
    "\n",
    "    fs = subs_fs[i_sub] # subject-specific sampling rate\n",
    "\n",
    "    chans = np.squeeze(mat[data_types[0]]['label'].tolist()).tolist() # full list of channels\n",
    "    n_chans = np.shape(pfc[i_sub])[0] # number of PFC+OFC channels\n",
    "\n",
    "    # find indices of PFC+OFC channels in full channel list\n",
    "    chans_idx = []\n",
    "    for i in np.arange(n_chans):\n",
    "        pfc_chan = chans.index(pfc[i_sub][i])\n",
    "        chans_idx.append(pfc_chan)\n",
    "\n",
    "    # get the number of trials, for initializing data arrays\n",
    "    data = mat[data_types[0]]['trial']\n",
    "    n_trials = np.shape(np.squeeze(data))[0]\n",
    "\n",
    "    # condition window * channels * trials\n",
    "    aexp = np.zeros((n_types, n_chans, n_trials)) # exponent\n",
    "    aexp.fill(np.nan)\n",
    "    akne = np.zeros((n_types, n_chans, n_trials)) # knee\n",
    "    akne.fill(np.nan)\n",
    "    fkne = np.zeros((n_types, n_chans, n_trials)) # knee freq\n",
    "    fkne.fill(np.nan)\n",
    "    tkne = np.zeros((n_types, n_chans, n_trials)) # tau\n",
    "    tkne.fill(np.nan)\n",
    "\n",
    "    PS_subj = np.zeros((n_types, n_chans, n_trials, n_freqs))\n",
    "    for i_cond in np.arange(n_types):\n",
    "        # restrict to proper time windows for this condition\n",
    "        idx = [0, 0]\n",
    "        times = np.asarray(np.squeeze(mat[data_types[0]]['time'].tolist()).tolist()[0])\n",
    "        timepoint = time_wins[i_cond][0]\n",
    "        idx[0] = index_of_nearest_timepoint(times, timepoint)\n",
    "        timepoint = time_wins[i_cond][1]\n",
    "        idx[1] = index_of_nearest_timepoint(times, timepoint)\n",
    "        n_points = np.abs(np.diff(idx))[0]\n",
    "\n",
    "        # condition data\n",
    "        cond_data = mat[data_types[i_cond]]['trial']\n",
    "\n",
    "        # get data array: channels by trials by times\n",
    "        trial = np.zeros((n_chans, n_trials, n_points))\n",
    "        for i in np.arange(n_trials):\n",
    "            trial_dat = np.squeeze(np.squeeze(cond_data)).tolist()[i]\n",
    "            trial[:, i, :] = trial_dat[chans_idx, idx[0]:idx[1]]\n",
    "\n",
    "        # get power spectrum for each trial and channel\n",
    "        for i_chan in np.arange(n_chans):\n",
    "            for i_trial in np.arange(n_trials):\n",
    "                trial_data = trial[i_chan, i_trial, :] # data vector\n",
    "                freqs, PS = get_power(trial_data, fs) # power spectrum\n",
    "                PS_subj[i_cond, i_chan, i_trial,:] = PS[:n_freqs]\n",
    "\n",
    "    f_axis_all.append(freqs[:n_freqs])\n",
    "    PS_all.append(PS_subj)"
   ]
  },
  {
   "cell_type": "markdown",
   "metadata": {},
   "source": [
    "### FOOOFing trial averaged data"
   ]
  },
  {
   "cell_type": "code",
   "execution_count": 154,
   "metadata": {},
   "outputs": [],
   "source": [
    "tt_all = []\n",
    "tau_avg_all = []\n",
    "for i_subj in range(len(PS_all)):\n",
    "    # median of all PS over trials\n",
    "    PSD = np.median(PS_all[i_subj],2)\n",
    "    fm = FOOOFGroup(peak_width_limits=bw_lims, aperiodic_mode='knee', max_n_peaks=max_n_peaks, verbose=False)\n",
    "    fgs = fit_fooof_group_3d(fm, freqs[:n_freqs], PSD, freq_range)\n",
    "    ap_params = np.array([fg.get_params('aperiodic_params')[:,1:] for fg in fgs])\n",
    "    tau = convert_knee_val(ap_params[:,:,0],ap_params[:,:,1])[1]\n",
    "    tau_pre = tau[0,:]\n",
    "    tau_enc = (tau[1,:]+tau[2,:])/2\n",
    "    tau_avg_all.append(np.nanmedian(np.array((tau_pre, tau_enc, tau_enc-tau_pre)), axis=1))\n",
    "    tt_all.append(ttest_1samp(tau_enc-tau_pre,0,nan_policy='omit'))\n",
    "    \n",
    "tt_all = np.array(tt_all)\n",
    "tau_avg_all = np.array(tau_avg_all)"
   ]
  },
  {
   "cell_type": "code",
   "execution_count": 156,
   "metadata": {},
   "outputs": [
    {
     "name": "stdout",
     "output_type": "stream",
     "text": [
      "t-stat=3.112, p-value=0.014\n"
     ]
    }
   ],
   "source": [
    "# t-test for if electrode-level differences within subjects are all positive\n",
    "print('t-stat=%.3f, p-value=%.3f'%ttest_1samp(tt_all[:,0],0,nan_policy='omit'))\n"
   ]
  },
  {
   "cell_type": "markdown",
   "metadata": {},
   "source": [
    "### FOOOF single trial data"
   ]
  },
  {
   "cell_type": "code",
   "execution_count": 163,
   "metadata": {},
   "outputs": [
    {
     "ename": "KeyboardInterrupt",
     "evalue": "",
     "output_type": "error",
     "traceback": [
      "\u001b[0;31m---------------------------------------------------------------------------\u001b[0m",
      "\u001b[0;31mKeyboardInterrupt\u001b[0m                         Traceback (most recent call last)",
      "\u001b[0;32m<ipython-input-163-9401ba5b7d09>\u001b[0m in \u001b[0;36m<module>\u001b[0;34m()\u001b[0m\n\u001b[1;32m      1\u001b[0m \u001b[0;32mfor\u001b[0m \u001b[0mi_cond\u001b[0m \u001b[0;32min\u001b[0m \u001b[0mrange\u001b[0m\u001b[0;34m(\u001b[0m\u001b[0mlen\u001b[0m\u001b[0;34m(\u001b[0m\u001b[0mdata_types\u001b[0m\u001b[0;34m)\u001b[0m\u001b[0;34m)\u001b[0m\u001b[0;34m:\u001b[0m\u001b[0;34m\u001b[0m\u001b[0;34m\u001b[0m\u001b[0m\n\u001b[1;32m      2\u001b[0m     \u001b[0mfm\u001b[0m \u001b[0;34m=\u001b[0m \u001b[0mFOOOFGroup\u001b[0m\u001b[0;34m(\u001b[0m\u001b[0mpeak_width_limits\u001b[0m\u001b[0;34m=\u001b[0m\u001b[0mbw_lims\u001b[0m\u001b[0;34m,\u001b[0m \u001b[0maperiodic_mode\u001b[0m\u001b[0;34m=\u001b[0m\u001b[0;34m'knee'\u001b[0m\u001b[0;34m,\u001b[0m \u001b[0mmax_n_peaks\u001b[0m\u001b[0;34m=\u001b[0m\u001b[0mmax_n_peaks\u001b[0m\u001b[0;34m,\u001b[0m \u001b[0mverbose\u001b[0m\u001b[0;34m=\u001b[0m\u001b[0;32mFalse\u001b[0m\u001b[0;34m)\u001b[0m\u001b[0;34m\u001b[0m\u001b[0;34m\u001b[0m\u001b[0m\n\u001b[0;32m----> 3\u001b[0;31m     \u001b[0mfgs\u001b[0m \u001b[0;34m=\u001b[0m \u001b[0mfit_fooof_group_3d\u001b[0m\u001b[0;34m(\u001b[0m\u001b[0mfm\u001b[0m\u001b[0;34m,\u001b[0m \u001b[0mfreqs\u001b[0m\u001b[0;34m[\u001b[0m\u001b[0;34m:\u001b[0m\u001b[0mn_freqs\u001b[0m\u001b[0;34m]\u001b[0m\u001b[0;34m,\u001b[0m \u001b[0mPS_all\u001b[0m\u001b[0;34m[\u001b[0m\u001b[0mi_subj\u001b[0m\u001b[0;34m]\u001b[0m\u001b[0;34m[\u001b[0m\u001b[0mi_cond\u001b[0m\u001b[0;34m]\u001b[0m\u001b[0;34m,\u001b[0m \u001b[0mfreq_range\u001b[0m\u001b[0;34m)\u001b[0m\u001b[0;34m\u001b[0m\u001b[0;34m\u001b[0m\u001b[0m\n\u001b[0m",
      "\u001b[0;32m~/anaconda3/lib/python3.6/site-packages/fooof-1.0.0rc1-py3.6.egg/fooof/funcs.py\u001b[0m in \u001b[0;36mfit_fooof_group_3d\u001b[0;34m(fg, freqs, power_spectra, freq_range, n_jobs)\u001b[0m\n\u001b[1;32m    139\u001b[0m     \u001b[0mfgs\u001b[0m \u001b[0;34m=\u001b[0m \u001b[0;34m[\u001b[0m\u001b[0;34m]\u001b[0m\u001b[0;34m\u001b[0m\u001b[0;34m\u001b[0m\u001b[0m\n\u001b[1;32m    140\u001b[0m     \u001b[0;32mfor\u001b[0m \u001b[0mcond_spectra\u001b[0m \u001b[0;32min\u001b[0m \u001b[0mpower_spectra\u001b[0m\u001b[0;34m:\u001b[0m\u001b[0;34m\u001b[0m\u001b[0;34m\u001b[0m\u001b[0m\n\u001b[0;32m--> 141\u001b[0;31m         \u001b[0mfg\u001b[0m\u001b[0;34m.\u001b[0m\u001b[0mfit\u001b[0m\u001b[0;34m(\u001b[0m\u001b[0mfreqs\u001b[0m\u001b[0;34m,\u001b[0m \u001b[0mcond_spectra\u001b[0m\u001b[0;34m,\u001b[0m \u001b[0mfreq_range\u001b[0m\u001b[0;34m,\u001b[0m \u001b[0mn_jobs\u001b[0m\u001b[0;34m)\u001b[0m\u001b[0;34m\u001b[0m\u001b[0;34m\u001b[0m\u001b[0m\n\u001b[0m\u001b[1;32m    142\u001b[0m         \u001b[0mfgs\u001b[0m\u001b[0;34m.\u001b[0m\u001b[0mappend\u001b[0m\u001b[0;34m(\u001b[0m\u001b[0mfg\u001b[0m\u001b[0;34m.\u001b[0m\u001b[0mcopy\u001b[0m\u001b[0;34m(\u001b[0m\u001b[0;34m)\u001b[0m\u001b[0;34m)\u001b[0m\u001b[0;34m\u001b[0m\u001b[0;34m\u001b[0m\u001b[0m\n\u001b[1;32m    143\u001b[0m \u001b[0;34m\u001b[0m\u001b[0m\n",
      "\u001b[0;32m~/anaconda3/lib/python3.6/site-packages/fooof-1.0.0rc1-py3.6.egg/fooof/group.py\u001b[0m in \u001b[0;36mfit\u001b[0;34m(self, freqs, power_spectra, freq_range, n_jobs)\u001b[0m\n\u001b[1;32m    175\u001b[0m             \u001b[0;32mfor\u001b[0m \u001b[0mind\u001b[0m\u001b[0;34m,\u001b[0m \u001b[0mpower_spectrum\u001b[0m \u001b[0;32min\u001b[0m\u001b[0;31m \u001b[0m\u001b[0;31m\\\u001b[0m\u001b[0;34m\u001b[0m\u001b[0;34m\u001b[0m\u001b[0m\n\u001b[1;32m    176\u001b[0m                 \u001b[0m_progress\u001b[0m\u001b[0;34m(\u001b[0m\u001b[0menumerate\u001b[0m\u001b[0;34m(\u001b[0m\u001b[0mself\u001b[0m\u001b[0;34m.\u001b[0m\u001b[0mpower_spectra\u001b[0m\u001b[0;34m)\u001b[0m\u001b[0;34m,\u001b[0m \u001b[0mself\u001b[0m\u001b[0;34m.\u001b[0m\u001b[0mverbose\u001b[0m\u001b[0;34m,\u001b[0m \u001b[0mlen\u001b[0m\u001b[0;34m(\u001b[0m\u001b[0mself\u001b[0m\u001b[0;34m)\u001b[0m\u001b[0;34m)\u001b[0m\u001b[0;34m:\u001b[0m\u001b[0;34m\u001b[0m\u001b[0;34m\u001b[0m\u001b[0m\n\u001b[0;32m--> 177\u001b[0;31m                 \u001b[0mself\u001b[0m\u001b[0;34m.\u001b[0m\u001b[0m_fit\u001b[0m\u001b[0;34m(\u001b[0m\u001b[0mpower_spectrum\u001b[0m\u001b[0;34m=\u001b[0m\u001b[0mpower_spectrum\u001b[0m\u001b[0;34m)\u001b[0m\u001b[0;34m\u001b[0m\u001b[0;34m\u001b[0m\u001b[0m\n\u001b[0m\u001b[1;32m    178\u001b[0m                 \u001b[0mself\u001b[0m\u001b[0;34m.\u001b[0m\u001b[0mgroup_results\u001b[0m\u001b[0;34m[\u001b[0m\u001b[0mind\u001b[0m\u001b[0;34m]\u001b[0m \u001b[0;34m=\u001b[0m \u001b[0mself\u001b[0m\u001b[0;34m.\u001b[0m\u001b[0m_get_results\u001b[0m\u001b[0;34m(\u001b[0m\u001b[0;34m)\u001b[0m\u001b[0;34m\u001b[0m\u001b[0;34m\u001b[0m\u001b[0m\n\u001b[1;32m    179\u001b[0m \u001b[0;34m\u001b[0m\u001b[0m\n",
      "\u001b[0;32m~/anaconda3/lib/python3.6/site-packages/fooof-1.0.0rc1-py3.6.egg/fooof/group.py\u001b[0m in \u001b[0;36m_fit\u001b[0;34m(self, *args, **kwargs)\u001b[0m\n\u001b[1;32m    349\u001b[0m         \u001b[0;34m\"\"\"Create an alias to FOOOF.fit for FOOOFGroup object, for internal use.\"\"\"\u001b[0m\u001b[0;34m\u001b[0m\u001b[0;34m\u001b[0m\u001b[0m\n\u001b[1;32m    350\u001b[0m \u001b[0;34m\u001b[0m\u001b[0m\n\u001b[0;32m--> 351\u001b[0;31m         \u001b[0msuper\u001b[0m\u001b[0;34m(\u001b[0m\u001b[0;34m)\u001b[0m\u001b[0;34m.\u001b[0m\u001b[0mfit\u001b[0m\u001b[0;34m(\u001b[0m\u001b[0;34m*\u001b[0m\u001b[0margs\u001b[0m\u001b[0;34m,\u001b[0m \u001b[0;34m**\u001b[0m\u001b[0mkwargs\u001b[0m\u001b[0;34m)\u001b[0m\u001b[0;34m\u001b[0m\u001b[0;34m\u001b[0m\u001b[0m\n\u001b[0m\u001b[1;32m    352\u001b[0m \u001b[0;34m\u001b[0m\u001b[0m\n\u001b[1;32m    353\u001b[0m \u001b[0;34m\u001b[0m\u001b[0m\n",
      "\u001b[0;32m~/anaconda3/lib/python3.6/site-packages/fooof-1.0.0rc1-py3.6.egg/fooof/fit.py\u001b[0m in \u001b[0;36mfit\u001b[0;34m(self, freqs, power_spectrum, freq_range)\u001b[0m\n\u001b[1;32m    368\u001b[0m \u001b[0;34m\u001b[0m\u001b[0m\n\u001b[1;32m    369\u001b[0m             \u001b[0;31m# Find peaks, and fit them with gaussians\u001b[0m\u001b[0;34m\u001b[0m\u001b[0;34m\u001b[0m\u001b[0;34m\u001b[0m\u001b[0m\n\u001b[0;32m--> 370\u001b[0;31m             \u001b[0mself\u001b[0m\u001b[0;34m.\u001b[0m\u001b[0mgaussian_params_\u001b[0m \u001b[0;34m=\u001b[0m \u001b[0mself\u001b[0m\u001b[0;34m.\u001b[0m\u001b[0m_fit_peaks\u001b[0m\u001b[0;34m(\u001b[0m\u001b[0mnp\u001b[0m\u001b[0;34m.\u001b[0m\u001b[0mcopy\u001b[0m\u001b[0;34m(\u001b[0m\u001b[0mself\u001b[0m\u001b[0;34m.\u001b[0m\u001b[0m_spectrum_flat\u001b[0m\u001b[0;34m)\u001b[0m\u001b[0;34m)\u001b[0m\u001b[0;34m\u001b[0m\u001b[0;34m\u001b[0m\u001b[0m\n\u001b[0m\u001b[1;32m    371\u001b[0m \u001b[0;34m\u001b[0m\u001b[0m\n\u001b[1;32m    372\u001b[0m             \u001b[0;31m# Calculate the peak fit\u001b[0m\u001b[0;34m\u001b[0m\u001b[0;34m\u001b[0m\u001b[0;34m\u001b[0m\u001b[0m\n",
      "\u001b[0;32m~/anaconda3/lib/python3.6/site-packages/fooof-1.0.0rc1-py3.6.egg/fooof/fit.py\u001b[0m in \u001b[0;36m_fit_peaks\u001b[0;34m(self, flat_iter)\u001b[0m\n\u001b[1;32m    745\u001b[0m         \u001b[0;31m# If there are peak guesses, fit the peaks, and sort results.\u001b[0m\u001b[0;34m\u001b[0m\u001b[0;34m\u001b[0m\u001b[0;34m\u001b[0m\u001b[0m\n\u001b[1;32m    746\u001b[0m         \u001b[0;32mif\u001b[0m \u001b[0mlen\u001b[0m\u001b[0;34m(\u001b[0m\u001b[0mguess\u001b[0m\u001b[0;34m)\u001b[0m \u001b[0;34m>\u001b[0m \u001b[0;36m0\u001b[0m\u001b[0;34m:\u001b[0m\u001b[0;34m\u001b[0m\u001b[0;34m\u001b[0m\u001b[0m\n\u001b[0;32m--> 747\u001b[0;31m             \u001b[0mgaussian_params\u001b[0m \u001b[0;34m=\u001b[0m \u001b[0mself\u001b[0m\u001b[0;34m.\u001b[0m\u001b[0m_fit_peak_guess\u001b[0m\u001b[0;34m(\u001b[0m\u001b[0mguess\u001b[0m\u001b[0;34m)\u001b[0m\u001b[0;34m\u001b[0m\u001b[0;34m\u001b[0m\u001b[0m\n\u001b[0m\u001b[1;32m    748\u001b[0m             \u001b[0mgaussian_params\u001b[0m \u001b[0;34m=\u001b[0m \u001b[0mgaussian_params\u001b[0m\u001b[0;34m[\u001b[0m\u001b[0mgaussian_params\u001b[0m\u001b[0;34m[\u001b[0m\u001b[0;34m:\u001b[0m\u001b[0;34m,\u001b[0m \u001b[0;36m0\u001b[0m\u001b[0;34m]\u001b[0m\u001b[0;34m.\u001b[0m\u001b[0margsort\u001b[0m\u001b[0;34m(\u001b[0m\u001b[0;34m)\u001b[0m\u001b[0;34m]\u001b[0m\u001b[0;34m\u001b[0m\u001b[0;34m\u001b[0m\u001b[0m\n\u001b[1;32m    749\u001b[0m         \u001b[0;32melse\u001b[0m\u001b[0;34m:\u001b[0m\u001b[0;34m\u001b[0m\u001b[0;34m\u001b[0m\u001b[0m\n",
      "\u001b[0;32m~/anaconda3/lib/python3.6/site-packages/fooof-1.0.0rc1-py3.6.egg/fooof/fit.py\u001b[0m in \u001b[0;36m_fit_peak_guess\u001b[0;34m(self, guess)\u001b[0m\n\u001b[1;32m    795\u001b[0m         \u001b[0;31m# Fit the peaks.\u001b[0m\u001b[0;34m\u001b[0m\u001b[0;34m\u001b[0m\u001b[0;34m\u001b[0m\u001b[0m\n\u001b[1;32m    796\u001b[0m         gaussian_params, _ = curve_fit(gaussian_function, self.freqs, self._spectrum_flat,\n\u001b[0;32m--> 797\u001b[0;31m                                        p0=guess, maxfev=5000, bounds=gaus_param_bounds)\n\u001b[0m\u001b[1;32m    798\u001b[0m \u001b[0;34m\u001b[0m\u001b[0m\n\u001b[1;32m    799\u001b[0m         \u001b[0;31m# Re-organize params into 2d matrix.\u001b[0m\u001b[0;34m\u001b[0m\u001b[0;34m\u001b[0m\u001b[0;34m\u001b[0m\u001b[0m\n",
      "\u001b[0;32m~/anaconda3/lib/python3.6/site-packages/scipy/optimize/minpack.py\u001b[0m in \u001b[0;36mcurve_fit\u001b[0;34m(f, xdata, ydata, p0, sigma, absolute_sigma, check_finite, bounds, method, jac, **kwargs)\u001b[0m\n\u001b[1;32m    765\u001b[0m \u001b[0;34m\u001b[0m\u001b[0m\n\u001b[1;32m    766\u001b[0m         res = least_squares(func, p0, jac=jac, bounds=bounds, method=method,\n\u001b[0;32m--> 767\u001b[0;31m                             **kwargs)\n\u001b[0m\u001b[1;32m    768\u001b[0m \u001b[0;34m\u001b[0m\u001b[0m\n\u001b[1;32m    769\u001b[0m         \u001b[0;32mif\u001b[0m \u001b[0;32mnot\u001b[0m \u001b[0mres\u001b[0m\u001b[0;34m.\u001b[0m\u001b[0msuccess\u001b[0m\u001b[0;34m:\u001b[0m\u001b[0;34m\u001b[0m\u001b[0;34m\u001b[0m\u001b[0m\n",
      "\u001b[0;32m~/anaconda3/lib/python3.6/site-packages/scipy/optimize/_lsq/least_squares.py\u001b[0m in \u001b[0;36mleast_squares\u001b[0;34m(fun, x0, jac, bounds, method, ftol, xtol, gtol, x_scale, loss, f_scale, diff_step, tr_solver, tr_options, jac_sparsity, max_nfev, verbose, args, kwargs)\u001b[0m\n\u001b[1;32m    914\u001b[0m         result = trf(fun_wrapped, jac_wrapped, x0, f0, J0, lb, ub, ftol, xtol,\n\u001b[1;32m    915\u001b[0m                      \u001b[0mgtol\u001b[0m\u001b[0;34m,\u001b[0m \u001b[0mmax_nfev\u001b[0m\u001b[0;34m,\u001b[0m \u001b[0mx_scale\u001b[0m\u001b[0;34m,\u001b[0m \u001b[0mloss_function\u001b[0m\u001b[0;34m,\u001b[0m \u001b[0mtr_solver\u001b[0m\u001b[0;34m,\u001b[0m\u001b[0;34m\u001b[0m\u001b[0;34m\u001b[0m\u001b[0m\n\u001b[0;32m--> 916\u001b[0;31m                      tr_options.copy(), verbose)\n\u001b[0m\u001b[1;32m    917\u001b[0m \u001b[0;34m\u001b[0m\u001b[0m\n\u001b[1;32m    918\u001b[0m     \u001b[0;32melif\u001b[0m \u001b[0mmethod\u001b[0m \u001b[0;34m==\u001b[0m \u001b[0;34m'dogbox'\u001b[0m\u001b[0;34m:\u001b[0m\u001b[0;34m\u001b[0m\u001b[0;34m\u001b[0m\u001b[0m\n",
      "\u001b[0;32m~/anaconda3/lib/python3.6/site-packages/scipy/optimize/_lsq/trf.py\u001b[0m in \u001b[0;36mtrf\u001b[0;34m(fun, jac, x0, f0, J0, lb, ub, ftol, xtol, gtol, max_nfev, x_scale, loss_function, tr_solver, tr_options, verbose)\u001b[0m\n\u001b[1;32m    126\u001b[0m         return trf_bounds(\n\u001b[1;32m    127\u001b[0m             \u001b[0mfun\u001b[0m\u001b[0;34m,\u001b[0m \u001b[0mjac\u001b[0m\u001b[0;34m,\u001b[0m \u001b[0mx0\u001b[0m\u001b[0;34m,\u001b[0m \u001b[0mf0\u001b[0m\u001b[0;34m,\u001b[0m \u001b[0mJ0\u001b[0m\u001b[0;34m,\u001b[0m \u001b[0mlb\u001b[0m\u001b[0;34m,\u001b[0m \u001b[0mub\u001b[0m\u001b[0;34m,\u001b[0m \u001b[0mftol\u001b[0m\u001b[0;34m,\u001b[0m \u001b[0mxtol\u001b[0m\u001b[0;34m,\u001b[0m \u001b[0mgtol\u001b[0m\u001b[0;34m,\u001b[0m \u001b[0mmax_nfev\u001b[0m\u001b[0;34m,\u001b[0m \u001b[0mx_scale\u001b[0m\u001b[0;34m,\u001b[0m\u001b[0;34m\u001b[0m\u001b[0;34m\u001b[0m\u001b[0m\n\u001b[0;32m--> 128\u001b[0;31m             loss_function, tr_solver, tr_options, verbose)\n\u001b[0m\u001b[1;32m    129\u001b[0m \u001b[0;34m\u001b[0m\u001b[0m\n\u001b[1;32m    130\u001b[0m \u001b[0;34m\u001b[0m\u001b[0m\n",
      "\u001b[0;32m~/anaconda3/lib/python3.6/site-packages/scipy/optimize/_lsq/trf.py\u001b[0m in \u001b[0;36mtrf_bounds\u001b[0;34m(fun, jac, x0, f0, J0, lb, ub, ftol, xtol, gtol, max_nfev, x_scale, loss_function, tr_solver, tr_options, verbose)\u001b[0m\n\u001b[1;32m    302\u001b[0m             \u001b[0mJ_h\u001b[0m \u001b[0;34m=\u001b[0m \u001b[0mJ_augmented\u001b[0m\u001b[0;34m[\u001b[0m\u001b[0;34m:\u001b[0m\u001b[0mm\u001b[0m\u001b[0;34m]\u001b[0m  \u001b[0;31m# Memory view.\u001b[0m\u001b[0;34m\u001b[0m\u001b[0;34m\u001b[0m\u001b[0m\n\u001b[1;32m    303\u001b[0m             \u001b[0mJ_augmented\u001b[0m\u001b[0;34m[\u001b[0m\u001b[0mm\u001b[0m\u001b[0;34m:\u001b[0m\u001b[0;34m]\u001b[0m \u001b[0;34m=\u001b[0m \u001b[0mnp\u001b[0m\u001b[0;34m.\u001b[0m\u001b[0mdiag\u001b[0m\u001b[0;34m(\u001b[0m\u001b[0mdiag_h\u001b[0m\u001b[0;34m**\u001b[0m\u001b[0;36m0.5\u001b[0m\u001b[0;34m)\u001b[0m\u001b[0;34m\u001b[0m\u001b[0;34m\u001b[0m\u001b[0m\n\u001b[0;32m--> 304\u001b[0;31m             \u001b[0mU\u001b[0m\u001b[0;34m,\u001b[0m \u001b[0ms\u001b[0m\u001b[0;34m,\u001b[0m \u001b[0mV\u001b[0m \u001b[0;34m=\u001b[0m \u001b[0msvd\u001b[0m\u001b[0;34m(\u001b[0m\u001b[0mJ_augmented\u001b[0m\u001b[0;34m,\u001b[0m \u001b[0mfull_matrices\u001b[0m\u001b[0;34m=\u001b[0m\u001b[0;32mFalse\u001b[0m\u001b[0;34m)\u001b[0m\u001b[0;34m\u001b[0m\u001b[0;34m\u001b[0m\u001b[0m\n\u001b[0m\u001b[1;32m    305\u001b[0m             \u001b[0mV\u001b[0m \u001b[0;34m=\u001b[0m \u001b[0mV\u001b[0m\u001b[0;34m.\u001b[0m\u001b[0mT\u001b[0m\u001b[0;34m\u001b[0m\u001b[0;34m\u001b[0m\u001b[0m\n\u001b[1;32m    306\u001b[0m             \u001b[0muf\u001b[0m \u001b[0;34m=\u001b[0m \u001b[0mU\u001b[0m\u001b[0;34m.\u001b[0m\u001b[0mT\u001b[0m\u001b[0;34m.\u001b[0m\u001b[0mdot\u001b[0m\u001b[0;34m(\u001b[0m\u001b[0mf_augmented\u001b[0m\u001b[0;34m)\u001b[0m\u001b[0;34m\u001b[0m\u001b[0;34m\u001b[0m\u001b[0m\n",
      "\u001b[0;32m~/anaconda3/lib/python3.6/site-packages/scipy/linalg/decomp_svd.py\u001b[0m in \u001b[0;36msvd\u001b[0;34m(a, full_matrices, compute_uv, overwrite_a, check_finite, lapack_driver)\u001b[0m\n\u001b[1;32m    127\u001b[0m     \u001b[0;31m# perform decomposition\u001b[0m\u001b[0;34m\u001b[0m\u001b[0;34m\u001b[0m\u001b[0;34m\u001b[0m\u001b[0m\n\u001b[1;32m    128\u001b[0m     u, s, v, info = gesXd(a1, compute_uv=compute_uv, lwork=lwork,\n\u001b[0;32m--> 129\u001b[0;31m                           full_matrices=full_matrices, overwrite_a=overwrite_a)\n\u001b[0m\u001b[1;32m    130\u001b[0m \u001b[0;34m\u001b[0m\u001b[0m\n\u001b[1;32m    131\u001b[0m     \u001b[0;32mif\u001b[0m \u001b[0minfo\u001b[0m \u001b[0;34m>\u001b[0m \u001b[0;36m0\u001b[0m\u001b[0;34m:\u001b[0m\u001b[0;34m\u001b[0m\u001b[0;34m\u001b[0m\u001b[0m\n",
      "\u001b[0;31mKeyboardInterrupt\u001b[0m: "
     ]
    }
   ],
   "source": [
    "for i_cond in range(len(data_types)):    \n",
    "    fm = FOOOFGroup(peak_width_limits=bw_lims, aperiodic_mode='knee', max_n_peaks=max_n_peaks, verbose=False)\n",
    "    fgs = fit_fooof_group_3d(fm, freqs[:n_freqs], PS_all[i_subj][i_cond], freq_range)\n"
   ]
  },
  {
   "cell_type": "code",
   "execution_count": 164,
   "metadata": {
    "collapsed": true
   },
   "outputs": [],
   "source": [
    "fgs = fit_fooof_group_3d(fm, freqs[:n_freqs], PS_all[i_subj][i_cond], freq_range)"
   ]
  },
  {
   "cell_type": "code",
   "execution_count": 165,
   "metadata": {},
   "outputs": [
    {
     "data": {
      "text/plain": [
       "[<fooof.group.FOOOFGroup at 0x1a1ed5bf98>,\n",
       " <fooof.group.FOOOFGroup at 0x1a1ed5b780>,\n",
       " <fooof.group.FOOOFGroup at 0x1a1ed31dd8>,\n",
       " <fooof.group.FOOOFGroup at 0x1a1ed31b38>,\n",
       " <fooof.group.FOOOFGroup at 0x1a1ed313c8>,\n",
       " <fooof.group.FOOOFGroup at 0x1a1ed31ba8>,\n",
       " <fooof.group.FOOOFGroup at 0x1a1ed312e8>,\n",
       " <fooof.group.FOOOFGroup at 0x1a1ed31240>,\n",
       " <fooof.group.FOOOFGroup at 0x1a1ed31128>,\n",
       " <fooof.group.FOOOFGroup at 0x1a1ed310f0>,\n",
       " <fooof.group.FOOOFGroup at 0x1a1ed31f98>,\n",
       " <fooof.group.FOOOFGroup at 0x1a1ed31e48>,\n",
       " <fooof.group.FOOOFGroup at 0x1a1dc6fcc0>,\n",
       " <fooof.group.FOOOFGroup at 0x1a1ed31c88>,\n",
       " <fooof.group.FOOOFGroup at 0x1a1ed31eb8>,\n",
       " <fooof.group.FOOOFGroup at 0x1a1ed31358>,\n",
       " <fooof.group.FOOOFGroup at 0x1a1ed314a8>,\n",
       " <fooof.group.FOOOFGroup at 0x1a1f40ecc0>,\n",
       " <fooof.group.FOOOFGroup at 0x1a1f40e8d0>,\n",
       " <fooof.group.FOOOFGroup at 0x1a1f40e550>,\n",
       " <fooof.group.FOOOFGroup at 0x1a1f40ec50>,\n",
       " <fooof.group.FOOOFGroup at 0x1a1f40e860>,\n",
       " <fooof.group.FOOOFGroup at 0x1a1f40eb70>,\n",
       " <fooof.group.FOOOFGroup at 0x1a1f40e2b0>,\n",
       " <fooof.group.FOOOFGroup at 0x1a1f40e940>,\n",
       " <fooof.group.FOOOFGroup at 0x1a1f40e6a0>,\n",
       " <fooof.group.FOOOFGroup at 0x1a1f40e320>,\n",
       " <fooof.group.FOOOFGroup at 0x1a1f40e5c0>,\n",
       " <fooof.group.FOOOFGroup at 0x1a1f40e390>,\n",
       " <fooof.group.FOOOFGroup at 0x1a1f40ef60>,\n",
       " <fooof.group.FOOOFGroup at 0x1a1f40e400>,\n",
       " <fooof.group.FOOOFGroup at 0x1a1f40e0f0>,\n",
       " <fooof.group.FOOOFGroup at 0x1a1f40ea90>,\n",
       " <fooof.group.FOOOFGroup at 0x1a1f40e240>,\n",
       " <fooof.group.FOOOFGroup at 0x1a1e6c0a58>,\n",
       " <fooof.group.FOOOFGroup at 0x1a1e6c0dd8>,\n",
       " <fooof.group.FOOOFGroup at 0x1a1e6c0898>,\n",
       " <fooof.group.FOOOFGroup at 0x1a1e6c0eb8>,\n",
       " <fooof.group.FOOOFGroup at 0x1a1e6c0978>,\n",
       " <fooof.group.FOOOFGroup at 0x1a1f411160>,\n",
       " <fooof.group.FOOOFGroup at 0x1a1f411e80>,\n",
       " <fooof.group.FOOOFGroup at 0x1a1f411b70>,\n",
       " <fooof.group.FOOOFGroup at 0x1a1f411c50>,\n",
       " <fooof.group.FOOOFGroup at 0x1a1f411f60>,\n",
       " <fooof.group.FOOOFGroup at 0x1a1f4118d0>,\n",
       " <fooof.group.FOOOFGroup at 0x1a1f4117f0>,\n",
       " <fooof.group.FOOOFGroup at 0x1a1dba7438>]"
      ]
     },
     "execution_count": 165,
     "metadata": {},
     "output_type": "execute_result"
    }
   ],
   "source": [
    "fgs[0]"
   ]
  },
  {
   "cell_type": "code",
   "execution_count": null,
   "metadata": {
    "collapsed": true
   },
   "outputs": [],
   "source": [
    "#     PSD = np.median(PS_all,2)\n",
    "#     fm = FOOOFGroup(peak_width_limits=bw_lims, aperiodic_mode='knee', max_n_peaks=max_n_peaks)\n",
    "#     fgs = fit_fooof_group_3d(fm, freqs[:n_freqs], PSD, freq_range)\n",
    "#     taus_chan = np.array([convert_knee_val(fg.get_params('aperiodic_params', 'knee'), fg.get_params('aperiodic_params', 'exponent'))[1] for fg in fgs])\n",
    "#     tau_pre = taus_chan[0,:]\n",
    "#     tau_enc = (taus_chan[1,:]+taus_chan[2,:])/2\n",
    "#     t_diff.append(tau_enc-tau_pre)\n",
    "\n",
    "#     print(ttest_1samp(tau_enc-tau_pre, 0))\n"
   ]
  },
  {
   "cell_type": "code",
   "execution_count": 114,
   "metadata": {},
   "outputs": [
    {
     "name": "stderr",
     "output_type": "stream",
     "text": [
      "/Users/rdgao/anaconda3/lib/python3.6/site-packages/ipykernel_launcher.py:1: UserWarning: Warning: converting a masked element to nan.\n",
      "  \"\"\"Entry point for launching an IPython kernel.\n"
     ]
    },
    {
     "data": {
      "text/plain": [
       "Ttest_1sampResult(statistic=3.023460412205026, pvalue=0.01647249911624109)"
      ]
     },
     "execution_count": 114,
     "metadata": {},
     "output_type": "execute_result"
    }
   ],
   "source": [
    "tp = np.array([ttest_1samp(td,0,nan_policy='omit') for td in t_diff])\n",
    "ttest_1samp(tp[:,0],0, nan_policy='omit')"
   ]
  },
  {
   "cell_type": "code",
   "execution_count": 41,
   "metadata": {},
   "outputs": [
    {
     "data": {
      "text/plain": [
       "(33, 4501)"
      ]
     },
     "execution_count": 41,
     "metadata": {},
     "output_type": "execute_result"
    }
   ],
   "source": [
    "cond_data[0][0][0].shape"
   ]
  },
  {
   "cell_type": "code",
   "execution_count": 95,
   "metadata": {},
   "outputs": [
    {
     "name": "stdout",
     "output_type": "stream",
     "text": [
      "Running FOOOFGroup across 13 power spectra.\n",
      "Running FOOOFGroup across 13 power spectra.\n",
      "Running FOOOFGroup across 13 power spectra.\n"
     ]
    },
    {
     "data": {
      "text/plain": [
       "Ttest_1sampResult(statistic=0.9292441887522229, pvalue=0.3710782333594197)"
      ]
     },
     "execution_count": 95,
     "metadata": {},
     "output_type": "execute_result"
    }
   ],
   "source": [
    "t_diff = []\n",
    "n_freqs = 100\n",
    "PS_all = np.zeros((n_types, n_chans, n_trials, n_freqs))\n",
    "# loop over the three data time windows\n",
    "for i_cond in np.arange(n_types):\n",
    "\n",
    "    # restrict to proper time windows for this condition\n",
    "    idx = [0, 0]\n",
    "    times = np.asarray(np.squeeze(mat[data_types[0]]['time'].tolist()).tolist()[0])\n",
    "    timepoint = time_wins[i_cond][0]\n",
    "    idx[0] = index_of_nearest_timepoint(times, timepoint)\n",
    "    timepoint = time_wins[i_cond][1]\n",
    "    idx[1] = index_of_nearest_timepoint(times, timepoint)\n",
    "    n_points = np.abs(np.diff(idx))[0]\n",
    "\n",
    "    # condition data\n",
    "    cond_data = mat[data_types[i_cond]]['trial']\n",
    "\n",
    "    # get data array: channels by trials by times\n",
    "    trial = np.zeros((n_chans, n_trials, n_points))\n",
    "    for i in np.arange(n_trials):\n",
    "        trial_dat = np.squeeze(np.squeeze(cond_data)).tolist()[i]\n",
    "        trial[:, i, :] = trial_dat[chans_idx, idx[0]:idx[1]]\n",
    "\n",
    "    # get knees for each trial and channel\n",
    "    for i_chan in np.arange(n_chans):\n",
    "        for i_trial in np.arange(n_trials):\n",
    "            trial_data = trial[i_chan, i_trial, :] # data vector\n",
    "            freqs, PS = get_power(trial_data, fs) # power spectrum\n",
    "            PS_all[i_cond, i_chan, i_trial,:] = PS[:n_freqs]\n",
    "    \n",
    "PSD = np.median(PS_all,2)\n",
    "fm = FOOOFGroup(peak_width_limits=bw_lims, aperiodic_mode='knee', max_n_peaks=max_n_peaks)\n",
    "fgs = fit_fooof_group_3d(fm, freqs[:n_freqs], PSD, freq_range)\n",
    "taus_chan = np.array([convert_knee_val(fg.get_params('aperiodic_params', 'knee'), fg.get_params('aperiodic_params', 'exponent'))[1] for fg in fgs])\n",
    "tau_pre = taus_chan[0,:]\n",
    "tau_enc = (taus_chan[1,:]+taus_chan[2,:])/2\n",
    "t_diff.append(tau_enc-tau_pre)\n",
    "\n",
    "ttest_1samp(tau_enc-tau_pre, 0)"
   ]
  }
 ],
 "metadata": {
  "kernelspec": {
   "display_name": "Python 3",
   "language": "python",
   "name": "python3"
  },
  "language_info": {
   "codemirror_mode": {
    "name": "ipython",
    "version": 3
   },
   "file_extension": ".py",
   "mimetype": "text/x-python",
   "name": "python",
   "nbconvert_exporter": "python",
   "pygments_lexer": "ipython3",
   "version": "3.6.9"
  }
 },
 "nbformat": 4,
 "nbformat_minor": 2
}
