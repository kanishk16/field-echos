{
 "cells": [
  {
   "cell_type": "code",
   "execution_count": 5,
   "metadata": {},
   "outputs": [
    {
     "name": "stdout",
     "output_type": "stream",
     "text": [
      "The autoreload extension is already loaded. To reload it, use:\n",
      "  %reload_ext autoreload\n"
     ]
    }
   ],
   "source": [
    "%load_ext autoreload\n",
    "%matplotlib inline\n",
    "\n",
    "import sys\n",
    "import numpy as np\n",
    "from scipy import io\n",
    "import matplotlib.pyplot as plt\n",
    "from seaborn import despine\n",
    "\n",
    "# nonstandard imports\n",
    "from fooof import FOOOF\n",
    "from neurodsp import spectral\n",
    "\n",
    "sys.path.append('../')\n",
    "import echo_utils\n",
    "\n",
    "font = {'family' : 'Arial',\n",
    "        'weight' : 'regular',\n",
    "        'size'   : 14}\n",
    "plt.rc('font', **font)\n",
    "\n",
    "import warnings\n",
    "warnings.filterwarnings('ignore')"
   ]
  },
  {
   "cell_type": "code",
   "execution_count": 2,
   "metadata": {},
   "outputs": [],
   "source": [
    "datafolder = '/Users/rdgao/Documents/data/NeuroTycho/Propofol/20120802PF_Anesthesia+and+Sleep_Chibi_Toru+Yanagawa_mat_ECoG128/Session1/'\n",
    "chan = 127\n",
    "data_exmp = io.loadmat(datafolder+'ECoG_ch%i.mat'%chan, squeeze_me=True)['ECoGData_ch%i'%chan]\n",
    "cond = io.loadmat(datafolder+'Condition.mat', squeeze_me=True)\n",
    "data = data_exmp[cond['ConditionIndex'][0]:cond['ConditionIndex'][1]]\n",
    "fs = 1000"
   ]
  },
  {
   "cell_type": "code",
   "execution_count": 76,
   "metadata": {},
   "outputs": [
    {
     "name": "stdout",
     "output_type": "stream",
     "text": [
      "\n",
      "FOOOF WARNING: Lower-bound peak width limit is < or ~= the frequency resolution: 1.00 <= 0.50\n",
      "\tLower bounds below frequency-resolution have no effect (effective lower bound is the frequency resolution).\n",
      "\tToo low a limit may lead to overfitting noise as small bandwidth peaks.\n",
      "\tWe recommend a lower bound of approximately 2x the frequency resolution.\n",
      "\n",
      "\n",
      "FOOOF WARNING: Lower-bound peak width limit is < or ~= the frequency resolution: 1.00 <= 0.50\n",
      "\tLower bounds below frequency-resolution have no effect (effective lower bound is the frequency resolution).\n",
      "\tToo low a limit may lead to overfitting noise as small bandwidth peaks.\n",
      "\tWe recommend a lower bound of approximately 2x the frequency resolution.\n",
      "\n",
      "18.016591117464287 0.008833798916467574 2.8796928146504994\n"
     ]
    },
    {
     "data": {
      "image/png": "[encoded data removed]",
      "text/plain": [
       "<Figure size 288x288 with 1 Axes>"
      ]
     },
     "metadata": {
      "needs_background": "light"
     },
     "output_type": "display_data"
    }
   ],
   "source": [
    "fit_range=[3,80]\n",
    "plt_inds = np.arange(fit_range[0],fit_range[1]+1)\n",
    "faxis, psd = spectral.compute_spectrum(data,fs,avg_type='median')\n",
    "\n",
    "# fit fooof without knee\n",
    "fo0 = FOOOF(max_n_peaks=1, aperiodic_mode='fixed')\n",
    "fo0.fit(faxis, psd, fit_range)\n",
    "\n",
    "# fit fooof with knee\n",
    "fok = FOOOF(max_n_peaks=1, aperiodic_mode='knee')\n",
    "fok.fit(faxis, psd, fit_range)\n",
    "offset, knee, exp = fok.get_params('aperiodic_params')\n",
    "kfreq, tau = echo_utils.convert_knee_val(knee,exp)\n",
    "print(kfreq, tau, exp)\n",
    "\n",
    "plt.figure(figsize=(4,4))\n",
    "plt.loglog(faxis[plt_inds], psd[plt_inds], 'k', lw=5, alpha=0.3)\n",
    "#plt.loglog(faxis[plt_inds], 10**fo0.fooofed_spectrum_)\n",
    "plt.loglog(faxis[plt_inds], 10**fok.fooofed_spectrum_, 'k-')\n",
    "despine()\n",
    "\n",
    "\n",
    "plt.loglog(faxis[plt_inds], 10**offset/(knee+faxis**exp)[plt_inds], '--r', lw=2)\n",
    "plt.xlim([3,100])\n",
    "plt.xlabel('Frequency (Hz)');plt.ylabel('Power');\n",
    "plt.xticks([10, 100], ['10', '100']);plt.yticks([]);\n",
    "plt.legend(['Data', 'Full Model', 'Aperiodic Fit'], frameon=False)\n",
    "plt.plot(kfreq, plt.ylim()[1]*0.9, 'vk', ms=12)\n",
    "\n",
    "plt.tight_layout()\n"
   ]
  },
  {
   "cell_type": "code",
   "execution_count": 64,
   "metadata": {},
   "outputs": [],
   "source": [
    "# compute autocorrelation function\n",
    "max_lag=251\n",
    "acf = np.zeros(max_lag)\n",
    "acf[0] = np.corrcoef(data,data)[0,1]\n",
    "for lag in range(1,max_lag):\n",
    "    acf[lag] = np.corrcoef(data[lag:],data[:-lag])[0,1]"
   ]
  },
  {
   "cell_type": "code",
   "execution_count": 79,
   "metadata": {},
   "outputs": [
    {
     "data": {
      "image/png": "[encoded data removed]",
      "text/plain": [
       "<Figure size 79.2x79.2 with 1 Axes>"
      ]
     },
     "metadata": {
      "needs_background": "light"
     },
     "output_type": "display_data"
    }
   ],
   "source": [
    "# plot a tiny autocorrelation function for inset\n",
    "t_acf = np.arange(0,max_lag)/1000\n",
    "plt.figure(figsize=(1.1,1.1))\n",
    "plt.plot(t_acf, acf, 'k', lw=2)\n",
    "plt.xticks([0,t_acf[-1]]); plt.yticks([1],['1'])\n",
    "despine()"
   ]
  },
  {
   "cell_type": "markdown",
   "metadata": {},
   "source": [
    "### some kind of modeling of spiking vs synaptic changes in AC?"
   ]
  }
 ],
 "metadata": {
  "kernelspec": {
   "display_name": "Python 3",
   "language": "python",
   "name": "python3"
  },
  "language_info": {
   "codemirror_mode": {
    "name": "ipython",
    "version": 3
   },
   "file_extension": ".py",
   "mimetype": "text/x-python",
   "name": "python",
   "nbconvert_exporter": "python",
   "pygments_lexer": "ipython3",
   "version": "3.6.9"
  }
 },
 "nbformat": 4,
 "nbformat_minor": 2
}
