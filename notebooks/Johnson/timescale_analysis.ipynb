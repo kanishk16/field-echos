{
 "cells": [
  {
   "cell_type": "code",
   "execution_count": 1,
   "metadata": {},
   "outputs": [],
   "source": [
    "%load_ext autoreload\n",
    "%matplotlib inline\n",
    "%config InlineBackend.figure_format = 'retina' # high res plotting\n",
    "\n",
    "import hdf5storage # you need to pip install this to handle matlab > 7.3 files or something\n",
    "import pickle\n",
    "\n",
    "import numpy as np\n",
    "import pandas as pd\n",
    "from scipy.stats import ttest_1samp, pearsonr, spearmanr\n",
    "import statsmodels.formula.api as smf\n",
    "\n",
    "from fooof import FOOOF\n",
    "\n",
    "# plotting stuff\n",
    "import seaborn as sns\n",
    "sns.set_style('whitegrid')\n",
    "sns.set_style(\"whitegrid\", {'axes.grid' : False})\n",
    "\n",
    "import matplotlib\n",
    "import matplotlib.pyplot as plt\n",
    "\n",
    "# plot settings\n",
    "font = {'family' : 'Bitstream Vera Sans',\n",
    "        'weight' : 'regular',\n",
    "        'size'   : 13}\n",
    "figure = {'figsize' : (16,8)}\n",
    "\n",
    "matplotlib.rc('font', **font)\n",
    "matplotlib.rc('figure', **figure)\n"
   ]
  },
  {
   "cell_type": "code",
   "execution_count": null,
   "metadata": {},
   "outputs": [],
   "source": [
    "# windowed fft\n",
    "def get_power(data, fs):\n",
    "    data = data - np.mean(data) # de-mean; not necessary, strictly speaking\n",
    "    data = data * np.hamming(len(data)) # window\n",
    "    p = np.abs(np.fft.rfft(data))**2 # real fft, power\n",
    "    f = np.linspace(0, fs/2, len(p)) # frequencies\n",
    "    return f, p\n",
    "\n",
    "# find the index that corresponds to the desired point in time\n",
    "def index_of_nearest_timepoint(list_of_times, timepoint):\n",
    "    time_idx = np.where(list_of_times>=timepoint)\n",
    "    idx = time_idx[0][0]\n",
    "    return idx\n",
    "\n",
    "# gao's knee-to-tau conversion\n",
    "def convert_knee_val(knee, exponent=2.):\n",
    "    \"\"\"\n",
    "    Convert knee parameter to frequency and time-constant value.\n",
    "    Can operate on array or float.\n",
    "\n",
    "    Default exponent value of 2 means take the square-root, but simulation shows\n",
    "    taking the exp-th root returns a more accurate drop-off frequency estimate\n",
    "    when the PSD is actually Lorentzian.\n",
    "    \"\"\"\n",
    "    knee_freq = knee**(1./exponent)\n",
    "    knee_tau = 1./(2*np.pi*knee_freq)\n",
    "    return knee_freq, knee_tau\n"
   ]
  },
  {
   "cell_type": "code",
   "execution_count": null,
   "metadata": {},
   "outputs": [],
   "source": [
    "# set up all the settings: analyze only OFC/PFC data\n",
    "    # exclude s3 because their spectra are super noisy with lots of failed fits\n",
    "\n",
    "# list of data directories, one for each subject\n",
    "# dirs = ['s1', 's2', 's3', 's4', 's5', 's6', 's7', 's8', 's9', 's10']\n",
    "# subs_fs = [1000, 1000, 1000, 1000, 1000, 1000, 1000, 512, 512, 1000]\n",
    "\n",
    "dirs = ['s1', 's2', 's4', 's5', 's6', 's7', 's8', 's9', 's10']\n",
    "subs_fs = [1000, 1000, 1000, 1000, 1000, 1000, 512, 512, 1000]\n",
    "\n",
    "# these are the pfc+ofc channels for each subject\n",
    "pfc = [['RCD8','RCD9','RCD10','ROF6','ROF7','ROF8','ROF9','ROF10','ROF1','ROF2','ROF3','ROF4','ROF5'],\n",
    "       ['LIN10','RC8','LIN14','RC9','LIN15','RC10','LIN16','RC11','RC12','ROF11','ROF12','ROF13','ROF14','ROF15','ROF16','ROF2','ROF3','ROF4'],\n",
    "#        ['LOF5','ROF7','LOF6','ROF8', 'LOF2'],\n",
    "       ['LCI5','ROF7','LCI6','ROF8','LCI7','RCI5','LCI8','RCI6','LCI9','RCI7','RCI8','RCI9','ROF1','ROF2'],\n",
    "       ['LTG17','LTG25','LTG26','LTG33','LTG34','LTG35','LTG41','LTG42','LTG43','LTG44','OFG1','OFG2','OFG3','OFG4','OFG6','OFG7','OFG8','OFG9','OFG11','OFG12','OFG13','OFG14','OFG16','OFG17','OFG18','OFG19'],\n",
    "       ['PF2','PF3','PF4','PF5','PF6','FG4','FG5','FG6','FG7','FG11','FG12','FG13','FG14','FG15','FG17','FG18','FG19','FG20','FG21','FG22','FG23','FG25','FG26','FG27','FG28','FG29','FG30','FG31','AOF1','AOF2','AOF3','AOF4','AOF5','MOF1','MOF2','MOF3','MOF4','MOF5','POF1','POF2','POF3','POF4','POF5','FG2','FG3','FG9','FG10'],\n",
    "       ['LOF6','ROF9','LOF7','RAC9','LOF8','RAC10','LOF9','RIN7','LIN3','RIN8','LIN4','RIN9','LIN5','LIN6','LIN7','LIN8','LIN9','LOF2','ROF1','ROF6','ROF7','ROF8'],\n",
    "       ['FOPL_04','FOPL_05','FOAL_04','FOAL_05'],\n",
    "       ['FOLA_09','FOLA_10','FOLA_11','FOLA_12','FOLP_12','FOLP_13','FORA_09','FORA_10','FORA_11','FORA_12','FORP_13','FAR_02','FAR_03','FAR_04','FAR_05','FMR_04','FMR_05','FMR_06','FAL_01','FAL_02','FAL_03','FAL_04'],\n",
    "       ['AVF1','AVF2','AVF3','AVF4','AVF5','AVF8','AVF9','MVF1','MVF2','MVF3','MVF4','PVF2','PVF3','PVF4','OF4','OF5','OF6','FG1','FG2','FG3','FG4','FG5','FG9','FG10','FG11','FG13','FG14','FG15','FG16','FG17','FG19','FG22','FG23','FG25','FG26','FG27','FG28','FG29','FG40','FG41','FP2','FP3','FP4','FP5','FP6','OF2','OF3']]\n",
    "\n",
    "# there are the three datatypes in the mat file\n",
    "data_types = ['data_pre', 'data_encmain', 'data_proc']\n",
    "n_types = np.shape(data_types)[0]\n",
    "\n",
    "# these are the time windows Johnson et al. used\n",
    "    # note that I'm keep all the windows 900ms so the knee-fits are all using the same amount of data\n",
    "    # but we will average taus from the two delay periods since we just want to check delay versus pre-stim\n",
    "time_wins = [[-0.9, 0.0], [0.6, 1.5], [0.3, 1.2]]\n",
    "\n",
    "# fooof settings\n",
    "freq_range = [2, 80] # this is the range gao uses\n",
    "bw_lims = [2, 8]\n",
    "max_n_peaks = 2 # single-trial fits are so noisy so this isn't super critical\n"
   ]
  },
  {
   "cell_type": "code",
   "execution_count": null,
   "metadata": {},
   "outputs": [],
   "source": [
    "all_exp = [] # all-subject exponent fits\n",
    "all_kne = [] # all-subject knee fits\n",
    "all_kfq = [] # all-subject knee frequencies\n",
    "all_tau = []# all-subject taus\n",
    "\n",
    "# loop across subjects\n",
    "for i_sub in np.arange(len(dirs)):\n",
    "\n",
    "    # load the data\n",
    "    filepath = './' + dirs[i_sub] + '/data_derived.mat'\n",
    "    mat = hdf5storage.loadmat(filepath)\n",
    "\n",
    "    fs = subs_fs[i_sub] # subject-specific sampling rate\n",
    "    \n",
    "    chans = np.squeeze(mat[data_types[0]]['label'].tolist()).tolist() # full list of channels\n",
    "    n_chans = np.shape(pfc[i_sub])[0] # number of PFC+OFC channels\n",
    "\n",
    "    # find indices of PFC+OFC channels in full channel list\n",
    "    chans_idx = []\n",
    "    for i in np.arange(n_chans):\n",
    "        pfc_chan = chans.index(pfc[i_sub][i])\n",
    "        chans_idx.append(pfc_chan)\n",
    "        \n",
    "    # get the number of trials, for initializing data arrays\n",
    "    data = mat[data_types[0]]['trial']\n",
    "    n_trials = np.shape(np.squeeze(data))[0]\n",
    "\n",
    "    # condition window * channels * trials - fill with nans\n",
    "    aexp = np.zeros((n_types, n_chans, n_trials)) # exponent\n",
    "    aexp.fill(np.nan)\n",
    "    akne = np.zeros((n_types, n_chans, n_trials)) # knee\n",
    "    akne.fill(np.nan)\n",
    "    fkne = np.zeros((n_types, n_chans, n_trials)) # knee freq\n",
    "    fkne.fill(np.nan)\n",
    "    tkne = np.zeros((n_types, n_chans, n_trials)) # tau\n",
    "    tkne.fill(np.nan)\n",
    "    \n",
    "    # loop over the three data time windows\n",
    "    for i_cond in np.arange(n_types):\n",
    "        \n",
    "        # restrict to proper time windows for this condition\n",
    "        idx = [0, 0]\n",
    "        times = np.asarray(np.squeeze(mat[data_types[0]]['time'].tolist()).tolist()[0])\n",
    "        timepoint = time_wins[i_cond][0]\n",
    "        idx[0] = index_of_nearest_timepoint(times, timepoint)\n",
    "        timepoint = time_wins[i_cond][1]\n",
    "        idx[1] = index_of_nearest_timepoint(times, timepoint)\n",
    "        n_points = np.abs(np.diff(idx))[0]\n",
    "\n",
    "        # condition data\n",
    "        cond_data = mat[data_types[i_cond]]['trial']\n",
    "\n",
    "        # get data array: channels by trials by times\n",
    "        trial = np.zeros((n_chans, n_trials, n_points))\n",
    "        for i in np.arange(n_trials):\n",
    "            trial_dat = np.squeeze(np.squeeze(cond_data)).tolist()[i]\n",
    "            trial[:, i, :] = trial_dat[chans_idx, idx[0]:idx[1]]\n",
    "\n",
    "        # get knees for each trial and channel\n",
    "        for i_chan in np.arange(n_chans):\n",
    "            for i_trial in np.arange(n_trials):\n",
    "                trial_data = trial[i_chan, i_trial, :] # data vector\n",
    "                freq_mean, psd_mean = get_power(trial_data, fs) # power spectrum\n",
    "\n",
    "                # Initialize fooof model\n",
    "                fm = FOOOF(peak_width_limits=bw_lims, aperiodic_mode='knee', max_n_peaks=max_n_peaks)\n",
    "                fm.fit(freq_mean, psd_mean, freq_range) # fooof fit\n",
    "                params = fm.aperiodic_params_ # get aperiodic parameters\n",
    "                \n",
    "                try:\n",
    "                    params[0] # catch in case the fit fails and params is empty\n",
    "                    \n",
    "                    # only keep data where exp is < 8 and >=0\n",
    "                        # and where knee is >0 and less than a whole lot\n",
    "                    if (params[2] < 8) and (params[2] >= 0) and (params[1] > 0) and (params[1] < 1e20):\n",
    "                        aexp[i_cond][i_chan][i_trial] = params[2]\n",
    "                        akne[i_cond][i_chan][i_trial] = params[1]\n",
    "                        fkne[i_cond][i_chan][i_trial], tkne[i_cond][i_chan][i_trial] = convert_knee_val(params[1], params[2])\n",
    "                    \n",
    "                except:\n",
    "                    params = [np.nan, np.nan, np.nan] # if params are empty: nan\n",
    "    \n",
    "    # build list of lists of results\n",
    "    all_exp.append(aexp)\n",
    "    all_kne.append(akne)\n",
    "    all_kfq.append(fkne)\n",
    "    all_tau.append(tkne)\n",
    "\n",
    "    \n",
    "# save data\n",
    "with open(\"all_exp.txt\", \"wb\") as fp: # pickling\n",
    "    pickle.dump(all_exp, fp)\n",
    "with open(\"all_kne.txt\", \"wb\") as fp: # pickling\n",
    "    pickle.dump(all_kne, fp)\n",
    "with open(\"all_kfq.txt\", \"wb\") as fp: # pickling\n",
    "    pickle.dump(all_kfq, fp)\n",
    "with open(\"all_tau.txt\", \"wb\") as fp: # pickling\n",
    "    pickle.dump(all_tau, fp)\n"
   ]
  },
  {
   "cell_type": "code",
   "execution_count": 13,
   "metadata": {},
   "outputs": [],
   "source": [
    "# load data\n",
    "with open(\"all_exp.txt\", \"rb\") as fp: # unpickling\n",
    "    all_exp = pickle.load(fp)\n",
    "with open(\"all_kne.txt\", \"rb\") as fp: # unpickling\n",
    "    all_kne = pickle.load(fp)\n",
    "with open(\"all_kfq.txt\", \"rb\") as fp: # unpickling\n",
    "    all_kfq = pickle.load(fp)\n",
    "with open(\"all_tau.txt\", \"rb\") as fp: # unpickling\n",
    "    all_tau = pickle.load(fp)\n"
   ]
  },
  {
   "cell_type": "code",
   "execution_count": 14,
   "metadata": {},
   "outputs": [
    {
     "name": "stderr",
     "output_type": "stream",
     "text": [
      "/Users/Voytek/anaconda/envs/py37/lib/python3.7/site-packages/ipykernel_launcher.py:20: RuntimeWarning: invalid value encountered in less_equal\n",
      "/Users/Voytek/anaconda/envs/py37/lib/python3.7/site-packages/ipykernel_launcher.py:21: RuntimeWarning: invalid value encountered in less_equal\n",
      "/Users/Voytek/anaconda/envs/py37/lib/python3.7/site-packages/ipykernel_launcher.py:22: RuntimeWarning: invalid value encountered in greater\n",
      "/Users/Voytek/anaconda/envs/py37/lib/python3.7/site-packages/ipykernel_launcher.py:23: RuntimeWarning: invalid value encountered in greater\n",
      "/Users/Voytek/anaconda/envs/py37/lib/python3.7/site-packages/numpy/lib/nanfunctions.py:1115: RuntimeWarning: All-NaN slice encountered\n",
      "  overwrite_input=overwrite_input)\n"
     ]
    },
    {
     "data": {
      "text/plain": [
       "(9.014726854263918, 1.830974378689381e-05)"
      ]
     },
     "execution_count": 14,
     "metadata": {},
     "output_type": "execute_result"
    }
   ],
   "source": [
    "# for each subject, average taus for the encoding periods and from that subtract pre-stim taus\n",
    "    # this gives a tau per channel and per trial\n",
    "    # take median tau differences across channels\n",
    "    # this gives a tau diff (encoding minus pre) per trial\n",
    "    # check to see how the distribution of these single-trail taus differs from zero\n",
    "tval = [] # one-sample t-test t\n",
    "pval = [] # one-sample t-test p-value\n",
    "avg_tau_pre = []\n",
    "avg_tau_enc = []\n",
    "avg_tau_diff = []\n",
    "for i_sub in np.arange(len(all_tau)):\n",
    "    encoding = []\n",
    "    prestim = []\n",
    "    t = []\n",
    "    p = []\n",
    "    encoding = (all_tau[i_sub][1, :, :] + all_tau[i_sub][2, :, :]) / 2 # average encoding taus\n",
    "    prestim = (all_tau[i_sub][0, :, :] + all_tau[i_sub][0, :, :]) / 2 # average encoding taus\n",
    "\n",
    "    # if the data are outlier (taus >0.5 or <=0): nan\n",
    "    encoding[encoding <= 0] = np.nan\n",
    "    prestim[prestim <= 0] = np.nan\n",
    "    encoding[encoding > 0.5] = np.nan\n",
    "    prestim[prestim > 0.5] = np.nan\n",
    "    encoding = np.squeeze(encoding)\n",
    "    prestim = np.squeeze(prestim)\n",
    "\n",
    "    knee_diff = encoding-prestim # difference in taus\n",
    "    knee_diff = np.nanmedian(knee_diff, axis=0) # median across PFC+OFC channels\n",
    "    knee_diff = knee_diff[~np.isnan(knee_diff)] # removing missing/bad data\n",
    "\n",
    "    # t-test\n",
    "    t, p = ttest_1samp(knee_diff, 0)\n",
    "    tval.append(t)\n",
    "    pval.append(p)\n",
    "    \n",
    "    avg_tau_pre.append(np.nanmean(prestim))\n",
    "    avg_tau_enc.append(np.nanmean(encoding))\n",
    "    avg_tau_diff.append(np.nanmean(knee_diff))\n",
    "\n",
    "t, p = ttest_1samp(tval, 0)\n",
    "t,p\n"
   ]
  },
  {
   "cell_type": "code",
   "execution_count": 15,
   "metadata": {},
   "outputs": [
    {
     "name": "stderr",
     "output_type": "stream",
     "text": [
      "/Users/Voytek/anaconda/envs/py37/lib/python3.7/site-packages/ipykernel_launcher.py:20: RuntimeWarning: Mean of empty slice\n"
     ]
    },
    {
     "data": {
      "text/plain": [
       "(-0.6259414876119203, 0.5487910588296907)"
      ]
     },
     "execution_count": 15,
     "metadata": {},
     "output_type": "execute_result"
    }
   ],
   "source": [
    "# for each subject, average exp for the encoding periods and from that subtract pre-stim exp\n",
    "    # this gives a exp per channel and per trial\n",
    "    # take median exp differences across channels\n",
    "    # this gives a exp diff (encoding minus pre) per trial\n",
    "    # check to see how the distribution of these single-trail exp differs from zero\n",
    "tval = [] # one-sample t-test t\n",
    "pval = [] # one-sample t-test p-value\n",
    "avg_exp_pre = []\n",
    "avg_exp_enc = []\n",
    "avg_exp_diff = []\n",
    "for i_sub in np.arange(len(all_tau)):\n",
    "    encoding = []\n",
    "    prestim = []\n",
    "    t = []\n",
    "    p = []\n",
    "    encoding = (all_exp[i_sub][1, :, :] + all_exp[i_sub][2, :, :]) / 2 # average encoding taus\n",
    "    prestim = (all_exp[i_sub][0, :, :] + all_exp[i_sub][0, :, :]) / 2 # average encoding taus\n",
    "\n",
    "    knee_diff = encoding-prestim # difference in taus\n",
    "    knee_diff = np.nanmean(knee_diff, axis=0) # median across PFC+OFC channels\n",
    "    knee_diff = knee_diff[~np.isnan(knee_diff)] # removing missing/bad data\n",
    "\n",
    "    # t-test\n",
    "    t, p = ttest_1samp(knee_diff, 0)\n",
    "    tval.append(t)\n",
    "    pval.append(p)\n",
    "    \n",
    "    avg_exp_pre.append(np.nanmean(prestim))\n",
    "    avg_exp_enc.append(np.nanmean(encoding))\n",
    "    avg_exp_diff.append(np.nanmean(knee_diff))\n",
    "\n",
    "t, p = ttest_1samp(tval, 0)\n",
    "t,p\n"
   ]
  },
  {
   "cell_type": "code",
   "execution_count": 31,
   "metadata": {},
   "outputs": [
    {
     "data": {
      "image/png": "[encoded data removed]",
      "text/plain": [
       "<Figure size 432x288 with 1 Axes>"
      ]
     },
     "metadata": {
      "image/png": {
       "height": 248,
       "width": 389
      },
      "needs_background": "light"
     },
     "output_type": "display_data"
    }
   ],
   "source": [
    "plt.hist(avg_tau_diff)\n",
    "plt.show()"
   ]
  },
  {
   "cell_type": "code",
   "execution_count": 35,
   "metadata": {},
   "outputs": [
    {
     "data": {
      "image/png": "[encoded data removed]",
      "text/plain": [
       "<Figure size 288x288 with 2 Axes>"
      ]
     },
     "metadata": {
      "image/png": {
       "height": 241,
       "width": 284
      },
      "needs_background": "light"
     },
     "output_type": "display_data"
    },
    {
     "name": "stdout",
     "output_type": "stream",
     "text": [
      "                            OLS Regression Results                            \n",
      "==============================================================================\n",
      "Dep. Variable:                    acc   R-squared:                       0.611\n",
      "Model:                            OLS   Adj. R-squared:                  0.481\n",
      "Method:                 Least Squares   F-statistic:                     4.707\n",
      "Date:                Sun, 20 Oct 2019   Prob (F-statistic):             0.0590\n",
      "Time:                        17:01:49   Log-Likelihood:                 17.441\n",
      "No. Observations:                   9   AIC:                            -28.88\n",
      "Df Residuals:                       6   BIC:                            -28.29\n",
      "Df Model:                           2                                         \n",
      "Covariance Type:            nonrobust                                         \n",
      "==============================================================================\n",
      "                 coef    std err          t      P>|t|      [0.025      0.975]\n",
      "------------------------------------------------------------------------------\n",
      "Intercept      0.6655      0.083      8.036      0.000       0.463       0.868\n",
      "ages           0.0048      0.002      2.535      0.044       0.000       0.010\n",
      "tdiff         17.4235      7.566      2.303      0.061      -1.091      35.938\n",
      "==============================================================================\n",
      "Omnibus:                        0.096   Durbin-Watson:                   1.677\n",
      "Prob(Omnibus):                  0.953   Jarque-Bera (JB):                0.224\n",
      "Skew:                           0.175   Prob(JB):                        0.894\n",
      "Kurtosis:                       2.312   Cond. No.                     1.84e+04\n",
      "==============================================================================\n",
      "\n",
      "Warnings:\n",
      "[1] Standard Errors assume that the covariance matrix of the errors is correctly specified.\n",
      "[2] The condition number is large, 1.84e+04. This might indicate that there are\n",
      "strong multicollinearity or other numerical problems.\n"
     ]
    },
    {
     "name": "stderr",
     "output_type": "stream",
     "text": [
      "/Users/Voytek/anaconda/envs/py37/lib/python3.7/site-packages/scipy/stats/stats.py:1450: UserWarning: kurtosistest only valid for n>=20 ... continuing anyway, n=9\n",
      "  \"anyway, n=%i\" % int(n))\n"
     ]
    }
   ],
   "source": [
    "# subject ages and behavior, from the csvs\n",
    "ages = [33, 50, 31, 22, 31, 34, 27, 34, 42]\n",
    "acc = [0.9, 0.967, 0.933, 0.792, 0.95, 0.958, 0.95, 0.842, 0.925]\n",
    "rt = [1783.1, 1138.9, 1790.8, 2950.7, 1245.7, 722.4, 1165.2, 1602.1, 780.8]\n",
    "\n",
    "df = pd.DataFrame({'ages': ages, 'acc': acc, 'rt': rt,\n",
    "                   'tpre': avg_tau_pre, 'tenc': avg_tau_enc, 'tdiff': avg_tau_diff,\n",
    "                   'epre': avg_exp_pre, 'eenc': avg_exp_enc, 'ediff': avg_exp_diff})\n",
    "\n",
    "plt.matshow(df.corr())\n",
    "plt.xticks(range(df.shape[1]), df.columns, fontsize=10, rotation=45)\n",
    "plt.yticks(range(df.shape[1]), df.columns, fontsize=10)\n",
    "cb = plt.colorbar()\n",
    "cb.ax.tick_params(labelsize=10)\n",
    "plt.show()\n",
    "\n",
    "mod = smf.ols(formula='acc ~ ages + tdiff', data=df)\n",
    "res = mod.fit()\n",
    "print(res.summary())\n"
   ]
  },
  {
   "cell_type": "code",
   "execution_count": null,
   "metadata": {},
   "outputs": [],
   "source": []
  }
 ],
 "metadata": {
  "kernelspec": {
   "display_name": "Python 3",
   "language": "python",
   "name": "python3"
  },
  "language_info": {
   "codemirror_mode": {
    "name": "ipython",
    "version": 3
   },
   "file_extension": ".py",
   "mimetype": "text/x-python",
   "name": "python",
   "nbconvert_exporter": "python",
   "pygments_lexer": "ipython3",
   "version": "3.7.4"
  }
 },
 "nbformat": 4,
 "nbformat_minor": 2
}
