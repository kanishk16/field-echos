{
 "cells": [
  {
   "cell_type": "markdown",
   "metadata": {},
   "source": [
    "# Human Cortical Timescale: Dynamic Modulation of Timescale During Working Memory\n",
    "In this notebook, we look at the modulation of neuronal timescale in the frontal cortex of humans during a working memory task.\n",
    "\n",
    "---\n",
    "So far, our data has shown that (spatial) variations in cortical timescale is related to anatomical gradients in the cortex, such as gene expression and grey matter myelination. In addition, timescale changes over aging, as one would expect if the underlying brain anatomy is changing via loss of specific cell types or synapses. As such, different cortical areas should have a clear division of roles: areas with short vs. long intrinsic timescales (i.e., sensory vs. association) should be \"responsible\" for short- vs. long- timescale information relevant for behavior, respectively. In other words, a cortical area should only take on computation if its timescale satisfies what's required by the task, and pass it onto another brain region with more appropriate timescales if not. Previous findings in animal studies have supported this, showing region-specific segregation of task information during decision-making ([Runyan et al., 2017][runyan2017]) and working memory ([Wasmuht et al., 2017][wasmuht2017]) tasks.\n",
    "\n",
    "Under this view, however, the timescale of each cortical region is rigidly defined by its anatomy, which does not change. An additional possibility is that region-specific timescales can also be dynamically modulated in real-time by requirements during behavior. Under this view, a circuit will have an intrinsic timescale _range_ that is defined largely by its anatomy, and reflected in its resting-state dynamics. When recruited for a behavior, however, the circuit can move within its range of timescales as required.\n",
    "\n",
    "Here, we test whether cortical timescales can be behaviorally-modulated. We analyze another publically available human ECoG dataset where 15 subjects are performing a visuospatial working memory task that requires a delayed response ([Johnson et al., 2018][johnson2018]). We aggregate over task conditions in the original study and simply ask whether neuronal timescale in the frontal cortices are different between resting (pre-stimulus) and memory maintenance (delay). We hypothesized that, since participants are required to hold onto information for task-response later, timescale of neuronal activity in frontal regions should be longer during delay period than pre-stimulus period.\n",
    "\n",
    "---\n",
    "ECoG data is taken from CRCNS datasets [fcx-2 and fcx-3][crcnsfcx]. The two datasets have 15 unique subjects with frontal coverage (OFC, PFC, etc.) performing the same task. See original[ publication][johnson2018] and data repository for detailed descriptions of the task and dataset. Briefly, each trial has one pre-stimulus epoch and two encoding epochs. We performed Hamming-windowed Fourier Transform on the last 900ms of data in each epoch, extracted timescale estimates from the PSD, and averaged the two delay periods. Timescale differences are taken as the logged ratio of delay:prestim periods. This was performed for each trial and channel separately, and timescale differences were then averaged across channels for a per-trial estimate. One-sample, two-tailed t-test was performed on the channel-averaged timescale differences over all trials for each subject, for a per-subject t-value of difference. We also average over all trials to get per-subject timescale differences. This was repeated for other fooof-fitted PSD parameters (offset and exponent), as well as theta (3-8Hz) and high-frequency activity (HFA, 70-100Hz) power, for model comparison. \n",
    "\n",
    "Code for computing single-trial features are in ../4_analysis_human_wm.ipynb. This notebook contains code for aggregating and performing statistics on the pooled data.\n",
    "\n",
    "---\n",
    "#### TL;DR: we hypothesized that neuronal timescale can also be modulated dynamically by behavior, and found that, indeed, ECoG timescales in human frontal regions are longer during the delay period of a working memory task than pre-stimulus baseline.\n",
    "\n",
    "[runyan2017]: https://www.nature.com/articles/nature23020\n",
    "[wasmuht2017]: https://www.nature.com/articles/s41467-018-05961-4\n",
    "[johnson2018]: https://journals.plos.org/plosbiology/article?id=10.1371/journal.pbio.2004274\n",
    "[crcnsfcx]: https://crcns.org/data-sets/fcx"
   ]
  },
  {
   "cell_type": "code",
   "execution_count": 4,
   "metadata": {},
   "outputs": [
    {
     "name": "stdout",
     "output_type": "stream",
     "text": [
      "The autoreload extension is already loaded. To reload it, use:\n",
      "  %reload_ext autoreload\n",
      "********************************************************************************\n",
      "WARNING: Imported VTK version (8.1) does not match the one used\n",
      "         to build the TVTK classes (8.2). This may cause problems.\n",
      "         Please rebuild TVTK.\n",
      "********************************************************************************\n",
      "\n"
     ]
    }
   ],
   "source": [
    "%load_ext autoreload\n",
    "%matplotlib inline\n",
    "\n",
    "import pickle\n",
    "import numpy as np\n",
    "import pandas as pd\n",
    "from scipy.stats import ttest_1samp, pearsonr, spearmanr\n",
    "import statsmodels.formula.api as smf\n",
    "\n",
    "# custom\n",
    "import sys\n",
    "sys.path.append('../')\n",
    "import echo_utils\n",
    "\n",
    "# plotting stuff\n",
    "import matplotlib.pyplot as plt\n",
    "from seaborn import despine\n",
    "\n",
    "# plot settings\n",
    "font = {'family' : 'Arial',\n",
    "        'weight' : 'regular',\n",
    "        'size'   : 14}\n",
    "\n",
    "plt.rc('font', **font)\n",
    "fig_path = '../figures/jwm/%s.pdf'\n",
    "save_plot=True"
   ]
  },
  {
   "cell_type": "markdown",
   "metadata": {},
   "source": [
    "# Single-trial Fits of Timescale"
   ]
  },
  {
   "cell_type": "markdown",
   "metadata": {},
   "source": [
    "### Collect FOOOF fits, and perform outlier detection after merging all (valid) trials across channels & subjects"
   ]
  },
  {
   "cell_type": "code",
   "execution_count": 636,
   "metadata": {},
   "outputs": [
    {
     "name": "stdout",
     "output_type": "stream",
     "text": [
      "offset| exp| knee| tau| theta| hfa| "
     ]
    }
   ],
   "source": [
    "# load metadata\n",
    "df_patient_info = pd.read_csv('../data/df_johnson_patient_info.csv', index_col=0)\n",
    "result_path = '../data/johnson/'\n",
    "\n",
    "# load data features\n",
    "feature_names = ['offset', 'exp', 'knee', 'tau', 'theta', 'hfa']\n",
    "feature_list = []\n",
    "for ff in feature_names:\n",
    "    print(ff, end='| ')\n",
    "    with open(result_path + \"all_%s.txt\"%ff, \"rb\") as fp: # unpickling\n",
    "        feature_list.append(pickle.load(fp))\n",
    "\n",
    "# collect all trials into df\n",
    "col_names = ['patient', 'cond', 'trial', 'chan'] + feature_names\n",
    "df_alltrials = pd.DataFrame(columns=col_names)\n",
    "\n",
    "# s3 has really bad data, s15 & s17 are same as s5 & s8\n",
    "patient_id = range(1,18) # patients go from s1-s17\n",
    "patient_inds = [0,1,3,4,5,6,7,8,9,10,11,12,13,15]\n",
    "\n",
    "# collect into a big dataframe, one row for each trial of every patient and electrode\n",
    "for i_p in patient_inds:\n",
    "    patient_mat = patient_id[i_p]*np.ones_like(feature_list[0][i_p])\n",
    "    nchans, ntrials = feature_list[0][i_p][0].shape\n",
    "    # make channel metadata matrices\n",
    "    cond_mat = np.ones_like(feature_list[0][i_p])*np.array([0,1,2])[:,None,None]\n",
    "    trial_mat = np.repeat(np.outer(np.ones((nchans,1)), np.arange(ntrials)[None,:])[None,:,:], 3, axis=0)\n",
    "    chan_mat = np.repeat(np.outer(np.ones((ntrials,1)), np.arange(nchans)[None,:]).T[None,:,:], 3, axis=0)\n",
    "    \n",
    "    ft_agg = [patient_mat.flatten(), cond_mat.flatten(), trial_mat.flatten(), chan_mat.flatten()]\n",
    "    # unpack feature and collect into df\n",
    "    for ft in feature_list:\n",
    "        ft_agg.append(ft[i_p].flatten())\n",
    "    df_cur = pd.DataFrame(np.array(ft_agg).T, columns=col_names)\n",
    "    df_alltrials = df_alltrials.append(df_cur, ignore_index=True)\n",
    "\n",
    "# discard all trials with really bad slope fits, must be between 0 and 8\n",
    "df_alltrials.loc[((df_alltrials['exp']<0) | (df_alltrials['exp']>8)| (df_alltrials['tau']<=0) | (df_alltrials['tau']>1)), feature_names] = np.nan"
   ]
  },
  {
   "cell_type": "markdown",
   "metadata": {},
   "source": [
    "### Compute for all features"
   ]
  },
  {
   "cell_type": "code",
   "execution_count": 668,
   "metadata": {},
   "outputs": [
    {
     "name": "stderr",
     "output_type": "stream",
     "text": [
      "/Users/rdgao/opt/anaconda3/envs/voytek/lib/python3.7/site-packages/ipykernel_launcher.py:36: SettingWithCopyWarning: \n",
      "A value is trying to be set on a copy of a slice from a DataFrame.\n",
      "Try using .loc[row_indexer,col_indexer] = value instead\n",
      "\n",
      "See the caveats in the documentation: http://pandas.pydata.org/pandas-docs/stable/user_guide/indexing.html#returning-a-view-versus-a-copy\n",
      "/Users/rdgao/opt/anaconda3/envs/voytek/lib/python3.7/site-packages/ipykernel_launcher.py:47: RuntimeWarning: Mean of empty slice\n"
     ]
    }
   ],
   "source": [
    "z_outlier = 10\n",
    "log_tau = True\n",
    "global_outlier = False\n",
    "\n",
    "\n",
    "df_operating = df_alltrials.copy()\n",
    "grand_avg = []\n",
    "valid_pat = np.unique(df_operating['patient'])\n",
    "\n",
    "if global_outlier:\n",
    "    # global outliers, discard based on tau outlier\n",
    "    x = df_operating['tau']\n",
    "    z = np.abs((x-np.nanmean(x))/np.nanstd(x))\n",
    "    df_operating.loc[z>z_outlier, feature_names]=np.nan\n",
    "\n",
    "# collect all patients\n",
    "for i_p in valid_pat:\n",
    "    df_p = df_operating[(df_operating['patient']==i_p)].copy()\n",
    "    \n",
    "    if not global_outlier:\n",
    "        # within subject outliers\n",
    "        x = df_p['tau']        \n",
    "        z = np.abs((x-np.nanmean(x))/np.nanstd(x))\n",
    "        df_p.loc[z>z_outlier, feature_names]=np.nan        \n",
    "    \n",
    "    # pre-stim epoch\n",
    "    df_pre = df_p[df_p['cond']==0] \n",
    "    \n",
    "    # get avg values for encoding epoch\n",
    "    arr_enc = (df_p[df_p['cond']==1].values + df_p[df_p['cond']==2].values)/2    \n",
    "    df_enc = pd.DataFrame(arr_enc, columns=col_names, index=df_pre.index) \n",
    "\n",
    "    # IT MATTERS WHETHER LOG IS PERFORMED BEFORE OR AFTER AVERAGING ENCODING PERIODS\n",
    "    # LOG POST AVERAGE\n",
    "    if log_tau:\n",
    "        df_pre['tau'] = np.log10(df_pre['tau'])\n",
    "        df_enc['tau'] = np.log10(df_enc['tau'])\n",
    "    \n",
    "    # compute feature diff and channel average across trials\n",
    "    f_collect = []\n",
    "    n_nans = 0\n",
    "    for g, g_df in df_pre.groupby('trial'):\n",
    "        f_pre = df_pre.loc[g_df.index][feature_names]\n",
    "        f_enc = df_enc.loc[g_df.index][feature_names]\n",
    "        f_diff = f_enc - f_pre\n",
    "\n",
    "        f_collect.append(np.nanmean(f_diff,0))\n",
    "        n_nans += np.isnan(f_diff).sum()['tau']\n",
    "\n",
    "    f_collect = np.array(f_collect)\n",
    "    # t-test on diff of measures\n",
    "    tval = ttest_1samp(f_collect, 0, nan_policy='omit')[0]\n",
    "    data_qual = (1-n_nans/len(df_pre))*100\n",
    "    \n",
    "    # collect\n",
    "    grand_avg.append(np.concatenate(([data_qual], np.nanmean(f_collect, 0), tval)))\n",
    "    \n",
    "grand_avg = np.array(grand_avg)"
   ]
  },
  {
   "cell_type": "code",
   "execution_count": 670,
   "metadata": {},
   "outputs": [
    {
     "name": "stdout",
     "output_type": "stream",
     "text": [
      "                            OLS Regression Results                            \n",
      "==============================================================================\n",
      "Dep. Variable:                    acc   R-squared:                       0.800\n",
      "Model:                            OLS   Adj. R-squared:                  0.628\n",
      "Method:                 Least Squares   F-statistic:                     4.655\n",
      "Date:                Wed, 15 Jan 2020   Prob (F-statistic):             0.0318\n",
      "Time:                        18:15:01   Log-Likelihood:                 29.075\n",
      "No. Observations:                  14   AIC:                            -44.15\n",
      "Df Residuals:                       7   BIC:                            -39.68\n",
      "Df Model:                           6                                         \n",
      "Covariance Type:            nonrobust                                         \n",
      "===============================================================================\n",
      "                  coef    std err          t      P>|t|      [0.025      0.975]\n",
      "-------------------------------------------------------------------------------\n",
      "Intercept       0.5606      0.088      6.374      0.000       0.353       0.769\n",
      "age             0.0069      0.002      3.448      0.011       0.002       0.012\n",
      "tau_diff        1.3292      0.642      2.072      0.077      -0.188       2.846\n",
      "offset_diff    -5.8610      2.314     -2.533      0.039     -11.332      -0.390\n",
      "exp_diff       10.7222      4.115      2.606      0.035       0.992      20.452\n",
      "theta_diff     -0.5280      0.410     -1.288      0.239      -1.497       0.441\n",
      "hfa_diff        4.7963      1.588      3.020      0.019       1.040       8.552\n",
      "==============================================================================\n",
      "Omnibus:                        0.883   Durbin-Watson:                   1.674\n",
      "Prob(Omnibus):                  0.643   Jarque-Bera (JB):                0.355\n",
      "Skew:                           0.384   Prob(JB):                        0.838\n",
      "Kurtosis:                       2.863   Cond. No.                     1.37e+04\n",
      "==============================================================================\n",
      "\n",
      "Warnings:\n",
      "[1] Standard Errors assume that the covariance matrix of the errors is correctly specified.\n",
      "[2] The condition number is large, 1.37e+04. This might indicate that there are\n",
      "strong multicollinearity or other numerical problems.\n",
      "-------------\n",
      "Pearson: (0.48590379005488543, 0.07814236544624494)\n",
      "Spearman:  SpearmanrResult(correlation=0.4851184199322681, pvalue=0.0786967707785937)\n",
      "------------\n",
      "['offset_tval', 'exp_tval', 'knee_tval', 'tau_tval', 'theta_tval', 'hfa_tval']\n",
      "[2.43429451e-01 2.80047697e-01 5.72545738e-01 9.26882654e-07\n",
      " 5.98589399e-01 4.23028509e-01]\n"
     ]
    },
    {
     "data": {
      "image/png": "[encoded data removed]",
      "text/plain": [
       "<Figure size 288x288 with 1 Axes>"
      ]
     },
     "metadata": {
      "needs_background": "light"
     },
     "output_type": "display_data"
    }
   ],
   "source": [
    "# run stats\n",
    "df_result = pd.DataFrame(grand_avg, index=df_patient_info.index.values[patient_inds], \n",
    "                         columns=['data_qual'] + [fn+'_diff' for fn in feature_names] + [fn+'_tval' for fn in feature_names])\n",
    "\n",
    "df_patient = pd.concat((df_patient_info.loc[df_result.index], df_result), axis=1)\n",
    "df_patient['acc'] = df_patient[['acc_identity','acc_spatial','acc_temporal']].mean(1)\n",
    "df_patient['rt'] = df_patient[['rt_identity','rt_spatial','rt_temporal']].mean(1)\n",
    "\n",
    "mod = smf.ols(formula='acc ~ age + tau_diff + offset_diff + exp_diff + theta_diff + hfa_diff', data=df_patient)\n",
    "#mod = smf.ols(formula='acc ~ age + tau_diff', data=df_patient)\n",
    "res = mod.fit()\n",
    "print(res.summary())\n",
    "\n",
    "# plot \n",
    "x = df_patient['tau_diff']\n",
    "y = df_patient['acc']\n",
    "plt.figure(figsize=(4,4))\n",
    "plt.plot(x,y, 'ok', alpha=0.6, ms=8)\n",
    "plt.xlabel('Encoding - Baseline');plt.ylabel('Accuracy');\n",
    "plt.tight_layout(); despine()\n",
    "#if save_plot: plt.savefig(fig_path%'corr_tdiff_acc', bbox_inches='tight')\n",
    "\n",
    "print('-------------')\n",
    "print('Pearson:', pearsonr(x,y))\n",
    "print('Spearman: ', spearmanr(x,y,nan_policy='omit'))\n",
    "\n",
    "print('------------')\n",
    "print([fn+'_tval' for fn in feature_names])\n",
    "print(ttest_1samp(df_patient[[fn+'_tval' for fn in feature_names]], 0)[1])\n",
    "#print('t-test on t-values of diffs: ',ttest_1samp(df_patient['tau_tval'], 0, nan_policy='omit'))"
   ]
  },
  {
   "cell_type": "code",
   "execution_count": null,
   "metadata": {},
   "outputs": [],
   "source": []
  },
  {
   "cell_type": "code",
   "execution_count": 674,
   "metadata": {},
   "outputs": [
    {
     "name": "stderr",
     "output_type": "stream",
     "text": [
      "/Users/rdgao/opt/anaconda3/envs/voytek/lib/python3.7/site-packages/numpy/lib/histograms.py:908: RuntimeWarning: invalid value encountered in true_divide\n",
      "  return n/db/n.sum(), bin_edges\n"
     ]
    },
    {
     "data": {
      "image/png": "[encoded data removed]",
      "text/plain": [
       "<Figure size 288x288 with 1 Axes>"
      ]
     },
     "metadata": {
      "needs_background": "light"
     },
     "output_type": "display_data"
    }
   ],
   "source": [
    "log_feat = True\n",
    "feat = 'tau'\n",
    "#bins = np.arange(np.floor(df_alltrials[feat].min()), np.ceil(df_alltrials[feat].max()), 0.02)\n",
    "if log_feat:\n",
    "    bins = np.linspace(np.floor(np.log10(df_alltrials[feat].min())), np.ceil(np.log10(df_alltrials[feat].max())), 100)    \n",
    "else:\n",
    "    bins = np.linspace(np.floor(df_alltrials[feat].min()), np.ceil(df_alltrials[feat].max()), 100)\n",
    "    \n",
    "plt.figure(figsize=(4,4))\n",
    "for i_p in patient_inds:\n",
    "    if log_feat:\n",
    "        counts = np.histogram(np.log10(df_alltrials[df_alltrials['patient']==i_p][feat]), bins, density=True)[0]\n",
    "    else:\n",
    "        counts = np.histogram(df_alltrials[df_alltrials['patient']==i_p][feat], bins, density=True)[0]\n",
    "        \n",
    "    plt.plot(bins[:-1],counts, alpha=0.7)\n",
    "\n",
    "if log_feat:\n",
    "    plt.hist(np.log10(df_alltrials[feat]), bins, histtype='step', ec='k',lw=2, density=True);\n",
    "else:\n",
    "    plt.hist(df_alltrials[feat], bins, histtype='step', ec='k',lw=2, density=True);\n",
    "\n",
    "despine();"
   ]
  },
  {
   "cell_type": "code",
   "execution_count": null,
   "metadata": {},
   "outputs": [],
   "source": []
  },
  {
   "cell_type": "code",
   "execution_count": null,
   "metadata": {},
   "outputs": [],
   "source": []
  }
 ],
 "metadata": {
  "kernelspec": {
   "display_name": "Python 3",
   "language": "python",
   "name": "python3"
  },
  "language_info": {
   "codemirror_mode": {
    "name": "ipython",
    "version": 3
   },
   "file_extension": ".py",
   "mimetype": "text/x-python",
   "name": "python",
   "nbconvert_exporter": "python",
   "pygments_lexer": "ipython3",
   "version": "3.7.4"
  }
 },
 "nbformat": 4,
 "nbformat_minor": 4
}
