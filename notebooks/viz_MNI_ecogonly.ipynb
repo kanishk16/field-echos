{
 "cells": [
  {
   "cell_type": "code",
   "execution_count": 1,
   "metadata": {
    "collapsed": true
   },
   "outputs": [],
   "source": [
    "from surfer import Brain\n",
    "import mne\n",
    "import numpy as np\n",
    "import nibabel as ni"
   ]
  },
  {
   "cell_type": "code",
   "execution_count": 3,
   "metadata": {},
   "outputs": [
    {
     "name": "stdout",
     "output_type": "stream",
     "text": [
      "colormap sequential: [0.00e+00, 5.00e-01, 1.00e+00] (opaque)\n"
     ]
    },
    {
     "name": "stderr",
     "output_type": "stream",
     "text": [
      "/Users/rdgao/anaconda3/lib/python3.6/site-packages/surfer/viz.py:3234: UserWarning: Data min is greater than threshold.\n",
      "  warn(\"Data min is greater than threshold.\")\n"
     ]
    },
    {
     "data": {
      "text/plain": [
       "['../figures/mni/mmp_parc_med.png', '../figures/mni/mmp_parc_lat.png']"
      ]
     },
     "execution_count": 3,
     "metadata": {},
     "output_type": "execute_result"
    }
   ],
   "source": [
    "# https://github.com/nipy/PySurfer/blob/master/examples/plot_parcellation.py\n",
    "\n",
    "## THIS ONE BELOW WORKS \n",
    "# https://github.com/nipy/PySurfer/blob/master/examples/plot_parc_values.py\n",
    "\n",
    "brain_fig_path = '../figures/mni/mmp_parc' \n",
    "annot_file = '/Users/rdgao/mne_data/MNE-sample-data/subjects/fsaverage/label/lh.HCPMMP1.annot'\n",
    "mmp_labels, ctab, names = ni.freesurfer.read_annot(annot_file)\n",
    "\n",
    "rs = np.random.RandomState(4)\n",
    "roi_data = rs.uniform(0, 1, size=len(names))\n",
    "vtx_data = roi_data[mmp_labels]\n",
    "vtx_data[mmp_labels == -1] = -1\n",
    "\n",
    "subjects_dir = mne.datasets.sample.data_path() + '/subjects'\n",
    "#mne.datasets.fetch_hcp_mmp_parcellation(subjects_dir=subjects_dir,verbose=True)\n",
    "\n",
    "#mne.datasets.fetch_aparc_sub_parcellation(subjects_dir=subjects_dir,verbose=True)\n",
    "\n",
    "# labels = mne.read_labels_from_annot('fsaverage', 'HCPMMP1', 'lh', subjects_dir=subjects_dir)\n",
    "\n",
    "\n",
    "\n",
    "brain = Brain('fsaverage', 'lh', 'inflated', subjects_dir=subjects_dir,\n",
    "              cortex='bone', background='white', size=800, show_toolbar=True)\n",
    "brain.add_data(vtx_data, 0, 1, thresh=0, colormap=\"rocket\", alpha=1)\n",
    "brain.show_view('med')\n",
    "brain.save_imageset(brain_fig_path, ['med', 'lat'], 'png')\n",
    "#brain.add_annotation('HCPMMP1', borders=False)\n",
    "#brain.add_annotation((mmp_labels, ctab), 20)\n",
    "# for label in labels:\n",
    "#     brain.add_label(label)\n",
    "#aud_label = [label for label in labels if label.name == 'L_A1_ROI-lh'][0]\n",
    "#brain.add_label(aud_label, borders=False)"
   ]
  },
  {
   "cell_type": "code",
   "execution_count": null,
   "metadata": {
    "collapsed": true
   },
   "outputs": [],
   "source": []
  }
 ],
 "metadata": {
  "kernelspec": {
   "display_name": "Python 3",
   "language": "python",
   "name": "python3"
  },
  "language_info": {
   "codemirror_mode": {
    "name": "ipython",
    "version": 3
   },
   "file_extension": ".py",
   "mimetype": "text/x-python",
   "name": "python",
   "nbconvert_exporter": "python",
   "pygments_lexer": "ipython3",
   "version": "3.6.9"
  }
 },
 "nbformat": 4,
 "nbformat_minor": 2
}
