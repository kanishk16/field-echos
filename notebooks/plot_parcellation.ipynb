{
 "cells": [
  {
   "cell_type": "code",
   "execution_count": 1,
   "metadata": {},
   "outputs": [],
   "source": [
    "%matplotlib inline"
   ]
  },
  {
   "cell_type": "markdown",
   "metadata": {},
   "source": [
    "\n",
    "# Plot a cortical parcellation\n",
    "\n",
    "\n",
    "In this example, we download the HCP-MMP1.0 parcellation [1]_ and show it\n",
    "on ``fsaverage``.\n",
    "We will also download the customized 448-label aparc parcellation from [2]_\n",
    "\n",
    "<div class=\"alert alert-info\"><h4>Note</h4><p>The HCP-MMP dataset has license terms restricting its use.\n",
    "          Of particular relevance:\n",
    "\n",
    "              \"I will acknowledge the use of WU-Minn HCP data and data\n",
    "              derived from WU-Minn HCP data when publicly presenting any\n",
    "              results or algorithms that benefitted from their use.\"</p></div>\n",
    "\n",
    "References\n",
    "----------\n",
    ".. [1] Glasser MF et al. (2016) A multi-modal parcellation of human\n",
    "       cerebral cortex. Nature 536:171-178.\n",
    ".. [2] Khan S et al. (2018) Maturation trajectories of cortical\n",
    "       resting-state networks depend on the mediating frequency band.\n",
    "       Neuroimage 174 57-68.\n"
   ]
  },
  {
   "cell_type": "code",
   "execution_count": 4,
   "metadata": {},
   "outputs": [
    {
     "name": "stdout",
     "output_type": "stream",
     "text": [
      "Reading labels from parcellation...\n",
      "   read 181 labels from /Users/rdgao/mne_data/MNE-sample-data/subjects/fsaverage/label/lh.HCPMMP1.annot\n"
     ]
    }
   ],
   "source": [
    "# Author: Eric Larson <larson.eric.d@gmail.com>\n",
    "#         Denis Engemann <denis.engemann@gmail.com>\n",
    "#\n",
    "# License: BSD (3-clause)\n",
    "\n",
    "from surfer import Brain\n",
    "\n",
    "import mne\n",
    "\n",
    "subjects_dir = mne.datasets.sample.data_path() + '/subjects'\n",
    "mne.datasets.fetch_hcp_mmp_parcellation(subjects_dir=subjects_dir,\n",
    "                                        verbose=True)\n",
    "\n",
    "#mne.datasets.fetch_aparc_sub_parcellation(subjects_dir=subjects_dir,\n",
    "#                                          verbose=True)\n",
    "\n",
    "labels = mne.read_labels_from_annot(\n",
    "    'fsaverage', 'HCPMMP1', 'lh', subjects_dir=subjects_dir)\n",
    "\n",
    "brain = Brain('fsaverage', 'lh', 'inflated', subjects_dir=subjects_dir,\n",
    "              cortex='low_contrast', background='white', size=(800, 600))\n",
    "brain.add_annotation('HCPMMP1')\n",
    "aud_label = [label for label in labels if label.name == 'L_A1_ROI-lh'][0]\n",
    "brain.add_label(aud_label, borders=False)"
   ]
  },
  {
   "cell_type": "markdown",
   "metadata": {},
   "source": [
    "We can also plot a combined set of labels (23 per hemisphere).\n",
    "\n"
   ]
  },
  {
   "cell_type": "code",
   "execution_count": 5,
   "metadata": {},
   "outputs": [],
   "source": [
    "brain = Brain('fsaverage', 'lh', 'inflated', subjects_dir=subjects_dir,\n",
    "              cortex='low_contrast', background='white', size=(800, 600))\n",
    "brain.add_annotation('HCPMMP1_combined')"
   ]
  },
  {
   "cell_type": "markdown",
   "metadata": {},
   "source": [
    "We can add another custom parcellation\n",
    "\n"
   ]
  },
  {
   "cell_type": "code",
   "execution_count": 6,
   "metadata": {},
   "outputs": [
    {
     "ename": "ValueError",
     "evalue": "Annotation file /Users/rdgao/mne_data/MNE-sample-data/subjects/fsaverage/label/lh.aparc_sub.annot does not exist",
     "output_type": "error",
     "traceback": [
      "\u001b[0;31m---------------------------------------------------------------------------\u001b[0m",
      "\u001b[0;31mValueError\u001b[0m                                Traceback (most recent call last)",
      "\u001b[0;32m<ipython-input-6-23a20a015e1d>\u001b[0m in \u001b[0;36m<module>\u001b[0;34m()\u001b[0m\n\u001b[1;32m      1\u001b[0m brain = Brain('fsaverage', 'lh', 'inflated', subjects_dir=subjects_dir,\n\u001b[1;32m      2\u001b[0m               cortex='low_contrast', background='white', size=(800, 600))\n\u001b[0;32m----> 3\u001b[0;31m \u001b[0mbrain\u001b[0m\u001b[0;34m.\u001b[0m\u001b[0madd_annotation\u001b[0m\u001b[0;34m(\u001b[0m\u001b[0;34m'aparc_sub'\u001b[0m\u001b[0;34m)\u001b[0m\u001b[0;34m\u001b[0m\u001b[0;34m\u001b[0m\u001b[0m\n\u001b[0m",
      "\u001b[0;32m~/anaconda3/lib/python3.6/site-packages/surfer/viz.py\u001b[0m in \u001b[0;36madd_annotation\u001b[0;34m(self, annot, borders, alpha, hemi, remove_existing)\u001b[0m\n\u001b[1;32m   1243\u001b[0m                     \u001b[0;32mif\u001b[0m \u001b[0;32mnot\u001b[0m \u001b[0mos\u001b[0m\u001b[0;34m.\u001b[0m\u001b[0mpath\u001b[0m\u001b[0;34m.\u001b[0m\u001b[0mexists\u001b[0m\u001b[0;34m(\u001b[0m\u001b[0mfilepath\u001b[0m\u001b[0;34m)\u001b[0m\u001b[0;34m:\u001b[0m\u001b[0;34m\u001b[0m\u001b[0;34m\u001b[0m\u001b[0m\n\u001b[1;32m   1244\u001b[0m                         raise ValueError('Annotation file %s does not exist'\n\u001b[0;32m-> 1245\u001b[0;31m                                          % filepath)\n\u001b[0m\u001b[1;32m   1246\u001b[0m                     \u001b[0mfilepaths\u001b[0m \u001b[0;34m+=\u001b[0m \u001b[0;34m[\u001b[0m\u001b[0mfilepath\u001b[0m\u001b[0;34m]\u001b[0m\u001b[0;34m\u001b[0m\u001b[0;34m\u001b[0m\u001b[0m\n\u001b[1;32m   1247\u001b[0m             \u001b[0mannots\u001b[0m \u001b[0;34m=\u001b[0m \u001b[0;34m[\u001b[0m\u001b[0;34m]\u001b[0m\u001b[0;34m\u001b[0m\u001b[0;34m\u001b[0m\u001b[0m\n",
      "\u001b[0;31mValueError\u001b[0m: Annotation file /Users/rdgao/mne_data/MNE-sample-data/subjects/fsaverage/label/lh.aparc_sub.annot does not exist"
     ]
    }
   ],
   "source": [
    "brain = Brain('fsaverage', 'lh', 'inflated', subjects_dir=subjects_dir,\n",
    "              cortex='low_contrast', background='white', size=(800, 600))\n",
    "brain.add_annotation('aparc_sub')"
   ]
  },
  {
   "cell_type": "code",
   "execution_count": null,
   "metadata": {
    "collapsed": true
   },
   "outputs": [],
   "source": []
  }
 ],
 "metadata": {
  "kernelspec": {
   "display_name": "Python 3",
   "language": "python",
   "name": "python3"
  },
  "language_info": {
   "codemirror_mode": {
    "name": "ipython",
    "version": 3
   },
   "file_extension": ".py",
   "mimetype": "text/x-python",
   "name": "python",
   "nbconvert_exporter": "python",
   "pygments_lexer": "ipython3",
   "version": "3.6.9"
  }
 },
 "nbformat": 4,
 "nbformat_minor": 1
}
