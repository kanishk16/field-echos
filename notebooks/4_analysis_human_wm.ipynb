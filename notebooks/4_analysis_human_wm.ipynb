{
 "cells": [
  {
   "cell_type": "code",
   "execution_count": 1,
   "metadata": {},
   "outputs": [],
   "source": [
    "%load_ext autoreload\n",
    "%matplotlib inline\n",
    "\n",
    "import hdf5storage # you need to pip install this to handle matlab > 7.3 files or something\n",
    "import numpy as np\n",
    "from fooof import FOOOFGroup, fit_fooof_group_3d\n",
    "from fooof.funcs import combine_fooofs\n",
    "import matplotlib.pyplot as plt\n",
    "import pandas as pd\n",
    "import pickle\n",
    "\n",
    "import sys\n",
    "sys.path.append('../')\n",
    "import echo_utils\n",
    "\n",
    "import warnings\n",
    "warnings.filterwarnings('ignore')"
   ]
  },
  {
   "cell_type": "code",
   "execution_count": 2,
   "metadata": {},
   "outputs": [],
   "source": [
    "data_folder = '/Users/rdgao/Documents/data/CRCNS/Johnson/'\n",
    "result_basepath = '/Users/rdgao/Documents/code/research/field-echos/results/johnson/'\n",
    "df_patient_info = pd.read_csv(data_folder+'patient_info_combined.csv', index_col=0)\n",
    "df_electrode_info = pd.read_csv(data_folder+'electrode_info_combined.csv')\n",
    "\n",
    "# save metadata to saved data folder for easier access\n",
    "df_patient_info.to_csv('../data/df_johnson_patient_info.csv')\n",
    "df_electrode_info.to_csv('../data/df_johnson_electrode_info.csv')\n",
    "\n",
    "\n",
    "# get all subjects\n",
    "all_subjs = df_patient_info.index.values.astype(str)\n",
    "\n",
    "# there are the three datatypes in the mat file\n",
    "data_types = ['data_pre', 'data_encmain', 'data_proc']\n",
    "n_types = np.shape(data_types)[0]\n",
    "\n",
    "# these are the time windows Johnson et al. used\n",
    "# note that I'm keep all the windows 900ms so the knee-fits are all using the same amount of data\n",
    "# but we will average taus from the two delay periods since we just want to check delay versus pre-stim\n",
    "trial_time_wins = [[0.0, 0.9], [0.6, 1.5], [0.3, 1.2]]\n",
    "\n",
    "# FOOOF settings\n",
    "freq_range = [2, 80] # this is the range gao uses\n",
    "bw_lims = [2, 8]\n",
    "max_n_peaks = 2 # single-trial fits are so noisy so this isn't super critical"
   ]
  },
  {
   "cell_type": "markdown",
   "metadata": {},
   "source": [
    "### Compute and Save PSDs"
   ]
  },
  {
   "cell_type": "code",
   "execution_count": 3,
   "metadata": {},
   "outputs": [
    {
     "name": "stdout",
     "output_type": "stream",
     "text": [
      "s1 |s2 |s3 |s4 |s5 |s6 |s7 |s8 |s9 |s10 |s11 |s12 |s13 |s14 |s15 |s16 |s17 |"
     ]
    }
   ],
   "source": [
    "for i_sub, sub in enumerate(all_subjs):\n",
    "    print(sub, end=' |')\n",
    "    # load data file\n",
    "    filepath = data_folder + sub + '/data_derived.mat'\n",
    "    mat = hdf5storage.loadmat(filepath)\n",
    "\n",
    "    # get subject-specific sampling rate\n",
    "    fs = df_patient_info.loc[sub]['sampling_rate']\n",
    "    \n",
    "    chan_names = np.squeeze(mat[data_types[0]]['label'].tolist()).tolist() # full list of channels\n",
    "    frontal_chans = df_electrode_info[(df_electrode_info['patient']==sub) & ((df_electrode_info['region']=='PFC') | (df_electrode_info['region']=='OFC'))]['electrode'].values.astype(str)\n",
    "    n_chans = np.shape(frontal_chans)[0] # number of PFC+OFC channels\n",
    "\n",
    "    # find indices of frontal channels in full channel list\n",
    "    chans_idx = [chan_names.index(chan) for chan in frontal_chans]\n",
    "\n",
    "    # get the number of trials, for initializing data arrays\n",
    "    n_trials = np.shape(np.squeeze(mat[data_types[0]]['trial']))[0]\n",
    "\n",
    "    # get time vector from data matrix\n",
    "    t = np.asarray(np.squeeze(mat[data_types[0]]['time'].tolist()).tolist()[0])\n",
    "\n",
    "    power_spec_all = []\n",
    "    for i_cond in range(len(data_types)):\n",
    "        # restrict to proper time windows for this condition\n",
    "        period_idx = [np.where(t>=trial_time_wins[i_cond][i_period])[0][0] for i_period in range(2)]\n",
    "\n",
    "        # grab condition data and gather only the relevant time points & channels\n",
    "        cond_data = np.squeeze(mat[data_types[i_cond]]['trial']).tolist()\n",
    "\n",
    "        # here, trial_data.shape = trial x channel x time\n",
    "        trial_data = np.array([cond_data[tr][chans_idx, period_idx[0]:period_idx[1]] for tr in range(n_trials)])\n",
    "        n_points = trial_data.shape[2] # of timepoints in trial\n",
    "\n",
    "        # mean-subtract from time average per trial, and apply hamming window\n",
    "        data_windowed = (trial_data-trial_data.mean(2)[:,:,None])*np.hamming(n_points)\n",
    "\n",
    "        # compute freq vector and single-trial power spectra\n",
    "        f_axis = np.fft.rfftfreq(n_points, 1/fs)\n",
    "        power_spec = np.abs(np.fft.rfft(data_windowed))**2\n",
    "        power_spec_all.append(power_spec)\n",
    "\n",
    "    # merge across trials and save\n",
    "    # power_spec_all.shape here is [cond x trial x channel x freq]\n",
    "    power_spec_all = np.array(power_spec_all)\n",
    "    save_dict = dict((name,eval(name)) for name in ['f_axis','power_spec_all', 'frontal_chans', 'fs'])\n",
    "    saveout_path = echo_utils.makedir(result_basepath, sub, timestamp=False)\n",
    "    np.savez(file=saveout_path+'/psd.npz', **save_dict)"
   ]
  },
  {
   "cell_type": "markdown",
   "metadata": {},
   "source": [
    "### Load PSDs and FOOOF away!"
   ]
  },
  {
   "cell_type": "code",
   "execution_count": 4,
   "metadata": {},
   "outputs": [
    {
     "name": "stdout",
     "output_type": "stream",
     "text": [
      "s1| (3, 13, 111, 3)\n",
      "s2| (3, 18, 113, 3)\n",
      "s3| (3, 5, 115, 3)\n",
      "s4| (3, 14, 118, 3)\n",
      "s5| (3, 26, 120, 3)\n",
      "s6| (3, 47, 108, 3)\n",
      "s7| (3, 22, 100, 3)\n",
      "s8| (3, 4, 90, 3)\n",
      "s9| (3, 22, 120, 3)\n",
      "s10| (3, 47, 116, 3)\n",
      "s11| (3, 21, 120, 3)\n",
      "s12| (3, 24, 120, 3)\n",
      "s13| (3, 54, 120, 3)\n",
      "s14| (3, 12, 120, 3)\n",
      "s15| (3, 10, 120, 3)\n",
      "s16| (3, 8, 101, 3)\n",
      "s17| (3, 4, 90, 3)\n"
     ]
    }
   ],
   "source": [
    "save_dir = '../data/johnson/'\n",
    "offset_all, knee_all, tau_all, exp_all = [], [], [], []\n",
    "offset_tavg, knee_tavg, tau_tavg, exp_tavg = [], [], [], []\n",
    "all_frontal_chans = []\n",
    "\n",
    "for i_sub, sub in enumerate(all_subjs):\n",
    "    print(sub, end='| ')\n",
    "    psd_data = np.load(result_basepath+sub+'/psd.npz')\n",
    "    power_spec_all = psd_data['power_spec_all']\n",
    "    \n",
    "    f_axis = psd_data['f_axis']    \n",
    "    all_frontal_chans.append(psd_data['frontal_chans'])\n",
    "        \n",
    "    # single trial fits\n",
    "    ap_params_all = []\n",
    "    for i_cond in range(power_spec_all.shape[0]):\n",
    "        ap_params_cond = []\n",
    "        for chan in range(power_spec_all.shape[2]):            \n",
    "            # fit all trials in a channel\n",
    "            fg = FOOOFGroup(peak_width_limits=bw_lims, aperiodic_mode='knee', max_n_peaks=max_n_peaks, verbose=False)\n",
    "            fg.fit(f_axis, power_spec_all[i_cond, :, chan, :], freq_range=freq_range)\n",
    "            # grab aperiodic parameter fits\n",
    "            ap_chan = np.ones((len(fg.get_results()), 3))*np.nan\n",
    "            for i_r, res in enumerate(fg.get_results()):\n",
    "                # loop through to catch non-fits\n",
    "                if type(res.aperiodic_params) is not type(None):\n",
    "                    ap_chan[i_r, :] = res.aperiodic_params\n",
    "\n",
    "            # stuff into list\n",
    "            ap_params_cond.append(ap_chan)\n",
    "\n",
    "        # stuff list into a list\n",
    "        ap_params_all.append(np.array(ap_params_cond))\n",
    "    \n",
    "    # turn into array and separate parameters\n",
    "    ap_params_all = np.array(ap_params_all)\n",
    "    print(ap_params_all.shape)\n",
    "    # compute knee freq & time constant\n",
    "    _, tau = echo_utils.convert_knee_val(ap_params_all[:,:,:,1], ap_params_all[:,:,:,2])        \n",
    "    tau_all.append(tau)\n",
    "    offset_all.append(ap_params_all[:,:,:,0])\n",
    "    knee_all.append(ap_params_all[:,:,:,1])\n",
    "    exp_all.append(ap_params_all[:,:,:,2])\n",
    "\n",
    "    # do the same thing for trial-averaged PSD fits\n",
    "    psd = np.median(power_spec_all,1)\n",
    "    fg = FOOOFGroup(peak_width_limits=bw_lims, aperiodic_mode='knee', max_n_peaks=max_n_peaks, verbose=False)\n",
    "    fgs = fit_fooof_group_3d(fg, f_axis, psd, freq_range=freq_range)\n",
    "    ap_params_cond = np.array([fg.get_params('aperiodic_params') for fg in fgs])\n",
    "    \n",
    "    _, tau = echo_utils.convert_knee_val(ap_params_cond[:,:,1], ap_params_cond[:,:,2])\n",
    "    tau_tavg.append(tau)\n",
    "    offset_tavg.append(ap_params_cond[:,:,0])\n",
    "    knee_tavg.append(ap_params_cond[:,:,1])\n",
    "    exp_tavg.append(ap_params_cond[:,:,2])\n",
    "\n",
    "# save data\n",
    "with open(save_dir+\"all_exp.txt\", \"wb\") as fp: # pickling\n",
    "    pickle.dump(exp_all, fp)\n",
    "with open(save_dir+\"all_offset.txt\", \"wb\") as fp: # pickling\n",
    "    pickle.dump(offset_all, fp)\n",
    "with open(save_dir+\"all_knee.txt\", \"wb\") as fp: # pickling\n",
    "    pickle.dump(knee_all, fp)\n",
    "with open(save_dir+\"all_tau.txt\", \"wb\") as fp: # pickling\n",
    "    pickle.dump(tau_all, fp)\n",
    "    \n",
    "# save data\n",
    "with open(save_dir+\"tavg_exp.txt\", \"wb\") as fp: # pickling\n",
    "    pickle.dump(exp_tavg, fp)\n",
    "with open(save_dir+\"tavg_offset.txt\", \"wb\") as fp: # pickling\n",
    "    pickle.dump(offset_tavg, fp)\n",
    "with open(save_dir+\"tavg_knee.txt\", \"wb\") as fp: # pickling\n",
    "    pickle.dump(knee_tavg, fp)\n",
    "with open(save_dir+\"tavg_tau.txt\", \"wb\") as fp: # pickling\n",
    "    pickle.dump(tau_tavg, fp)"
   ]
  },
  {
   "cell_type": "code",
   "execution_count": 216,
   "metadata": {},
   "outputs": [],
   "source": [
    "# load data\n",
    "with open(\"../data/johnson_all_exp.txt\", \"rb\") as fp: # unpickling\n",
    "    all_exp = pickle.load(fp)\n",
    "with open(\"../data/johnson_all_offset.txt\", \"rb\") as fp: # unpickling\n",
    "    all_offset = pickle.load(fp)\n",
    "with open(\"../data/johnson_all_kfq.txt\", \"rb\") as fp: # unpickling\n",
    "    all_kfreq = pickle.load(fp)\n",
    "with open(\"../data/johnson_all_tau.txt\", \"rb\") as fp: # unpickling\n",
    "    all_tau = pickle.load(fp)"
   ]
  },
  {
   "cell_type": "code",
   "execution_count": 5,
   "metadata": {},
   "outputs": [],
   "source": [
    "with open(\"../notebooks/Johnson/all_tau.txt\", \"rb\") as fp: # unpickling\n",
    "    bv_all_tau = pickle.load(fp)\n",
    "    \n",
    "with open(\"../notebooks/Johnson/all_exp.txt\", \"rb\") as fp: # unpickling\n",
    "    bv_all_exp = pickle.load(fp)"
   ]
  },
  {
   "cell_type": "code",
   "execution_count": 11,
   "metadata": {},
   "outputs": [
    {
     "data": {
      "text/plain": [
       "[<matplotlib.lines.Line2D at 0x1c330a8908>]"
      ]
     },
     "execution_count": 11,
     "metadata": {},
     "output_type": "execute_result"
    },
    {
     "data": {
      "image/png": "[encoded data removed]",
      "text/plain": [
       "<Figure size 432x288 with 1 Axes>"
      ]
     },
     "metadata": {
      "needs_background": "light"
     },
     "output_type": "display_data"
    }
   ],
   "source": [
    "# fit all trials in a channel\n",
    "sub, i_cond, chan = -1, 0, 2\n",
    "f_axis = psd_data['f_axis']\n",
    "fg = FOOOFGroup(peak_width_limits=bw_lims, aperiodic_mode='knee', max_n_peaks=max_n_peaks, verbose=False)\n",
    "fg.fit(f_axis, power_spec_all[i_cond, :, chan, :], freq_range=freq_range)\n",
    "# grab aperiodic parameter fits\n",
    "#fg.get_results()\n",
    "ap = get_fg_ap(fg)\n",
    "plt.loglog(ap[:,2], bv_all_exp[sub][i_cond,chan,], '.')\n",
    "plt.loglog(ap[:,2], exp_all[sub][i_cond,chan,], '.')"
   ]
  },
  {
   "cell_type": "code",
   "execution_count": 7,
   "metadata": {},
   "outputs": [],
   "source": [
    "def get_fg_ap(fg, fill=None):\n",
    "    if fill is None:\n",
    "        fill = np.nan\n",
    "    # grab aperiodic parameter fits    \n",
    "    ap_collect = np.ones((len(fg), 3 if fg.aperiodic_mode is 'knee' else 2))*fill\n",
    "    for i_r, res in enumerate(fg.get_results()):\n",
    "        # loop through to catch non-fits\n",
    "        if type(res.aperiodic_params) is not type(None):\n",
    "            ap_collect[i_r, :] = res.aperiodic_params\n",
    "    \n",
    "    return ap_collect\n"
   ]
  },
  {
   "cell_type": "code",
   "execution_count": null,
   "metadata": {},
   "outputs": [],
   "source": []
  }
 ],
 "metadata": {
  "kernelspec": {
   "display_name": "Python 3",
   "language": "python",
   "name": "python3"
  },
  "language_info": {
   "codemirror_mode": {
    "name": "ipython",
    "version": 3
   },
   "file_extension": ".py",
   "mimetype": "text/x-python",
   "name": "python",
   "nbconvert_exporter": "python",
   "pygments_lexer": "ipython3",
   "version": "3.6.9"
  }
 },
 "nbformat": 4,
 "nbformat_minor": 2
}
