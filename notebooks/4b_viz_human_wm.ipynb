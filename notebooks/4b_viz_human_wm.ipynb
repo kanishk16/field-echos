{
 "cells": [
  {
   "cell_type": "markdown",
   "metadata": {},
   "source": [
    "# Figure 4 (Part 2). Dynamic (Short-Term) Modulation of Timescale During Working Memory\n",
    "In this notebook, we look at the modulation of neuronal timescale in the human frontal cortex during a visuospatial working memory task.\n",
    "\n",
    "---\n",
    "So far, our data has shown that (spatial) variations in neuronal timescale is related to anatomical gradients in the cortex, both gene expression and local connectivity (grey matter myelination). In addition, timescale changes over aging, as one would expect if the underlying brain anatomy is changing via alteration and loss of specific cell types or synapses (e.g., GluN2B, see [Pagasiou et al., 2019][pegasiou2019]). As such, different cortical areas should have a clear division of roles: areas with short vs. long intrinsic timescales (i.e., sensory vs. association) should be \"responsible\" for short- vs. long- timescale information relevant for behavior, respectively. In other words, a cortical area should only \"accept\" a computation if its intrinsic timescale satisfies what's required by the task, and pass it onto another brain region with more appropriate timescales if not. Previous findings in animal studies have supported this, showing region-specific segregation of task information during decision-making ([Runyan et al., 2017][runyan2017]) and working memory ([Wasmuht et al., 2017][wasmuht2017]) tasks.\n",
    "\n",
    "Under this view, however, the timescale of each cortical region is rigidly defined by its anatomy, which does not change. An alternative possibility is that region-specific timescales can also be dynamically modulated by real-time behavioral requirements, i.e., a circuit will have an intrinsic timescale _range_ that is defined largely by its anatomy, and reflected in its resting-state dynamics. When recruited for a behavior, however, the circuit can move within its range of timescales as required, possibly as a function of the neuromodulators acting within those regions.\n",
    "\n",
    "Here, we test whether cortical timescales can be behaviorally-modulated. We analyze another publically available human ECoG dataset where 15 subjects are performing a visuospatial working memory task that requires a delayed response ([Johnson et al., 2018][johnson2018]). We aggregate over task conditions in the original study and simply ask whether neuronal timescale in the frontal cortices (prefrontal-PFC, orbitofrontal-OFC) and other regions (medial temporal/hippocampal-MTL, Parietal Cortex-PC) are different between resting (pre-stimulus) and memory maintenance (delay), both of which were absent of visual stimuli. We hypothesized that, since participants are required to hold onto information for task-response later, timescale of neuronal activity in frontal regions should be longer during delay period than pre-stimulus period, possibly reflecting an increase of recurrent activity.\n",
    "\n",
    "---\n",
    "ECoG data is taken from CRCNS datasets [fcx-2 and fcx-3][crcnsfcx]. The two datasets have 15 unique subjects total, with OFC, PFC, MTL, and parietal region coverage, performing the same task. See original[ publication][johnson2018] and data repository for detailed descriptions of the task and dataset. Briefly, each trial has one pre-stimulus epoch and two encoding epochs. We performed Hamming-windowed Fourier Transform on the last 900ms of data in each epoch to avoid stimulus-offset related ERPs, extracted timescale estimates from the PSD, and averaged the two delay periods. We compare timescale difference between delay and baseline period by taking their log-ratio. This was performed for each trial and channel separately, and timescale changes were then averaged across channels for a per-trial timescale difference. One-sample, two-tailed t-test was performed on timescale ratio over all trials for each subject, for a per-subject t-value of difference. We also average over all trials to get per-subject timescale differences (`'tau_tval'` and `'tau_diff'` in the dataframe below). This was repeated for other fooof-fitted PSD parameters (offset and exponent), as well as theta (3-8Hz) and high-frequency activity (HFA, 70-100Hz) power, for model comparison. \n",
    "\n",
    "Code for computing single-trial features are in `./4_analysis_human_wm.ipynb`. This notebook contains code for aggregating and performing statistics on the pooled data.\n",
    "\n",
    "---\n",
    "#### TL;DR: \n",
    "We hypothesized that neuronal timescale is not rigidly constrained by a circuit's structural properties, but can also be modulated dynamically by behavior. We find that, indeed, ECoG timescales in all regions are longer during the delay period of a working memory task than pre-stimulus baseline, but the amount of timescale increase is strongly related to working memory performance in PFC only, and not in PC, OFC, or MTL.\n",
    "\n",
    "[pegasiou2019]:http://dx.doi.org/10.1101/2020.01.21.913475\n",
    "[runyan2017]: https://www.nature.com/articles/nature23020\n",
    "[wasmuht2017]: https://www.nature.com/articles/s41467-018-05961-4\n",
    "[johnson2018]: https://journals.plos.org/plosbiology/article?id=10.1371/journal.pbio.2004274\n",
    "[crcnsfcx]: https://crcns.org/data-sets/fcx"
   ]
  },
  {
   "cell_type": "code",
   "execution_count": 1,
   "metadata": {},
   "outputs": [
    {
     "name": "stdout",
     "output_type": "stream",
     "text": [
      "********************************************************************************\n",
      "WARNING: Imported VTK version (8.1) does not match the one used\n",
      "         to build the TVTK classes (8.2). This may cause problems.\n",
      "         Please rebuild TVTK.\n",
      "********************************************************************************\n",
      "\n"
     ]
    }
   ],
   "source": [
    "%load_ext autoreload\n",
    "%matplotlib inline\n",
    "\n",
    "import warnings\n",
    "warnings.filterwarnings('ignore')\n",
    "\n",
    "import pickle\n",
    "import numpy as np\n",
    "import pandas as pd\n",
    "from scipy.stats import ttest_1samp, pearsonr, spearmanr, ttest_ind\n",
    "import statsmodels.formula.api as smf\n",
    "from numpy import log10\n",
    "\n",
    "# custom\n",
    "import sys\n",
    "sys.path.append('../')\n",
    "import echo_utils\n",
    "\n",
    "# plotting stuff\n",
    "import matplotlib.pyplot as plt\n",
    "from matplotlib import gridspec\n",
    "from seaborn import despine\n",
    "\n",
    "# plot settings\n",
    "font = {'family' : 'Arial',\n",
    "        'weight' : 'regular',\n",
    "        'size'   : 14}\n",
    "\n",
    "plt.rc('font', **font)\n",
    "fig_path = '../figures/jwm/%s.pdf'\n",
    "save_plot=True\n",
    "\n",
    "C_ORD = plt.rcParams['axes.prop_cycle'].by_key()['color']"
   ]
  },
  {
   "cell_type": "code",
   "execution_count": 2,
   "metadata": {},
   "outputs": [],
   "source": [
    "def compute_pre_enc(df_sub):\n",
    "    \"\"\"\n",
    "    Pool single trial data into dataframes containing aggregated pre, encoding, and difference.\n",
    "    \"\"\"\n",
    "    df_pre = df_sub[df_sub['cond']==0].copy().reset_index(drop=True, inplace=False)\n",
    "    df_enc = ((df_sub[df_sub['cond']==1]+df_sub[df_sub['cond']==2].values)/2).copy().reset_index(drop=True, inplace=False)\n",
    "\n",
    "    # make datafraom of differences \n",
    "    df_diff = pd.DataFrame(index=df_pre.index, columns=df_pre.columns)\n",
    "    df_diff[['patient', 'cond', 'trial', 'chan']] = df_pre[['patient', 'cond', 'trial', 'chan']]\n",
    "    df_diff['cond'] = 2.\n",
    "\n",
    "    ## COULD JUST REMOVE THIS WEIRD THING HERE BY LOGGING TAUS BEFORE\n",
    "    # take diff for all features\n",
    "    df_diff[feature_names] = df_enc[feature_names].values - df_pre[feature_names].values\n",
    "    # take log ratio for tau\n",
    "    df_diff['tau'] = log10(df_enc['tau'].values / df_pre['tau'].values) \n",
    "\n",
    "    # aggregate results\n",
    "    df_res = []\n",
    "    for df_cond in [df_pre, df_enc, df_diff]:\n",
    "        df_res.append(df_cond.groupby('patient').agg(['mean', 'sem']).drop(['trial', 'chan'], axis=1))\n",
    "\n",
    "    # meta-info\n",
    "    df_info = pd.DataFrame(index=np.unique(df_sub['patient']), columns=['n_trials', 'n_chans'])\n",
    "    df_info.index.name='patient'\n",
    "    for i_p, p in df_sub.groupby('patient'):\n",
    "        df_info.loc[i_p] = (len(np.unique(p['trial'])), len(np.unique(p['chan'])))\n",
    "\n",
    "    return df_res, df_info\n"
   ]
  },
  {
   "cell_type": "markdown",
   "metadata": {},
   "source": [
    "# Single-trial fits of timescale\n",
    "Collect FOOOF fits, merge all single trials into one big dataframe, and throw out tau & exponent values that are way outside the limit of reasonable values."
   ]
  },
  {
   "cell_type": "code",
   "execution_count": 3,
   "metadata": {},
   "outputs": [
    {
     "name": "stdout",
     "output_type": "stream",
     "text": [
      "offset| exp| knee| tau| theta| hfa| "
     ]
    }
   ],
   "source": [
    "# load metadata\n",
    "df_patient_info = pd.read_csv('../data/df_johnson_patient_info.csv', index_col=0)\n",
    "df_electrode_info = pd.read_csv('../data/df_johnson_electrode_info.csv')\n",
    "result_path = '../data/johnson/'\n",
    "\n",
    "# load data features\n",
    "feature_names = ['offset', 'exp', 'knee', 'tau', 'theta', 'hfa']\n",
    "feature_list = []\n",
    "for ff in feature_names:\n",
    "    print(ff, end='| ')\n",
    "    with open(result_path + \"all_%s.txt\"%ff, \"rb\") as fp: # unpickling\n",
    "        feature_list.append(pickle.load(fp))\n",
    "\n",
    "# collect all trials into df\n",
    "col_names = ['patient', 'cond', 'trial', 'chan', 'region'] + feature_names\n",
    "df_alltrials = pd.DataFrame(columns=col_names)\n",
    "\n",
    "# s3 has really bad data (see PSDs), s15 & s17 are same as s5 & s8\n",
    "patient_id = range(1,18) # patients go from s1-s17\n",
    "#patient_inds = [0,1,3,4,5,6,7,8,9,10,11,12,13,15] # drop 2, 14, 16 (s3, s15, s17)\n",
    "patient_inds = [0,1,3,4,5,6,7,8,9,10,11,12,13,14,15,16] # drop 2, 14, 16 (s3, s15, s17)\n",
    "\n",
    "# collect into a big dataframe, one row for each trial of every patient and electrode\n",
    "for i_p in patient_inds:\n",
    "    patient_mat = patient_id[i_p]*np.ones_like(feature_list[0][i_p])\n",
    "    nchans, ntrials = feature_list[0][i_p][0].shape\n",
    "    # make channel metadata matrices\n",
    "    cond_mat = np.ones_like(feature_list[0][i_p])*np.array([0,1,2])[:,None,None]\n",
    "    trial_mat = np.repeat(np.outer(np.ones((nchans,1)), np.arange(ntrials)[None,:])[None,:,:], 3, axis=0)\n",
    "    chan_mat = np.repeat(np.outer(np.ones((ntrials,1)), np.arange(nchans)[None,:]).T[None,:,:], 3, axis=0)\n",
    "    region_mat = df_electrode_info[df_electrode_info['patient']=='s%i'%patient_id[i_p]]['region'].values[chan_mat.astype(int)]\n",
    "    \n",
    "    ft_agg = [patient_mat.flatten(), cond_mat.flatten(), trial_mat.flatten(), chan_mat.flatten(), region_mat.flatten()]\n",
    "    # unpack feature and collect into df\n",
    "    for ft in feature_list:\n",
    "        ft_agg.append(ft[i_p].flatten())\n",
    "    df_cur = pd.DataFrame(np.array(ft_agg).T, columns=col_names)\n",
    "    df_alltrials = df_alltrials.append(df_cur, ignore_index=True)\n",
    "\n",
    "# set all trials with really bad slope fits (must be between 0 and 8) and tau fits (between 0 and 1) to nan to be excluded during analysis later\n",
    "df_alltrials.loc[((df_alltrials['exp']<0) | (df_alltrials['exp']>8)| (df_alltrials['tau']<=0) | (df_alltrials['tau']>1)), feature_names] = np.nan\n",
    "\n",
    "# reset patient info index to floats\n",
    "df_patient_info.index = [float(s[1:]) for s in df_patient_info.index]"
   ]
  },
  {
   "cell_type": "code",
   "execution_count": 109,
   "metadata": {},
   "outputs": [
    {
     "data": {
      "text/html": [
       "<div>\n",
       "<style scoped>\n",
       "    .dataframe tbody tr th:only-of-type {\n",
       "        vertical-align: middle;\n",
       "    }\n",
       "\n",
       "    .dataframe tbody tr th {\n",
       "        vertical-align: top;\n",
       "    }\n",
       "\n",
       "    .dataframe thead th {\n",
       "        text-align: right;\n",
       "    }\n",
       "</style>\n",
       "<table border=\"1\" class=\"dataframe\">\n",
       "  <thead>\n",
       "    <tr style=\"text-align: right;\">\n",
       "      <th></th>\n",
       "      <th>age</th>\n",
       "      <th>sex</th>\n",
       "      <th>acc_identity</th>\n",
       "      <th>acc_spatial</th>\n",
       "      <th>acc_temporal</th>\n",
       "      <th>rt_identity</th>\n",
       "      <th>rt_spatial</th>\n",
       "      <th>rt_temporal</th>\n",
       "      <th>sampling_rate</th>\n",
       "    </tr>\n",
       "  </thead>\n",
       "  <tbody>\n",
       "    <tr>\n",
       "      <th>1.0</th>\n",
       "      <td>33.0</td>\n",
       "      <td>F</td>\n",
       "      <td>0.900</td>\n",
       "      <td>0.950</td>\n",
       "      <td>0.850</td>\n",
       "      <td>1947.968750</td>\n",
       "      <td>1844.540541</td>\n",
       "      <td>1556.852941</td>\n",
       "      <td>1000</td>\n",
       "    </tr>\n",
       "    <tr>\n",
       "      <th>2.0</th>\n",
       "      <td>50.0</td>\n",
       "      <td>M</td>\n",
       "      <td>0.950</td>\n",
       "      <td>0.975</td>\n",
       "      <td>0.975</td>\n",
       "      <td>1155.111111</td>\n",
       "      <td>1092.236842</td>\n",
       "      <td>1169.378378</td>\n",
       "      <td>1000</td>\n",
       "    </tr>\n",
       "    <tr>\n",
       "      <th>3.0</th>\n",
       "      <td>69.0</td>\n",
       "      <td>F</td>\n",
       "      <td>0.925</td>\n",
       "      <td>0.775</td>\n",
       "      <td>0.750</td>\n",
       "      <td>2248.888889</td>\n",
       "      <td>1432.200000</td>\n",
       "      <td>1481.500000</td>\n",
       "      <td>1000</td>\n",
       "    </tr>\n",
       "    <tr>\n",
       "      <th>4.0</th>\n",
       "      <td>31.0</td>\n",
       "      <td>M</td>\n",
       "      <td>0.925</td>\n",
       "      <td>0.925</td>\n",
       "      <td>0.950</td>\n",
       "      <td>1562.411765</td>\n",
       "      <td>1740.277778</td>\n",
       "      <td>2069.567568</td>\n",
       "      <td>1000</td>\n",
       "    </tr>\n",
       "    <tr>\n",
       "      <th>5.0</th>\n",
       "      <td>22.0</td>\n",
       "      <td>M</td>\n",
       "      <td>0.825</td>\n",
       "      <td>0.800</td>\n",
       "      <td>0.750</td>\n",
       "      <td>3174.531250</td>\n",
       "      <td>2535.322581</td>\n",
       "      <td>3142.178571</td>\n",
       "      <td>1000</td>\n",
       "    </tr>\n",
       "    <tr>\n",
       "      <th>6.0</th>\n",
       "      <td>31.0</td>\n",
       "      <td>M</td>\n",
       "      <td>0.925</td>\n",
       "      <td>1.000</td>\n",
       "      <td>0.925</td>\n",
       "      <td>1685.702703</td>\n",
       "      <td>962.925000</td>\n",
       "      <td>1088.351351</td>\n",
       "      <td>1000</td>\n",
       "    </tr>\n",
       "    <tr>\n",
       "      <th>7.0</th>\n",
       "      <td>34.0</td>\n",
       "      <td>M</td>\n",
       "      <td>0.900</td>\n",
       "      <td>1.000</td>\n",
       "      <td>0.975</td>\n",
       "      <td>779.371429</td>\n",
       "      <td>740.131579</td>\n",
       "      <td>647.594595</td>\n",
       "      <td>1000</td>\n",
       "    </tr>\n",
       "    <tr>\n",
       "      <th>8.0</th>\n",
       "      <td>27.0</td>\n",
       "      <td>M</td>\n",
       "      <td>0.900</td>\n",
       "      <td>0.975</td>\n",
       "      <td>0.975</td>\n",
       "      <td>1469.166667</td>\n",
       "      <td>1037.076923</td>\n",
       "      <td>989.282051</td>\n",
       "      <td>512</td>\n",
       "    </tr>\n",
       "    <tr>\n",
       "      <th>9.0</th>\n",
       "      <td>34.0</td>\n",
       "      <td>F</td>\n",
       "      <td>0.875</td>\n",
       "      <td>0.825</td>\n",
       "      <td>0.825</td>\n",
       "      <td>1700.057143</td>\n",
       "      <td>1308.848485</td>\n",
       "      <td>1797.484848</td>\n",
       "      <td>512</td>\n",
       "    </tr>\n",
       "    <tr>\n",
       "      <th>10.0</th>\n",
       "      <td>42.0</td>\n",
       "      <td>M</td>\n",
       "      <td>0.875</td>\n",
       "      <td>0.975</td>\n",
       "      <td>0.925</td>\n",
       "      <td>869.800000</td>\n",
       "      <td>661.297297</td>\n",
       "      <td>811.352941</td>\n",
       "      <td>1000</td>\n",
       "    </tr>\n",
       "    <tr>\n",
       "      <th>11.0</th>\n",
       "      <td>23.0</td>\n",
       "      <td>F</td>\n",
       "      <td>0.825</td>\n",
       "      <td>0.900</td>\n",
       "      <td>0.825</td>\n",
       "      <td>1942.000000</td>\n",
       "      <td>1129.400000</td>\n",
       "      <td>1441.931034</td>\n",
       "      <td>1000</td>\n",
       "    </tr>\n",
       "    <tr>\n",
       "      <th>12.0</th>\n",
       "      <td>24.5</td>\n",
       "      <td>M</td>\n",
       "      <td>0.875</td>\n",
       "      <td>0.875</td>\n",
       "      <td>0.625</td>\n",
       "      <td>2461.942857</td>\n",
       "      <td>1291.000000</td>\n",
       "      <td>1472.960000</td>\n",
       "      <td>1000</td>\n",
       "    </tr>\n",
       "    <tr>\n",
       "      <th>13.0</th>\n",
       "      <td>23.0</td>\n",
       "      <td>F</td>\n",
       "      <td>0.850</td>\n",
       "      <td>0.825</td>\n",
       "      <td>0.900</td>\n",
       "      <td>887.750000</td>\n",
       "      <td>867.718750</td>\n",
       "      <td>798.058824</td>\n",
       "      <td>1000</td>\n",
       "    </tr>\n",
       "    <tr>\n",
       "      <th>14.0</th>\n",
       "      <td>32.0</td>\n",
       "      <td>F</td>\n",
       "      <td>0.850</td>\n",
       "      <td>0.975</td>\n",
       "      <td>0.975</td>\n",
       "      <td>1109.566667</td>\n",
       "      <td>946.868421</td>\n",
       "      <td>985.000000</td>\n",
       "      <td>1000</td>\n",
       "    </tr>\n",
       "    <tr>\n",
       "      <th>15.0</th>\n",
       "      <td>22.5</td>\n",
       "      <td>M</td>\n",
       "      <td>0.825</td>\n",
       "      <td>0.800</td>\n",
       "      <td>0.750</td>\n",
       "      <td>3174.531250</td>\n",
       "      <td>2535.322581</td>\n",
       "      <td>3142.178571</td>\n",
       "      <td>1000</td>\n",
       "    </tr>\n",
       "    <tr>\n",
       "      <th>16.0</th>\n",
       "      <td>26.0</td>\n",
       "      <td>M</td>\n",
       "      <td>0.825</td>\n",
       "      <td>0.775</td>\n",
       "      <td>0.675</td>\n",
       "      <td>2964.900000</td>\n",
       "      <td>2610.600000</td>\n",
       "      <td>2439.725000</td>\n",
       "      <td>1000</td>\n",
       "    </tr>\n",
       "    <tr>\n",
       "      <th>17.0</th>\n",
       "      <td>27.0</td>\n",
       "      <td>M</td>\n",
       "      <td>0.900</td>\n",
       "      <td>0.975</td>\n",
       "      <td>0.975</td>\n",
       "      <td>1469.166667</td>\n",
       "      <td>1037.076923</td>\n",
       "      <td>989.282051</td>\n",
       "      <td>512</td>\n",
       "    </tr>\n",
       "  </tbody>\n",
       "</table>\n",
       "</div>"
      ],
      "text/plain": [
       "       age sex  acc_identity  acc_spatial  acc_temporal  rt_identity  \\\n",
       "1.0   33.0   F         0.900        0.950         0.850  1947.968750   \n",
       "2.0   50.0   M         0.950        0.975         0.975  1155.111111   \n",
       "3.0   69.0   F         0.925        0.775         0.750  2248.888889   \n",
       "4.0   31.0   M         0.925        0.925         0.950  1562.411765   \n",
       "5.0   22.0   M         0.825        0.800         0.750  3174.531250   \n",
       "6.0   31.0   M         0.925        1.000         0.925  1685.702703   \n",
       "7.0   34.0   M         0.900        1.000         0.975   779.371429   \n",
       "8.0   27.0   M         0.900        0.975         0.975  1469.166667   \n",
       "9.0   34.0   F         0.875        0.825         0.825  1700.057143   \n",
       "10.0  42.0   M         0.875        0.975         0.925   869.800000   \n",
       "11.0  23.0   F         0.825        0.900         0.825  1942.000000   \n",
       "12.0  24.5   M         0.875        0.875         0.625  2461.942857   \n",
       "13.0  23.0   F         0.850        0.825         0.900   887.750000   \n",
       "14.0  32.0   F         0.850        0.975         0.975  1109.566667   \n",
       "15.0  22.5   M         0.825        0.800         0.750  3174.531250   \n",
       "16.0  26.0   M         0.825        0.775         0.675  2964.900000   \n",
       "17.0  27.0   M         0.900        0.975         0.975  1469.166667   \n",
       "\n",
       "       rt_spatial  rt_temporal  sampling_rate  \n",
       "1.0   1844.540541  1556.852941           1000  \n",
       "2.0   1092.236842  1169.378378           1000  \n",
       "3.0   1432.200000  1481.500000           1000  \n",
       "4.0   1740.277778  2069.567568           1000  \n",
       "5.0   2535.322581  3142.178571           1000  \n",
       "6.0    962.925000  1088.351351           1000  \n",
       "7.0    740.131579   647.594595           1000  \n",
       "8.0   1037.076923   989.282051            512  \n",
       "9.0   1308.848485  1797.484848            512  \n",
       "10.0   661.297297   811.352941           1000  \n",
       "11.0  1129.400000  1441.931034           1000  \n",
       "12.0  1291.000000  1472.960000           1000  \n",
       "13.0   867.718750   798.058824           1000  \n",
       "14.0   946.868421   985.000000           1000  \n",
       "15.0  2535.322581  3142.178571           1000  \n",
       "16.0  2610.600000  2439.725000           1000  \n",
       "17.0  1037.076923   989.282051            512  "
      ]
     },
     "execution_count": 109,
     "metadata": {},
     "output_type": "execute_result"
    }
   ],
   "source": [
    "# s3 has really bad data (see PSDs), s15 & s17 are same as s5 & s8\n",
    "df_patient_info"
   ]
  },
  {
   "cell_type": "markdown",
   "metadata": {},
   "source": [
    "---\n",
    "Have to do some gymnastics here: basically, s5 and s15 are the same dataset (and s8 with s17), but s5 has all but the parietal electrodes, while s15 has the (same) PFC electrodes but with the parietal electrodes. Same for s8 and s17. So here I have to grab just the parietal data from s5, reset some data values (like channel number and patient id), and put it back into the single-trial dataframe. Nothing super interesting.\n",
    "\n",
    "To confirm that it was done correctly, check the aggregate results without removing s15 and s17, and see that the PFC and parietal values are identical to s5 and s8."
   ]
  },
  {
   "cell_type": "code",
   "execution_count": 4,
   "metadata": {},
   "outputs": [],
   "source": [
    "# recombine s5's parietal electrodes into s5\n",
    "df_15 = df_alltrials[(df_alltrials['patient']==15.) & (df_alltrials['region']=='Parietal')].copy().reset_index(drop=True)\n",
    "curr_chan_num = np.unique(df_15['chan'])\n",
    "restart_chan = df_alltrials[(df_alltrials['patient']==5.)]['chan'].max()+1\n",
    "df_15['chan'].replace(curr_chan_num, np.arange(len(curr_chan_num))+restart_chan, inplace=True)\n",
    "df_15['patient'] = 5.\n",
    "\n",
    "df_17 = df_alltrials[(df_alltrials['patient']==17.) & (df_alltrials['region']=='Parietal')].copy().reset_index(drop=True)\n",
    "curr_chan_num = np.unique(df_17['chan'])\n",
    "restart_chan = df_alltrials[(df_alltrials['patient']==8.)]['chan'].max()+1\n",
    "df_17['chan'].replace(curr_chan_num, np.arange(len(curr_chan_num))+restart_chan, inplace=True)\n",
    "df_17['patient'] = 8.\n",
    "\n",
    "# add them in\n",
    "df_alltrials = df_alltrials.append((df_15, df_17), ignore_index=True)\n",
    "\n",
    "# toss out \n",
    "df_alltrials.drop(df_alltrials[(df_alltrials['patient']==15.)|(df_alltrials['patient']==17.)].index, inplace=True)"
   ]
  },
  {
   "cell_type": "markdown",
   "metadata": {},
   "source": [
    "### Aggregate electrodes over regions\n",
    "Separately combine results from channels only within the same region of the brain. Patients will have different electrode coverage."
   ]
  },
  {
   "cell_type": "code",
   "execution_count": 97,
   "metadata": {},
   "outputs": [],
   "source": [
    "region_labels = ['Parietal', 'PFC', 'OFC', 'MTL']\n",
    "df_res_regions = []\n",
    "\n",
    "# result for all areas combined\n",
    "df_res_regions.append(compute_pre_enc(df_alltrials.drop(labels='region', axis=1).astype(float)))\n",
    "\n",
    "# cycle through regions\n",
    "for reg in region_labels[1:]:\n",
    "    df_reg = df_alltrials[(df_alltrials['region']==reg)].copy().reset_index(drop=True, inplace=False).drop(labels='region', axis=1).astype(float)\n",
    "    df_res_regions.append(compute_pre_enc(df_reg))\n"
   ]
  },
  {
   "cell_type": "markdown",
   "metadata": {},
   "source": [
    "### Collect feature average over all regions"
   ]
  },
  {
   "cell_type": "code",
   "execution_count": 98,
   "metadata": {},
   "outputs": [],
   "source": [
    "def collect_results(df_res_regions, region_labels, cond, feat):\n",
    "    # cond: 0 = pre, 1 = enc, 2 = diff\n",
    "    df_mean = pd.DataFrame(index=patient_id, columns=region_labels)\n",
    "    df_sem = pd.DataFrame(index=patient_id, columns=region_labels)\n",
    "    df_chancount = pd.DataFrame(index=patient_id, columns=region_labels)\n",
    "    for reg in range(len(region_labels)):\n",
    "        df_mean[region_labels[reg]] = df_res_regions[reg][0][cond][feat]['mean']\n",
    "        df_sem[region_labels[reg]] = df_res_regions[reg][0][cond][feat]['sem']\n",
    "        df_chancount[region_labels[reg]] = df_res_regions[reg][1]['n_chans']\n",
    "    return df_mean, df_sem, df_chancount"
   ]
  },
  {
   "cell_type": "markdown",
   "metadata": {},
   "source": [
    "---\n",
    "# Pre-stimulus (baseline) timescale\n",
    "Here, we compute the pre-stimulus timescale, as a measure of intrinsic timescale analogous to that measured during resting state in the MNI dataset. Ideally, the hierarchical relationship of increasing timescale from lower to higher order regions (PC -> PFC -> OFC -> MTL) should be replicated in this independent dataset. Note that timescales are estimated slightly differently here: single-trial power spectra are fit and timescales are extracted here, then averaged over subregions and trials, compared to the time-averaged power spectral density being fit. Regardless, we should find a similar (though perhaps noisier) estimate of the relationship along the cortical hierarchy."
   ]
  },
  {
   "cell_type": "code",
   "execution_count": 99,
   "metadata": {},
   "outputs": [
    {
     "data": {
      "text/plain": [
       "Parietal    14\n",
       "PFC         13\n",
       "OFC          8\n",
       "MTL          9\n",
       "dtype: int64"
      ]
     },
     "execution_count": 99,
     "metadata": {},
     "output_type": "execute_result"
    }
   ],
   "source": [
    "df_mean, df_sem, df_cc = collect_results(df_res_regions, region_labels, cond=0, feat='tau')\n",
    "(~np.isnan(df_mean)).sum(0)"
   ]
  },
  {
   "cell_type": "code",
   "execution_count": 100,
   "metadata": {},
   "outputs": [
    {
     "name": "stdout",
     "output_type": "stream",
     "text": [
      "PC-MTL:  Ttest_indResult(statistic=-2.247972985628332, pvalue=0.03544596149016626)\n",
      "PFC-MTL:  Ttest_indResult(statistic=-2.71384526628915, pvalue=0.01336650029303693)\n",
      "PFC-OFC:  Ttest_indResult(statistic=-1.6790018367611104, pvalue=0.1095223985530137)\n"
     ]
    },
    {
     "data": {
      "image/png": "[encoded data removed]",
      "text/plain": [
       "<Figure size 216x288 with 1 Axes>"
      ]
     },
     "metadata": {
      "needs_background": "light"
     },
     "output_type": "display_data"
    }
   ],
   "source": [
    "rl_short = ['PC', 'PFC', 'OFC', 'MTL']\n",
    "plt.figure(figsize=(3,4))\n",
    "for i_r, reg in enumerate(region_labels):\n",
    "    plt.plot([i_r]*len(df_mean)+np.random.randn(len(df_mean))/10, df_mean[reg].values, '.', ms=5, alpha=0.7, color=C_ORD[i_r])\n",
    "    plt.errorbar(i_r, df_mean[reg].mean(), df_mean[reg].sem(), color=C_ORD[i_r], fmt='o', ms=10, alpha=1)\n",
    "\n",
    "         \n",
    "plt.xticks(range(len(rl_short)), rl_short)\n",
    "plt.yticks(np.arange(0.02,0.07, 0.02), (np.arange(0.02,0.07, 0.02)*1000).astype(int))\n",
    "plt.ylabel('baseline timescale (ms)')\n",
    "plt.xlim([-0.5, 3.5])\n",
    "despine(bottom=True)\n",
    "plt.tight_layout()\n",
    "if save_plot: plt.savefig(fig_path%'tau_pre', bbox_inches='tight')\n",
    "\n",
    "print('PC-MTL: ', ttest_ind(df_mean['Parietal'], df_mean['MTL'], nan_policy='omit'))\n",
    "print('PFC-MTL: ', ttest_ind(df_mean['PFC'], df_mean['MTL'], nan_policy='omit'))\n",
    "print('PFC-OFC: ', ttest_ind(df_mean['PFC'], df_mean['OFC'], nan_policy='omit'))"
   ]
  },
  {
   "cell_type": "markdown",
   "metadata": {},
   "source": [
    "### Neuronal timescale across hierarchy is replicated\n",
    "As expected, neuronal timescale increases along the cortical hierarchy. PC and PFC are both statistically different from MTL at baseline, but not from OFC or each other."
   ]
  },
  {
   "cell_type": "markdown",
   "metadata": {},
   "source": [
    "---\n",
    "# Timescale change from prestimulus baseline to encoding period\n",
    "Here, we look at the average timescale change (over channels and trials) between prestimulus period and delay period for each patient."
   ]
  },
  {
   "cell_type": "code",
   "execution_count": 101,
   "metadata": {},
   "outputs": [],
   "source": [
    "df_mean, df_sem, df_cc = collect_results(df_res_regions, region_labels, cond=2, feat='tau')"
   ]
  },
  {
   "cell_type": "code",
   "execution_count": 102,
   "metadata": {},
   "outputs": [
    {
     "data": {
      "image/png": "[encoded data removed]",
      "text/plain": [
       "<Figure size 252x288 with 1 Axes>"
      ]
     },
     "metadata": {
      "needs_background": "light"
     },
     "output_type": "display_data"
    }
   ],
   "source": [
    "plt.figure(figsize=(3.5,4))\n",
    "_, pv = ttest_1samp(df_mean, 0, nan_policy='omit') # compute all p-values\n",
    "for i_r, reg in enumerate(region_labels):\n",
    "    plt.plot([i_r]*len(df_mean)+np.random.randn(len(df_mean))/10, df_mean[reg].values, '.', ms=5, alpha=0.7, color=C_ORD[i_r])\n",
    "    plt.errorbar(i_r, df_mean[reg].mean(), df_mean[reg].sem(), color=C_ORD[i_r], fmt='o', ms=10, alpha=1)\n",
    "    s = echo_utils.sig_str(0, pv[i_r])\n",
    "    plt.annotate(s[15:], xy=(i_r, 0.145), horizontalalignment='center', fontsize=20)\n",
    "\n",
    "plt.xticks(range(len(rl_short)), rl_short)\n",
    "# change axis to show percent change\n",
    "yt = np.arange(1,1.41,0.2)\n",
    "plt.yticks(log10(yt), ['%i%%'%int(yt_*100) for yt_ in yt]); plt.ylim(log10([yt[0], yt[-1]]))\n",
    "plt.ylabel('delay period timescale\\n(as % of baseline)')\n",
    "despine(bottom=True); plt.xlim([-0.5, 3.5])\n",
    "plt.tight_layout()\n",
    "if save_plot: plt.savefig(fig_path%'tau_diff', bbox_inches='tight')"
   ]
  },
  {
   "cell_type": "markdown",
   "metadata": {},
   "source": [
    "### Neuronal timescale is longer during working memory delay period\n",
    "Neuronal timescale in all regions during delay period is on average 20% longer than during the prestimulus baseline period. Each small dot is a single subject and large circles/lines denote across-subject mean +/- sem.\n",
    "\n",
    "These data support our hypothesis that neuronal timescale can be dynamically modulated, specifically lengthened during working memory encoding and delay period than at rest, and is true across all regions, not just frontal regions."
   ]
  },
  {
   "cell_type": "markdown",
   "metadata": {},
   "source": [
    "---\n",
    "# Timescale difference vs. working memory accuracy\n",
    "Next, we ask whether the extent of timescale modulation is related to working memory performance across individuals. "
   ]
  },
  {
   "cell_type": "code",
   "execution_count": 104,
   "metadata": {},
   "outputs": [
    {
     "name": "stdout",
     "output_type": "stream",
     "text": [
      "Parietal 0.5115794246558464 0.061499878898265976\n",
      "PFC 0.7503512515483205 0.0031288779369725394\n",
      "OFC 0.07142857142857144 0.8665262706759088\n",
      "MTL -0.4267819784654187 0.2519566902874007\n"
     ]
    },
    {
     "data": {
      "image/png": "[encoded data removed]",
      "text/plain": [
       "<Figure size 288x288 with 1 Axes>"
      ]
     },
     "metadata": {
      "needs_background": "light"
     },
     "output_type": "display_data"
    },
    {
     "data": {
      "image/png": "[encoded data removed]",
      "text/plain": [
       "<Figure size 108x108 with 1 Axes>"
      ]
     },
     "metadata": {
      "needs_background": "light"
     },
     "output_type": "display_data"
    }
   ],
   "source": [
    "reg='PFC'\n",
    "\n",
    "y = df_mean[reg][~np.isnan(df_mean[reg])]\n",
    "y_err = df_sem[reg][~np.isnan(df_sem[reg])]\n",
    "x = df_patient_info[['acc_identity','acc_spatial','acc_temporal']].mean(1)\n",
    "rho, pv = spearmanr(x[y.index].values,y.values)\n",
    "\n",
    "plt.figure(figsize=(4,4))\n",
    "plt.errorbar(x[y.index].values, y.values, y_err.values, fmt='o', ms=8, alpha=0.8, color=C_ORD[1])\n",
    "s = echo_utils.sig_str(rho, pv, form='text')\n",
    "plt.annotate(s, xy=(0.7, 0.05), xycoords='axes fraction');\n",
    "plt.yticks(log10(yt), ['%i%%'%int(yt_*100) for yt_ in yt]); plt.ylim(log10([yt[0], yt[-1]]))\n",
    "plt.ylabel('PFC delay period timescale (%)')\n",
    "plt.xticks(np.arange(0.7,1.01,0.1))\n",
    "plt.xlabel('working memory accuracy')\n",
    "despine();plt.tight_layout()\n",
    "if save_plot: plt.savefig(fig_path%'PFC_taudiff_acc', bbox_inches='tight')\n",
    "\n",
    "plt.figure(figsize=(1.5,1.5))\n",
    "for i_r, reg in enumerate(region_labels):\n",
    "    y = df_mean[reg][~np.isnan(df_mean[reg])]\n",
    "    rho, pv = spearmanr(x[y.index].values,y.values)\n",
    "    print(reg, rho, pv)\n",
    "    plt.barh(len(region_labels)-i_r, rho, fc=C_ORD[i_r], ec='k', lw=1, alpha=0.8)\n",
    "    s = echo_utils.sig_str(rho, pv)\n",
    "\n",
    "plt.xticks([-1,1]); plt.xlabel(r'$\\rho$', labelpad=-15)\n",
    "plt.yticks([]); despine(left=True)\n",
    "if save_plot: plt.savefig(fig_path%'corr_taudiff_acc', bbox_inches='tight')"
   ]
  },
  {
   "cell_type": "markdown",
   "metadata": {},
   "source": [
    "### Timescale change in PFC and working memory performance are related\n",
    "Average timescale change in PFC is significantly associated with average working memory performance across patients, and for no other region is this true even though all regions experience an increase in timescale. Top plot shows individual subject's change in PFC timescale and WM performance, and small bottom plot (inset in actual figure) shows Spearman correlation (rho) of timescale change and WM accuracy for each region in the brain (same color scheme as above).\n"
   ]
  },
  {
   "cell_type": "markdown",
   "metadata": {},
   "source": [
    "---\n",
    "### Checking other neural features"
   ]
  },
  {
   "cell_type": "code",
   "execution_count": 105,
   "metadata": {},
   "outputs": [
    {
     "name": "stdout",
     "output_type": "stream",
     "text": [
      "---------- exp ----------\n",
      "Parietal -0.22050837269648552 0.4487251293055221\n",
      "PFC -0.011034577228651771 0.9714598718066683\n",
      "OFC -0.7857142857142858 0.020815127253525276\n",
      "MTL -0.33473096350228926 0.37859496128192693\n",
      "---------- tau ----------\n",
      "Parietal 0.5115794246558464 0.061499878898265976\n",
      "PFC 0.7503512515483205 0.0031288779369725394\n",
      "OFC 0.07142857142857144 0.8665262706759088\n",
      "MTL -0.4267819784654187 0.2519566902874007\n",
      "---------- theta ----------\n",
      "Parietal 0.41235065694242795 0.1428761061057796\n",
      "PFC 0.5075905525179815 0.07660534777149673\n",
      "OFC -0.09523809523809526 0.8225054302036114\n",
      "MTL -0.5857791861290061 0.09743391135780573\n",
      "---------- hfa ----------\n",
      "Parietal -0.09481860025948877 0.7471279753178035\n",
      "PFC -0.14620814827963596 0.6336333513519894\n",
      "OFC 0.28571428571428575 0.4927262450169573\n",
      "MTL 0.7113032974423645 0.03165655703330231\n"
     ]
    },
    {
     "data": {
      "image/png": "[encoded data removed]",
      "text/plain": [
       "<Figure size 864x432 with 8 Axes>"
      ]
     },
     "metadata": {
      "needs_background": "light"
     },
     "output_type": "display_data"
    }
   ],
   "source": [
    "x = df_patient_info[['acc_identity','acc_spatial','acc_temporal']].mean(1)\n",
    "\n",
    "plt.figure(figsize=(12,6))\n",
    "for i_f, fn in enumerate(np.array(feature_names)[[1,3,4,5]]):\n",
    "    df_mean, df_sem, df_cc = collect_results(df_res_regions, region_labels, cond=2, feat=fn)\n",
    "    print('---------- %s ----------'%fn)\n",
    "    plt.subplot(2,4,i_f+1)\n",
    "    _, pv = ttest_1samp(df_mean, 0, nan_policy='omit') # compute all p-values\n",
    "    for i_r, reg in enumerate(region_labels):\n",
    "        plt.plot([i_r]*len(df_mean)+np.random.randn(len(df_mean))/10, df_mean[reg].values, '.', ms=5, alpha=0.7, color=C_ORD[i_r])\n",
    "        plt.errorbar(i_r, df_mean[reg].mean(), df_mean[reg].sem(), color=C_ORD[i_r], fmt='o', ms=10, alpha=1)\n",
    "        s = echo_utils.sig_str(0, pv[i_r])\n",
    "        plt.annotate(s[15:], xy=(i_r, 0.145), horizontalalignment='center', fontsize=20)\n",
    "        \n",
    "    plt.title(fn)\n",
    "    plt.xticks(range(len(rl_short)), rl_short)\n",
    "\n",
    "    plt.subplot(2,4,i_f+5)\n",
    "    for i_r, reg in enumerate(region_labels):\n",
    "        y = df_mean[reg][~np.isnan(df_mean[reg])]\n",
    "        rho, pv = spearmanr(x[y.index].values,y.values)\n",
    "        print(reg, rho, pv)\n",
    "        plt.barh(len(region_labels)-i_r, rho, fc=C_ORD[i_r], ec='k', lw=1, alpha=0.8)\n",
    "        s = echo_utils.sig_str(0, pv)\n",
    "        plt.annotate(s[15:], xy=(rho, len(region_labels)-i_r-0.25), horizontalalignment='center', fontsize=20)\n",
    "        s = echo_utils.sig_str(rho, pv)\n",
    "\n",
    "    plt.xticks([-1,1]); plt.xlabel(r'$\\rho$', labelpad=-15)\n",
    "    plt.yticks([]); despine(left=True)\n",
    "\n",
    "plt.subplot(2,4,1); plt.ylabel('delay - baseline')\n",
    "plt.tight_layout()\n",
    "if save_plot: plt.savefig(fig_path%'corr_diff_all_features', bbox_inches='tight')"
   ]
  },
  {
   "cell_type": "code",
   "execution_count": 107,
   "metadata": {},
   "outputs": [
    {
     "data": {
      "image/png": "[encoded data removed]",
      "text/plain": [
       "<Figure size 576x288 with 2 Axes>"
      ]
     },
     "metadata": {
      "needs_background": "light"
     },
     "output_type": "display_data"
    }
   ],
   "source": [
    "plt.figure(figsize=(8,4))\n",
    "plt.subplot(1,2,1)\n",
    "reg = 'OFC'\n",
    "fn = 'exp'\n",
    "df_mean, df_sem, df_cc = collect_results(df_res_regions, region_labels, cond=2, feat=fn)\n",
    "y = df_mean[reg][~np.isnan(df_mean[reg])]\n",
    "y_err = df_sem[reg][~np.isnan(df_sem[reg])]\n",
    "rho, pv = spearmanr(x[y.index].values,y.values)\n",
    "plt.errorbar(x[y.index].values, y.values, y_err.values, fmt='o', ms=8, alpha=0.8, color=C_ORD[2])\n",
    "s = echo_utils.sig_str(rho, pv, form='text')\n",
    "plt.annotate(s, xy=(0.2, 0.05), xycoords='axes fraction');\n",
    "plt.ylabel('%s %s change'%(reg, fn))\n",
    "plt.xlabel('working memory accuracy')\n",
    "\n",
    "plt.subplot(1,2,2)\n",
    "reg = 'MTL'\n",
    "fn = 'hfa'\n",
    "df_mean, df_sem, df_cc = collect_results(df_res_regions, region_labels, cond=2, feat=fn)\n",
    "y = df_mean[reg][~np.isnan(df_mean[reg])]\n",
    "y_err = df_sem[reg][~np.isnan(df_sem[reg])]\n",
    "rho, pv = spearmanr(x[y.index].values,y.values)\n",
    "plt.errorbar(x[y.index].values, y.values, y_err.values, fmt='o', ms=8, alpha=0.8, color=C_ORD[3])\n",
    "s = echo_utils.sig_str(rho, pv, form='text')\n",
    "plt.annotate(s, xy=(0.2, 0.05), xycoords='axes fraction');\n",
    "plt.ylabel('%s %s change'%(reg, fn))\n",
    "plt.xlabel('working memory accuracy')\n",
    "\n",
    "despine();plt.tight_layout()"
   ]
  },
  {
   "cell_type": "markdown",
   "metadata": {},
   "source": [
    "### No other feature is as strongly predictive of behavior as PFC timescale change."
   ]
  },
  {
   "cell_type": "markdown",
   "metadata": {},
   "source": [
    "---"
   ]
  },
  {
   "cell_type": "markdown",
   "metadata": {},
   "source": [
    "# Supplemental & Fun"
   ]
  },
  {
   "cell_type": "markdown",
   "metadata": {},
   "source": [
    "### Single Distribution of Timescale Ratios (Delay:Prestim)"
   ]
  },
  {
   "cell_type": "code",
   "execution_count": 13,
   "metadata": {},
   "outputs": [],
   "source": [
    "# bins = np.arange(-3, 3, 0.1)\n",
    "# plt.figure(figsize=(4,4))\n",
    "# for i_p, df_patient in df_diff.groupby('patient'):\n",
    "#     plt.hist(df_patient['tau'], bins, histtype='step', density=True)\n",
    "    \n",
    "# plt.hist(df_diff['tau'], bins, histtype='step', density=True, lw=1, color='k');\n",
    "# #df_patient['tau']"
   ]
  },
  {
   "cell_type": "markdown",
   "metadata": {},
   "source": [
    "### To Log or Not to Log"
   ]
  },
  {
   "cell_type": "code",
   "execution_count": 14,
   "metadata": {},
   "outputs": [],
   "source": [
    "# plt.figure(figsize=(15,5))\n",
    "\n",
    "# # door #1\n",
    "# plt.subplot(1,3,1)\n",
    "# df_pre = df_operating[df_operating['cond']==0]\n",
    "# df_enc = (df_operating[df_operating['cond']==1]+df_operating[df_operating['cond']==2].values)/2\n",
    "# df_diff = df_enc \n",
    "# df_diff[feature_names] -= df_pre[feature_names].values\n",
    "# plt.hist(df_diff['tau'], 100);\n",
    "# print((df_diff['tau']).mean(), (df_diff['tau']<=0).sum()/(~np.isnan(df_diff['tau'])).sum())\n",
    "# print(ttest_1samp((df_diff['tau']), 0, nan_policy='omit'))\n",
    "# print('------')\n",
    "\n",
    "# # door #2\n",
    "# plt.subplot(1,3,2)\n",
    "# df_diff = log10(df_enc)\n",
    "# df_diff[feature_names] -= log10(df_pre[feature_names].values)\n",
    "# plt.hist(df_diff['tau'], 100);\n",
    "# print((df_diff['tau']).mean(), (df_diff['tau']<=0).sum()/(~np.isnan(df_diff['tau'])).sum())\n",
    "# print(ttest_1samp((df_diff['tau']), 0, nan_policy='omit'))\n",
    "# print('------')\n",
    "\n",
    "# # door #3\n",
    "# plt.subplot(1,3,3)\n",
    "# df_pre = log10(df_operating[df_operating['cond']==0])\n",
    "# df_enc = (log10(df_operating[df_operating['cond']==1])+log10(df_operating[df_operating['cond']==2].values))/2\n",
    "# df_diff = df_enc \n",
    "# df_diff[feature_names] -= df_pre[feature_names].values\n",
    "# plt.hist(df_diff['tau'], 100);\n",
    "# print((df_diff['tau']).mean(), (df_diff['tau']<=0).sum()/(~np.isnan(df_diff['tau'])).sum())\n",
    "# print(ttest_1samp((df_diff['tau']), 0, nan_policy='omit'))\n",
    "# print('------')\n",
    "\n"
   ]
  },
  {
   "cell_type": "code",
   "execution_count": 15,
   "metadata": {},
   "outputs": [],
   "source": [
    "# plt.figure(figsize=(4,4))\n",
    "# log_first = (log10(df_operating[df_operating['cond']==1])+log10(df_operating[df_operating['cond']==2].values))/2\n",
    "# log_after = log10((df_operating[df_operating['cond']==1]+df_operating[df_operating['cond']==2].values)/2)\n",
    "# plt.plot(log_first['tau'],log_after['tau'], '.', ms=1)\n",
    "# plt.plot([-2.5,-0.5],[-2.5,-0.5], '--')\n",
    "# plt.xlabel('log-first')\n",
    "# plt.ylabel('log-after')\n",
    "# # is this true in general?\n",
    "# plt.figure(figsize=(4,4))\n",
    "# a = np.random.lognormal(-4, 1.2, 30000)\n",
    "# b = np.random.lognormal(-4, 1.2, 30000)\n",
    "# plt.plot((log10(a)+log10(b))/2, log10((a+b)/2), '.', ms=1)\n",
    "# plt.plot([-2.5,-0.5],[-2.5,-0.5], '--')"
   ]
  },
  {
   "cell_type": "markdown",
   "metadata": {},
   "source": [
    "### Old Way of Compute with Outlier Removal \n",
    "(doesn't really make a difference)"
   ]
  },
  {
   "cell_type": "code",
   "execution_count": 16,
   "metadata": {},
   "outputs": [],
   "source": [
    "# # outlier detection, doesn't really matter what you use beyond z = 3\n",
    "# z_outlier = 5\n",
    "# log_tau = True\n",
    "# global_outlier = False # do outlier detection per subject or pooled, also makes no real difference\n",
    "\n",
    "# df_operating = df_alltrials.copy()\n",
    "# grand_avg = []\n",
    "# valid_pat = np.unique(df_operating['patient'])\n",
    "\n",
    "# if global_outlier:\n",
    "#     # global outliers, discard based on tau outlier\n",
    "#     x = df_operating['tau']\n",
    "#     z = np.abs((x-np.nanmean(x))/np.nanstd(x))\n",
    "#     df_operating.loc[z>z_outlier, feature_names]=np.nan\n",
    "\n",
    "# # collect all patients\n",
    "# for i_p in valid_pat:\n",
    "#     # loop over patients\n",
    "#     df_p = df_operating[(df_operating['patient']==i_p)].copy()\n",
    "    \n",
    "#     if not global_outlier:\n",
    "#         # within subject outliers\n",
    "#         x = df_p['tau']        \n",
    "#         z = np.abs((x-np.nanmean(x))/np.nanstd(x))\n",
    "#         df_p.loc[z>z_outlier, feature_names]=np.nan        \n",
    "        \n",
    "#     # pre-stim epoch\n",
    "#     df_pre = df_p[df_p['cond']==0]\n",
    "    \n",
    "#     # get avg values for delay periods during encoding epoch\n",
    "#     arr_enc = (df_p[df_p['cond']==1].values + df_p[df_p['cond']==2].values)/2    \n",
    "#     df_enc = pd.DataFrame(arr_enc, columns=col_names, index=df_pre.index) \n",
    "\n",
    "#     # log timescale values because non-normal\n",
    "#     if log_tau:\n",
    "#         df_pre['tau'] = log10(df_pre['tau'])\n",
    "#         df_enc['tau'] = log10(df_enc['tau'])\n",
    "    \n",
    "#     # compute feature diff and channel average across trials\n",
    "#     f_collect = []\n",
    "#     n_nans = 0\n",
    "#     for g, g_df in df_pre.groupby('trial'):\n",
    "#         f_pre = df_pre.loc[g_df.index][feature_names]\n",
    "#         f_enc = df_enc.loc[g_df.index][feature_names]\n",
    "\n",
    "#         # compute feature difference\n",
    "#         f_diff = f_enc - f_pre\n",
    "#         # average over channels\n",
    "#         f_collect.append(np.nanmean(f_diff,0))\n",
    "#         # count how many nans to estimate data quality\n",
    "#         n_nans += np.isnan(f_diff).sum()['tau']\n",
    "\n",
    "#     f_collect = np.array(f_collect)\n",
    "\n",
    "#     # t-test on diff of measures\n",
    "#     tval = ttest_1samp(f_collect, 0, nan_policy='omit')[0]\n",
    "#     data_qual = (1-n_nans/len(df_pre))*100\n",
    "    \n",
    "#     # collect\n",
    "#     grand_avg.append(np.concatenate(([data_qual], np.nanmean(f_collect, 0), tval)))\n",
    "    \n",
    "# grand_avg = np.array(grand_avg)\n",
    "\n",
    "# # ----------\n",
    "\n",
    "# # run stats\n",
    "# df_result = pd.DataFrame(grand_avg, index=df_patient_info.index.values[patient_inds], \n",
    "#                          columns=['data_qual'] + [fn+'_diff' for fn in feature_names] + [fn+'_tval' for fn in feature_names])\n",
    "\n",
    "# # pool behavioral data (average of RT and accuracy)\n",
    "# df_patient = pd.concat((df_patient_info.loc[df_result.index], df_result), axis=1)\n",
    "# df_patient['acc'] = df_patient[['acc_identity','acc_spatial','acc_temporal']].mean(1)\n",
    "# df_patient['rt'] = df_patient[['rt_identity','rt_spatial','rt_temporal']].mean(1)\n",
    "\n",
    "# # GLM on accuracy\n",
    "# # mod = smf.ols(formula='acc ~ age + tau_diff + offset_diff + exp_diff + theta_diff + hfa_diff', data=df_patient)\n",
    "# mod = smf.ols(formula='acc ~ age + tau_diff', data=df_patient)\n",
    "# res = mod.fit()\n",
    "# print(res.summary())\n",
    "\n",
    "# # plot \n",
    "# x = df_patient['tau_diff']\n",
    "# y = df_patient['acc']\n",
    "# plt.figure(figsize=(4,4))\n",
    "# plt.plot(x,y, 'ok', alpha=0.6, ms=8)\n",
    "# plt.xlabel('Encoding - Baseline');plt.ylabel('Accuracy');\n",
    "# plt.tight_layout(); despine()\n",
    "# #if save_plot: plt.savefig(fig_path%'corr_tdiff_acc', bbox_inches='tight')\n",
    "\n",
    "# print('-------------')\n",
    "# print('Pearson:', pearsonr(x,y))\n",
    "# print('Spearman: ', spearmanr(x,y,nan_policy='omit'))\n",
    "\n",
    "# print('------------')\n",
    "# print([fn+'_tval' for fn in feature_names])\n",
    "# print(ttest_1samp(df_patient[[fn+'_tval' for fn in feature_names]], 0)[1])"
   ]
  },
  {
   "cell_type": "code",
   "execution_count": null,
   "metadata": {},
   "outputs": [],
   "source": []
  }
 ],
 "metadata": {
  "kernelspec": {
   "display_name": "Python 3",
   "language": "python",
   "name": "python3"
  },
  "language_info": {
   "codemirror_mode": {
    "name": "ipython",
    "version": 3
   },
   "file_extension": ".py",
   "mimetype": "text/x-python",
   "name": "python",
   "nbconvert_exporter": "python",
   "pygments_lexer": "ipython3",
   "version": "3.7.6"
  }
 },
 "nbformat": 4,
 "nbformat_minor": 4
}
